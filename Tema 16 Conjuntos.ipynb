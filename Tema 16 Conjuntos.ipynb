{
 "cells": [
  {
   "cell_type": "markdown",
   "id": "cc7d800c",
   "metadata": {},
   "source": [
    "# Unidad 16 - Conjuntos\n",
    "\n",
    "Los conjuntos son colecciones mutables sin elementos repetidos. Al igual que los dicionarios (que son conjuntos de pares) los conjuntos no son secuencias. Esto significa que los elementos no ocupan una posición concreta y, por tanto, no se pueden indexar.\n",
    "\n",
    "Un literal de conjunto tiene la siguiente sintaxis:\n",
    "\n",
    "      {exp_0, exp_1, exp_2, ..., exp_n}\n",
    "\n",
    "Es decir, aparecen los valores que contiene el conjunto separados por comas y encerrados entre corchetes:"
   ]
  },
  {
   "cell_type": "code",
   "execution_count": null,
   "id": "fc5f3f09",
   "metadata": {},
   "outputs": [],
   "source": [
    "primos = { 2, 3, 5, 7, 11, 13, 17 }\n",
    "primos"
   ]
  },
  {
   "cell_type": "code",
   "execution_count": null,
   "id": "5fe3c31d",
   "metadata": {},
   "outputs": [],
   "source": [
    "colores = { \"rojo\", \"verde\", \"azul\", \"amarillo\" }\n",
    "colores"
   ]
  },
  {
   "cell_type": "markdown",
   "id": "0a43d18b",
   "metadata": {},
   "source": [
    "El tipo de los elementos de un conjunto está limitado: los elementos deben ser de tipos inmutables (`int` ,`float`, `str`,...):"
   ]
  },
  {
   "cell_type": "code",
   "execution_count": null,
   "id": "9584c4b6",
   "metadata": {},
   "outputs": [],
   "source": [
    "valido = { True, \"rojo\", 2 * 3, 15 / 6 }  ## válido\n",
    "valido"
   ]
  },
  {
   "cell_type": "code",
   "execution_count": null,
   "id": "c695b51f",
   "metadata": {
    "scrolled": true
   },
   "outputs": [],
   "source": [
    "no_valido = { True, \"rojo\", 2 * 3, 15 / 6, [1, 2, 3] }  ## no válido: no puede contener una lista"
   ]
  },
  {
   "cell_type": "markdown",
   "id": "fae4a85c",
   "metadata": {},
   "source": [
    "El tipo de los conjuntos se llama `set`, y no refleja ni su tamaño ni el tipo de sus elementos:"
   ]
  },
  {
   "cell_type": "code",
   "execution_count": null,
   "id": "507732d2",
   "metadata": {},
   "outputs": [],
   "source": [
    "print(type(primos))\n",
    "print(type(colores))\n",
    "print(type(mixto))"
   ]
  },
  {
   "cell_type": "markdown",
   "id": "4a3ba9f7",
   "metadata": {},
   "source": [
    "Para construir un conjunto vacío debemos utilizar la función `set()` (el literal `{}` rerpesenta un diccionario vacío):"
   ]
  },
  {
   "cell_type": "code",
   "execution_count": null,
   "id": "933de279",
   "metadata": {},
   "outputs": [],
   "source": [
    "vacio = set()\n",
    "print(type(vacio))\n",
    "print(type({}))\n",
    "vacio"
   ]
  },
  {
   "cell_type": "markdown",
   "id": "6e7e8bfb",
   "metadata": {},
   "source": [
    "## Operaciones sobre conjuntos\n",
    "\n",
    "Los conjuntos soportan la función `len()` y los operadores `in` y `not in`:"
   ]
  },
  {
   "cell_type": "code",
   "execution_count": null,
   "id": "02c3d54d",
   "metadata": {},
   "outputs": [],
   "source": [
    "print(primos)\n",
    "print(len(primos))\n",
    "print(2 in primos)\n",
    "print(4 in primos)"
   ]
  },
  {
   "cell_type": "markdown",
   "id": "cd6adf2d",
   "metadata": {},
   "source": [
    "## Unión, intersección y diferencia de conjuntos\n",
    "\n",
    "Los conjuntos soportan tres operadores muy importantes:\n",
    "\n",
    "- **unión**: `A | B` es el conjunto formado por los elementos que están en `A` o en `B`\n",
    "- **intersección**: `A & B` es el conjunto formado por los elementos que están en `A` y en `B` (i.e. los comunes)\n",
    "- **diferencia**: `A - B` es el conjunto formado por los elementos de `A` que no están en `B`"
   ]
  },
  {
   "cell_type": "code",
   "execution_count": null,
   "id": "4a9e5a44",
   "metadata": {},
   "outputs": [],
   "source": [
    "a = { 1, 2, 3, 4, 5, 7, 8, 9, 10 }\n",
    "b = { 0, 2, 4, 6, 8, 10}\n",
    "\n",
    "print(\"a =\", a)\n",
    "print(\"b =\", b)\n",
    "print()\n",
    "print(\"a | b =\", a | b)\n",
    "print(\"a & b =\", a & b)\n",
    "print(\"a - b =\", a - b)\n",
    "print(\"b - a =\", b - a)"
   ]
  },
  {
   "cell_type": "markdown",
   "id": "35a94493",
   "metadata": {},
   "source": [
    "## Métodos sobre conjuntos"
   ]
  },
  {
   "cell_type": "markdown",
   "id": "34097c45",
   "metadata": {},
   "source": [
    "Los conjuntos soportan, entre otros, los siguientes métodos:\n",
    "    \n",
    "| Método         | Significado                       |\n",
    "|----------------|-----------------------------------|\n",
    "| `s.add(x)`     | añade `x` a `s`                   |\n",
    "| `s.remove(x)`  | elimina `x` de `s`                |\n",
    "| `s.discard(x)` | elimina `x` de `s`                |\n",
    "| `s.clear()`    | elimina todos los elementos de `s`|"
   ]
  },
  {
   "cell_type": "code",
   "execution_count": null,
   "id": "f30e6174",
   "metadata": {},
   "outputs": [],
   "source": [
    "s = set(range(0,10))\n",
    "print(s)\n",
    "s.add(-1000)\n",
    "s.add(0)\n",
    "print(s)"
   ]
  },
  {
   "cell_type": "code",
   "execution_count": null,
   "id": "f85ec7f8",
   "metadata": {},
   "outputs": [],
   "source": [
    "print(s)\n",
    "s.remove(5)  # ¿qué pasa si evaluamos dos veces esta celda?\n",
    "print(s)"
   ]
  },
  {
   "cell_type": "code",
   "execution_count": null,
   "id": "f35fadb4",
   "metadata": {},
   "outputs": [],
   "source": [
    "print(s)\n",
    "s.discard(2)  # ¿qué pasa si evaluamos dos veces esta celda?\n",
    "print(s)"
   ]
  },
  {
   "cell_type": "code",
   "execution_count": null,
   "id": "d2238d70",
   "metadata": {},
   "outputs": [],
   "source": [
    "print(s)\n",
    "s.clear()\n",
    "print(s)"
   ]
  },
  {
   "cell_type": "markdown",
   "id": "f3847955",
   "metadata": {},
   "source": [
    "## Iteración sobre conjuntos\n",
    "\n",
    "Podemos utilizar un conjunto como fuente de datos en un bucle `for`:"
   ]
  },
  {
   "cell_type": "code",
   "execution_count": null,
   "id": "f1e7bc88",
   "metadata": {},
   "outputs": [],
   "source": [
    "primos = { 2, 3, 5, 7, 11, 13, 17 }\n",
    "\n",
    "for p in primos:\n",
    "    print(p)"
   ]
  }
 ],
 "metadata": {
  "kernelspec": {
   "display_name": "Python 3 (ipykernel)",
   "language": "python",
   "name": "python3"
  },
  "language_info": {
   "codemirror_mode": {
    "name": "ipython",
    "version": 3
   },
   "file_extension": ".py",
   "mimetype": "text/x-python",
   "name": "python",
   "nbconvert_exporter": "python",
   "pygments_lexer": "ipython3",
   "version": "3.11.4"
  }
 },
 "nbformat": 4,
 "nbformat_minor": 5
}

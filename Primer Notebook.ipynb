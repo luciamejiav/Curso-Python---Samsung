{
 "cells": [
  {
   "cell_type": "markdown",
   "id": "f9fa0bc5",
   "metadata": {},
   "source": [
    "Esto es un notebook de ejemplo. Esta es la segunda línea del párrafo.\n",
    "\n",
    "Este es el segundo párrafo.\n",
    "\n",
    "Esto está en **negrita**.\n",
    "\n",
    "Esto está en _cursiva_.\n",
    "\n",
    "Esto es `monoespaciado`.\n",
    "\n",
    "Para ejecutar una celda pulsar `Ctrl-Intro`.\n",
    "\n",
    "Para borrar una celda pulsar dos veces la `D (D-D)` (_delete_).\n",
    "\n",
    "[Home page de python](https://www.python.org/)\n",
    "\n",
    "Lista de ciudades a visitar:\n",
    "- Mahttps://firefly.adobe.com/?workflow=route-to-pathdrid\n",
    "- París\n",
    "- Londres\n",
    "- Roma\n",
    "- Venecia\n",
    "\n",
    "Lista numerada:\n",
    "1. Primero\n",
    "1. Primero y medio\n",
    "1. Segundo\n",
    "1. Tercero\n",
    "\n",
    "\n",
    "\n",
    "\n",
    "Cómo crear una tabla en markdown:\n",
    "\n",
    "| Ciudad | Prefijo |\n",
    "|--------|---------|\n",
    "| Málaga | 952     |\n",
    "| Madrid | 91      |\n",
    "| Las Palmas | 928 |\n",
    "| Sevilla | 954 |\n",
    "\n",
    "Introducir ecuaciones, utilizamos LaTeX. El área de un círculo de radio $r$ es $A = \\pi r^2$.\n",
    "\n",
    "El volumen $V$ de una esfera de radio $r$ es:\n",
    "$$\n",
    "V = \\frac{4}{3} \\pi r^3\n",
    "$$"
   ]
  }
 ],
 "metadata": {
  "kernelspec": {
   "display_name": "Python 3 (ipykernel)",
   "language": "python",
   "name": "python3"
  },
  "language_info": {
   "codemirror_mode": {
    "name": "ipython",
    "version": 3
   },
   "file_extension": ".py",
   "mimetype": "text/x-python",
   "name": "python",
   "nbconvert_exporter": "python",
   "pygments_lexer": "ipython3",
   "version": "3.10.9"
  }
 },
 "nbformat": 4,
 "nbformat_minor": 5
}

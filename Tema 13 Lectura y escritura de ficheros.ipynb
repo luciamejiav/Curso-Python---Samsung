{
 "cells": [
  {
   "cell_type": "markdown",
   "metadata": {},
   "source": [
    "## Lectura y escritura de ficheros"
   ]
  },
  {
   "cell_type": "markdown",
   "metadata": {},
   "source": [
    "### 1. Reading and writing text files:"
   ]
  },
  {
   "cell_type": "code",
   "execution_count": 1,
   "metadata": {},
   "outputs": [],
   "source": [
    "import os"
   ]
  },
  {
   "cell_type": "code",
   "execution_count": 2,
   "metadata": {},
   "outputs": [
    {
     "data": {
      "text/plain": [
       "'C:\\\\Users\\\\Lucía\\\\CURSO SAMSUNG'"
      ]
     },
     "execution_count": 2,
     "metadata": {},
     "output_type": "execute_result"
    }
   ],
   "source": [
    "# ADD CODE. Get the current working directory (use getcwd of the os library)\n",
    "os.getcwd()"
   ]
  },
  {
   "cell_type": "code",
   "execution_count": 5,
   "metadata": {},
   "outputs": [
    {
     "name": "stdout",
     "output_type": "stream",
     "text": [
      "C:\\Users\\Lucía\\CURSO SAMSUNG\n"
     ]
    }
   ],
   "source": [
    "# ADD CODE. Go to the directory where the file named \"my_file.txt\" is located (use chdir)\n",
    "#old_path = '/Users/rafaelmarcos/Library/CloudStorage/OneDrive-UniversidaddeMálaga/UMA/Curso_2023_2024/CursoSamsung_Mujeres/Clase 4'\n",
    "os.chdir(\"/Users/Lucía/CURSO SAMSUNG\")\n",
    "print(os.getcwd())"
   ]
  },
  {
   "cell_type": "code",
   "execution_count": 7,
   "metadata": {},
   "outputs": [
    {
     "ename": "FileNotFoundError",
     "evalue": "[WinError 2] El sistema no puede encontrar el archivo especificado: 'C:\\\\Users\\\\Tema 13 Lectura y escritura de ficheros (solved)'",
     "output_type": "error",
     "traceback": [
      "\u001b[1;31m---------------------------------------------------------------------------\u001b[0m",
      "\u001b[1;31mFileNotFoundError\u001b[0m                         Traceback (most recent call last)",
      "Cell \u001b[1;32mIn[7], line 2\u001b[0m\n\u001b[0;32m      1\u001b[0m path \u001b[38;5;241m=\u001b[39m \u001b[38;5;124m\"\u001b[39m\u001b[38;5;124mC:\u001b[39m\u001b[38;5;130;01m\\\\\u001b[39;00m\u001b[38;5;124mUsers\u001b[39m\u001b[38;5;130;01m\\\\\u001b[39;00m\u001b[38;5;124mTema 13 Lectura y escritura de ficheros (solved)\u001b[39m\u001b[38;5;124m\"\u001b[39m\n\u001b[1;32m----> 2\u001b[0m \u001b[43mos\u001b[49m\u001b[38;5;241;43m.\u001b[39;49m\u001b[43mchdir\u001b[49m\u001b[43m(\u001b[49m\u001b[43mpath\u001b[49m\u001b[43m)\u001b[49m\n\u001b[0;32m      3\u001b[0m \u001b[38;5;28mprint\u001b[39m(os\u001b[38;5;241m.\u001b[39mgetcwd())\n",
      "\u001b[1;31mFileNotFoundError\u001b[0m: [WinError 2] El sistema no puede encontrar el archivo especificado: 'C:\\\\Users\\\\Tema 13 Lectura y escritura de ficheros (solved)'"
     ]
    }
   ],
   "source": [
    "path = \"C:\\\\Users\\\\Tema 13 Lectura y escritura de ficheros (solved)\"\n",
    "os.chdir(path)\n",
    "print(os.getcwd())"
   ]
  },
  {
   "cell_type": "code",
   "execution_count": 9,
   "metadata": {},
   "outputs": [
    {
     "name": "stdout",
     "output_type": "stream",
     "text": [
      "Life\n",
      "is\n",
      "short, \n",
      "You\n",
      "need \n",
      "Python!\n"
     ]
    }
   ],
   "source": [
    "# ADD CODE. Open the text file \"my_file.txt\" in read mode.\n",
    "f = open('Tema 13 fichero de ejemplo.txt', 'r')   \n",
    "\n",
    "# ADD CODE. Read in all at once.\n",
    "texto = f.read()  \n",
    "\n",
    "# ADD CODE. Print out all at once.\n",
    "print(texto)              \n",
    "\n",
    "# ADD CODE. Close the file using the \"close\" function of the handle f\n",
    "f.close()                   "
   ]
  },
  {
   "cell_type": "code",
   "execution_count": 10,
   "metadata": {},
   "outputs": [
    {
     "name": "stdout",
     "output_type": "stream",
     "text": [
      "Life\n",
      "is\n",
      "short, \n",
      "You\n",
      "need \n",
      "Python!"
     ]
    }
   ],
   "source": [
    "# ADD CODE. Open the text file \"my_file.txt\" in read mode.\n",
    "f = open('Tema 13 fichero de ejemplo.txt', 'r')  \n",
    "\n",
    "# ADD CODE. Read all the lines of the file\n",
    "all = f.readlines()  \n",
    "# ADD CODE. Print out line by line.\n",
    "for i in all:\n",
    "     print(i, end='')             \n",
    "\n",
    "# ADD CODE. Close the file using the \"close\" function of the handle f\n",
    "f.close()"
   ]
  },
  {
   "cell_type": "code",
   "execution_count": 11,
   "metadata": {},
   "outputs": [],
   "source": [
    "# ADD CODE. Open the text file \"new_file.txt\" in write mode.\n",
    "f = open('Tema 13 fichero de ejemplo.txt','w')\n",
    "# ADD CODE. Write the sentence 'This is a new file.'\n",
    "f.write('This is a new file.')\n",
    "# ADD CODE. Close the file.\n",
    "f.close()"
   ]
  },
  {
   "cell_type": "code",
   "execution_count": 12,
   "metadata": {},
   "outputs": [],
   "source": [
    "# ADD CODE. Open the text file \"new_file.txt\" in write mode.\n",
    "f = open('Tema 13 fichero de ejemplo.txt','w')                 # It opens again the same file in write mode. (Overwrite)\n",
    "# ADD CODE. Write the sentence 'This is another file!'\n",
    "f.write('This is another file!')\n",
    "# ADD CODE. Close the file.\n",
    "f.close()"
   ]
  },
  {
   "cell_type": "code",
   "execution_count": 13,
   "metadata": {},
   "outputs": [],
   "source": [
    "# ADD CODE. Open the text file \"new_file.txt\" in append mode.\n",
    "f = open('Tema 13 fichero de ejemplo.txt','a')  \n",
    "# ADD CODE. Write the sentence 'This is the end!'\n",
    "f.write('This is the end!')                     # The sentence will be appended at the end of the file.\n",
    "# ADD CODE. Close the file.\n",
    "f.close()"
   ]
  },
  {
   "cell_type": "markdown",
   "metadata": {},
   "source": [
    "### 2. Using the Pickle library:"
   ]
  },
  {
   "cell_type": "code",
   "execution_count": 14,
   "metadata": {},
   "outputs": [],
   "source": [
    "#!pip install pickle"
   ]
  },
  {
   "cell_type": "code",
   "execution_count": 15,
   "metadata": {},
   "outputs": [],
   "source": [
    "# Import the library.\n",
    "import pickle"
   ]
  },
  {
   "cell_type": "code",
   "execution_count": 16,
   "metadata": {},
   "outputs": [
    {
     "name": "stdout",
     "output_type": "stream",
     "text": [
      "[1, 2, 3, {'Name': 'John', 'Age': 25, 'Score': 9}]\n"
     ]
    }
   ],
   "source": [
    "x = [1,2,3, {'Name':'John', 'Age':25, 'Score':9}]         # An object.\n",
    "print(x)"
   ]
  },
  {
   "cell_type": "code",
   "execution_count": 17,
   "metadata": {},
   "outputs": [],
   "source": [
    "# ADD CODE. Use the \"dump\" function\n",
    "#f = open('my_pickle.pkl','wb')\n",
    "#pickle.dump(x,f)                # To be pickled.\n",
    "#f.close()\n",
    "\n",
    "pickle.dump(x,open('my_pickle.pkl','wb'))"
   ]
  },
  {
   "cell_type": "code",
   "execution_count": 42,
   "metadata": {},
   "outputs": [
    {
     "name": "stdout",
     "output_type": "stream",
     "text": [
      "x\n"
     ]
    }
   ],
   "source": [
    "# ADD CODE. Delete the \"x\" variable\n",
    "del x\n",
    "# ADD CODE. Print the \"x\" variable. It should provides an error\n",
    "print('x')"
   ]
  },
  {
   "cell_type": "code",
   "execution_count": 19,
   "metadata": {},
   "outputs": [
    {
     "name": "stdout",
     "output_type": "stream",
     "text": [
      "[1, 2, 3, {'Name': 'John', 'Age': 25, 'Score': 9}]\n"
     ]
    }
   ],
   "source": [
    "# ADD CODE. Use the \"load\" function\n",
    "new_x = pickle.load(open('my_pickle.pkl','rb'))           # Bring back the pickled object.\n",
    "print(new_x)"
   ]
  },
  {
   "cell_type": "code",
   "execution_count": 41,
   "metadata": {},
   "outputs": [
    {
     "name": "stdout",
     "output_type": "stream",
     "text": [
      "[3, 2, 4, 5, 7, 6]\n"
     ]
    }
   ],
   "source": [
    "def partition1(S, low, high):\n",
    "    pivot, left, right = S[low], low, high\n",
    "    while left < right:\n",
    "        while left < high and S[left] <= pivot:\n",
    "            left += 1\n",
    "        while right > low  and pivot <= S[right]:\n",
    "            right -= 1\n",
    "        if left < right:\n",
    "            S[left], S[right] = S[right], S[left]\n",
    "    S[low], S[right] = S[right], S[low]\n",
    "    return right\n",
    "\n",
    "S = [5, 2, 7, 3, 4, 6]\n",
    "partition1(S, 0, len(S) - 1)\n",
    "print(S)\n"
   ]
  },
  {
   "cell_type": "code",
   "execution_count": null,
   "metadata": {},
   "outputs": [],
   "source": []
  }
 ],
 "metadata": {
  "kernelspec": {
   "display_name": "Python 3 (ipykernel)",
   "language": "python",
   "name": "python3"
  },
  "language_info": {
   "codemirror_mode": {
    "name": "ipython",
    "version": 3
   },
   "file_extension": ".py",
   "mimetype": "text/x-python",
   "name": "python",
   "nbconvert_exporter": "python",
   "pygments_lexer": "ipython3",
   "version": "3.10.9"
  }
 },
 "nbformat": 4,
 "nbformat_minor": 2
}

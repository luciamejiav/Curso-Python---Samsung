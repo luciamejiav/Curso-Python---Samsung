{
 "cells": [
  {
   "cell_type": "markdown",
   "id": "7c325548",
   "metadata": {},
   "source": [
    "# Unidad 8 - Sentencias Iterativas - I"
   ]
  },
  {
   "cell_type": "markdown",
   "id": "7af3061e",
   "metadata": {},
   "source": [
    "## Razones para usar sentencias iterativas\n",
    "\n",
    "A veces necesitamos repetir unas sentencias un cierto número de veces, por ejemplo:\n",
    "\n",
    "- imprimir cinco veces una frase\n",
    "- avanzar seis calles y después girar a la derecha\n",
    "- imprimir una tabla de los cuadrados del 2 al 6 (Unidad 4. Pair Programming, Q2)"
   ]
  },
  {
   "cell_type": "code",
   "execution_count": null,
   "id": "b53d6a5b",
   "metadata": {},
   "outputs": [],
   "source": [
    "print(\"En clase no se habla\")\n",
    "print(\"En clase no se habla\")\n",
    "print(\"En clase no se habla\")\n",
    "print(\"En clase no se habla\")\n",
    "print(\"En clase no se habla\")"
   ]
  },
  {
   "cell_type": "code",
   "execution_count": null,
   "id": "1e07ec7e",
   "metadata": {},
   "outputs": [],
   "source": [
    "print(\"avanzar una calle\")\n",
    "print(\"avanzar una calle\")\n",
    "print(\"avanzar una calle\")\n",
    "print(\"avanzar una calle\")\n",
    "print(\"avanzar una calle\")\n",
    "print(\"avanzar una calle\")\n",
    "\n",
    "print(\"girar a la derecha\")"
   ]
  },
  {
   "cell_type": "code",
   "execution_count": 1,
   "id": "92a1fd46",
   "metadata": {},
   "outputs": [
    {
     "name": "stdout",
     "output_type": "stream",
     "text": [
      "a \t n \t a ** n\n",
      "2 \t 3 \t 8\n",
      "3 \t 3 \t 27\n",
      "4 \t 3 \t 64\n",
      "5 \t 3 \t 125\n",
      "6 \t 3 \t 216\n"
     ]
    }
   ],
   "source": [
    "# TABLA \n",
    "a = 2\n",
    "n = 3\n",
    "\n",
    "print(\"a \\t n \\t a ** n\")\n",
    "\n",
    "print(a, \"\\t\", n, \"\\t\", a ** n)\n",
    "a += 1\n",
    "print(a, \"\\t\", n, \"\\t\", a ** n)\n",
    "a += 1\n",
    "print(a, \"\\t\", n, \"\\t\", a ** n)\n",
    "a += 1\n",
    "print(a, \"\\t\", n, \"\\t\", a ** n)\n",
    "a += 1\n",
    "print(a, \"\\t\", n, \"\\t\", a ** n)\n",
    "a += 1"
   ]
  },
  {
   "cell_type": "markdown",
   "id": "fbc313ec",
   "metadata": {},
   "source": [
    "Aunque es posible resolver estos problemas sin utilizar sentencias iterativas, las soluciones que obtenemos no son elegantes (repiten mucho código) y son difíciles de adaptar a nuevas situaciones (imprimir 100 veces la frase, avanzar 15 calles o imprimir los cuadrados del 1 al 100, o los cubos del 1 al 10).\n",
    "\n",
    "Las sentencias iterativas permiten repetir cierto código indicando:\n",
    "- una sola vez el código hay que repetir\n",
    "- las veces que hay que repetirlo"
   ]
  },
  {
   "cell_type": "markdown",
   "id": "fb66fa8c",
   "metadata": {},
   "source": [
    "## Repitiendo n veces un código\n",
    "\n",
    "La sentencia `for` permite repetir cierto código. Su sintaxis es:\n",
    "\n",
    "```python\n",
    "for i in range(número_de_veces):\n",
    "    codigo_a_repetir\n",
    "```\n",
    "\n",
    "donde:\n",
    "- El `codigo_a_repetir`es un **bloque** con las sentencias a repetir, se le llama **cuerpo** del bucle\n",
    "- El entero `numero_de_veces` indica cuántas veces se repetirá el código\n",
    "\n",
    "**Nota:** el nombre `i` que aparece entre `for` e `in` puede reemplazar por cualquier otro nombre válido en Python. Por ahora lo ignoraremos."
   ]
  },
  {
   "cell_type": "markdown",
   "id": "d0dc831f",
   "metadata": {},
   "source": [
    "**Ejemplos:** Usa la sentencia `for` para:\n",
    "- escribir 100 veces `En clase no se habla`\n",
    "- avanzar $n$ calles y luego girar a la izquierda (el número $n$ se obtiene por teclado)\n",
    "- imprimir los cuadrados del 1 al 10 (observa que el bloque tiene dos sentencias)"
   ]
  },
  {
   "cell_type": "code",
   "execution_count": 2,
   "id": "f3bd6958",
   "metadata": {
    "scrolled": true
   },
   "outputs": [
    {
     "name": "stdout",
     "output_type": "stream",
     "text": [
      "En clase no se habla\n",
      "En clase no se habla\n",
      "En clase no se habla\n",
      "En clase no se habla\n",
      "En clase no se habla\n"
     ]
    }
   ],
   "source": [
    "for i in range(5):\n",
    "    print(\"En clase no se habla\")"
   ]
  },
  {
   "cell_type": "code",
   "execution_count": 3,
   "id": "ca019f80",
   "metadata": {},
   "outputs": [
    {
     "name": "stdout",
     "output_type": "stream",
     "text": [
      "cuántas calles hay que atravesar: 5\n",
      "avanzar una calle\n",
      "avanzar una calle\n",
      "avanzar una calle\n",
      "avanzar una calle\n",
      "avanzar una calle\n",
      "girar a la izquierda\n"
     ]
    }
   ],
   "source": [
    "num_calles_a_avanzar = int(input(\"cuántas calles hay que atravesar: \"))\n",
    "\n",
    "for i in range(num_calles_a_avanzar):\n",
    "    print(\"avanzar una calle\")\n",
    "\n",
    "print(\"girar a la izquierda\")  "
   ]
  },
  {
   "cell_type": "code",
   "execution_count": 4,
   "id": "77c2091c",
   "metadata": {},
   "outputs": [
    {
     "name": "stdout",
     "output_type": "stream",
     "text": [
      "a \t n \t a ** n\n",
      "2 \t 3 \t 8\n",
      "3 \t 3 \t 27\n",
      "4 \t 3 \t 64\n",
      "5 \t 3 \t 125\n",
      "6 \t 3 \t 216\n",
      "7 \t 3 \t 343\n",
      "8 \t 3 \t 512\n",
      "9 \t 3 \t 729\n",
      "10 \t 3 \t 1000\n"
     ]
    }
   ],
   "source": [
    "a = 2\n",
    "n = 3\n",
    "\n",
    "print(\"a \\t n \\t a ** n\")\n",
    "\n",
    "for i in range(9):\n",
    "    print(a, \"\\t\", n, \"\\t\", a ** n)\n",
    "    a += 1   "
   ]
  },
  {
   "cell_type": "markdown",
   "id": "534c64d0",
   "metadata": {},
   "source": [
    "## Variable de control del bucle `for`\n",
    "\n",
    "El nombre que aparece entre `for` e `in` es una variable, se le llama la **variable de control** del bucle.\n",
    "Si un bucle `for` se repite $n$ veces, la variable de control toma automáticamente los valores $0,1,2,3\\dots n-1$. La variable de control se puede acceder dentro del cuerpo del bucle.\n",
    "\n",
    "Por ejemplo, para el siguiente bucle `for`, la variable de control toma sucesivamente los valores $0,1,2,3,4$:"
   ]
  },
  {
   "cell_type": "code",
   "execution_count": 5,
   "id": "99e02875",
   "metadata": {},
   "outputs": [
    {
     "name": "stdout",
     "output_type": "stream",
     "text": [
      "0\n",
      "1\n",
      "2\n",
      "3\n",
      "4\n"
     ]
    }
   ],
   "source": [
    "for i in range(5): # i = 0, 1, 2, 3, 4\n",
    "    print(i)"
   ]
  },
  {
   "cell_type": "markdown",
   "id": "c8697d73",
   "metadata": {},
   "source": [
    "Puedes elegir cualquier otro nombre para la variable de control, su nombre no afecta al bucle:"
   ]
  },
  {
   "cell_type": "code",
   "execution_count": 6,
   "id": "9db99807",
   "metadata": {
    "scrolled": true
   },
   "outputs": [
    {
     "name": "stdout",
     "output_type": "stream",
     "text": [
      "0\n",
      "1\n",
      "2\n",
      "3\n",
      "4\n"
     ]
    }
   ],
   "source": [
    "for variable_de_control_del_bucle in range(5):\n",
    "    print(variable_de_control_del_bucle)"
   ]
  },
  {
   "cell_type": "markdown",
   "id": "86b65701",
   "metadata": {},
   "source": [
    "**Ejemplos**: Usa la sentencia `for` para:\n",
    "- imprimir la frase \"En clase no se copia\", indicando además cada frase con el número de copias que llevas\n",
    "- imprimir la tabla de multiplicar de un entero $n$ leído de teclado\n",
    "- imprimir la tabla de cuadrados del 1 al 10"
   ]
  },
  {
   "cell_type": "code",
   "execution_count": 7,
   "id": "3c466672",
   "metadata": {},
   "outputs": [
    {
     "name": "stdout",
     "output_type": "stream",
     "text": [
      "LLevo 0 copias: En clase no se habla\n",
      "LLevo 1 copias: En clase no se habla\n",
      "LLevo 2 copias: En clase no se habla\n",
      "LLevo 3 copias: En clase no se habla\n",
      "LLevo 4 copias: En clase no se habla\n"
     ]
    }
   ],
   "source": [
    "for i in range(5): # i = 0,1,2,3,4\n",
    "    print(\"LLevo\", i, \"copias: En clase no se habla\")"
   ]
  },
  {
   "cell_type": "code",
   "execution_count": 12,
   "id": "f2e16919",
   "metadata": {
    "scrolled": true
   },
   "outputs": [
    {
     "name": "stdout",
     "output_type": "stream",
     "text": [
      "En clase no se habla. LLevo 1 copias\n",
      "En clase no se habla. LLevo 2 copias\n",
      "En clase no se habla. LLevo 3 copias\n",
      "En clase no se habla. LLevo 4 copias\n",
      "En clase no se habla. LLevo 5 copias\n"
     ]
    }
   ],
   "source": [
    "for i in range(5): # i = 0,1,2,3,4\n",
    "    print(\"En clase no se habla. LLevo\", i + 1, \"copias\") # i + 1 para que no salga el 0"
   ]
  },
  {
   "cell_type": "code",
   "execution_count": 9,
   "id": "08b02b77",
   "metadata": {},
   "outputs": [
    {
     "name": "stdout",
     "output_type": "stream",
     "text": [
      "qué tabla quieres? 5\n",
      "5 x 1 = 5\n",
      "5 x 2 = 10\n",
      "5 x 3 = 15\n",
      "5 x 4 = 20\n",
      "5 x 5 = 25\n",
      "5 x 6 = 30\n",
      "5 x 7 = 35\n",
      "5 x 8 = 40\n",
      "5 x 9 = 45\n",
      "5 x 10 = 50\n"
     ]
    }
   ],
   "source": [
    "n = int(input(\"qué tabla quieres? \"))\n",
    "\n",
    "for i in range(10): # i= 0,1,2...9\n",
    "    print(n, \"x\", i + 1 , \"=\", n * (i + 1) )  # 5 x 3 = 15"
   ]
  },
  {
   "cell_type": "code",
   "execution_count": 10,
   "id": "02b79a43",
   "metadata": {},
   "outputs": [
    {
     "name": "stdout",
     "output_type": "stream",
     "text": [
      "i \t n \t i ** n\n",
      "1 \t 2 \t 1\n",
      "2 \t 2 \t 4\n",
      "3 \t 2 \t 9\n",
      "4 \t 2 \t 16\n",
      "5 \t 2 \t 25\n",
      "6 \t 2 \t 36\n",
      "7 \t 2 \t 49\n",
      "8 \t 2 \t 64\n",
      "9 \t 2 \t 81\n",
      "10 \t 2 \t 100\n"
     ]
    }
   ],
   "source": [
    "n = 2\n",
    "\n",
    "print(\"i \\t n \\t i ** n\")\n",
    "\n",
    "for i in range(10): # i = 0,1, ...9\n",
    "    print((i + 1), \"\\t\", n, \"\\t\", (i + 1) ** n)"
   ]
  },
  {
   "cell_type": "markdown",
   "id": "633c8987",
   "metadata": {},
   "source": [
    "### Variable de control anónima\n",
    "\n",
    "A veces el cuerpo del bucle no necesita acceder a la variable de control. En tales ocasiones, podemos utilizar la variable de control _anónima_, `_`:\n",
    "\n",
    "```python\n",
    "for _ in range(número_de_veces):\n",
    "    codigo_a_repetir\n",
    "```"
   ]
  },
  {
   "cell_type": "code",
   "execution_count": 11,
   "id": "931a0554",
   "metadata": {},
   "outputs": [
    {
     "name": "stdout",
     "output_type": "stream",
     "text": [
      "En clase no se habla\n",
      "En clase no se habla\n",
      "En clase no se habla\n",
      "En clase no se habla\n",
      "En clase no se habla\n"
     ]
    }
   ],
   "source": [
    "for _ in range(5):\n",
    "    print(\"En clase no se habla\")"
   ]
  },
  {
   "cell_type": "markdown",
   "id": "d8eec465",
   "metadata": {},
   "source": [
    "## Repitiendo para una secuencia aritmética de valores\n",
    "\n",
    "Los ejemplos anteriores repiten el cuerpo del bucle $n$ veces: si no necesitamos saber en qué repetición nos encontramos, podemos usar la variable anónima; de lo contrario utilizamos una variable de control cuyos valores serán $0,1,2,3\\dots n-1$.\n",
    "\n",
    "A veces necesitamos repetir un código de forma de la variable de control no vaya de $0$ a $n-1$, sino que tome valores equidistantes dentro de un rango dado:\n",
    "- los números pares entre 0 y 20\n",
    "- los números impares entre 1 y 100\n",
    "- los números entre 10 y 0, en orden decreciente\n",
    "\n",
    "Para tales casos debemos indicar en `range` el valor  inicial, el valor final (sin incluir) y la diferencia entre los números visitados (recuerda, son equidistantes):\n",
    "\n",
    "```python\n",
    "   range(inicio, fin, diferencia)\n",
    "```\n",
    "\n",
    "La variable control tomará los valores en el intervalo $[\\textrm{inicio}, \\textrm{inicio} + \\textrm{diferencia}, \\textrm{inicio} + 2 \\times \\textrm{diferencia}  \\dots \\textrm{fin} )$. Recuerda, el valor $\\textrm{fin}$ no está incluido."
   ]
  },
  {
   "cell_type": "code",
   "execution_count": 13,
   "id": "77c66ff7",
   "metadata": {
    "scrolled": true
   },
   "outputs": [
    {
     "name": "stdout",
     "output_type": "stream",
     "text": [
      "1\n",
      "6\n",
      "11\n",
      "16\n",
      "21\n",
      "26\n"
     ]
    }
   ],
   "source": [
    "for i in range(1, 30, 5): # i = 1, 6, 11, 16, 21, 26 (sumando 5) del 1 al 30 sumando de 5 en 5 sin incluir el 30\n",
    "    print(i)"
   ]
  },
  {
   "cell_type": "code",
   "execution_count": 14,
   "id": "6d48367d",
   "metadata": {},
   "outputs": [
    {
     "name": "stdout",
     "output_type": "stream",
     "text": [
      "1\n",
      "6\n",
      "11\n",
      "16\n",
      "21\n"
     ]
    }
   ],
   "source": [
    "for i in range(1, 26, 5): # i = 1, 6, 11, 16, 21, 26 (sumando 5) del 1 al 26 sumando de 5 en 5 sin incluir el 26\n",
    "    print(i)\n",
    "    \n",
    "#range(n) = range(0, n, 1) si solo pongo un valor da por hecho que es el último\n",
    "#range(i, j) = range(i, j, 1) si pongo dos da por hecho que se avanza de uno en uno"
   ]
  },
  {
   "cell_type": "code",
   "execution_count": 15,
   "id": "bd0b293a",
   "metadata": {},
   "outputs": [
    {
     "name": "stdout",
     "output_type": "stream",
     "text": [
      "1\n",
      "2\n",
      "3\n",
      "4\n",
      "5\n",
      "6\n",
      "7\n",
      "8\n",
      "9\n"
     ]
    }
   ],
   "source": [
    "for i in range(1,10):  # range(i,j)  == range(i,j,1)\n",
    "    print(i)"
   ]
  },
  {
   "cell_type": "markdown",
   "id": "d497818c",
   "metadata": {},
   "source": [
    "**Ejemplos**: Usa sentencias `for` con rangos completos para:\n",
    "- calcular la suma de los enteros entre 1 y 100\n",
    "- calcular el factorial de un número leído por teclado\n",
    "- imprimir una cuenta atrás como la que se usa al lanzar un cohete"
   ]
  },
  {
   "cell_type": "code",
   "execution_count": 16,
   "id": "5162d003",
   "metadata": {
    "scrolled": true
   },
   "outputs": [
    {
     "name": "stdout",
     "output_type": "stream",
     "text": [
      "0 1\n",
      "1\n",
      "1 2\n",
      "3\n",
      "3 3\n",
      "6\n",
      "6 4\n",
      "10\n",
      "10 5\n",
      "15\n",
      "15 6\n",
      "21\n",
      "21 7\n",
      "28\n",
      "28 8\n",
      "36\n",
      "36 9\n",
      "45\n",
      "45 10\n",
      "55\n",
      "55\n"
     ]
    }
   ],
   "source": [
    "suma = 0  # inicializar acumulador\n",
    "\n",
    "for i in range(1, 100 + 1, 1): # i = 1, 2, 3, 4, 5.... 100\n",
    "    print(suma, i)            # suma = 1, (1+2), (1+2+3), (1 + 2 + 3 + 4)\n",
    "    suma += i # actualizar acumulador\n",
    "    print(suma)\n",
    "\n",
    "print(suma)  # al salir del bucle el acumulador tiene la solución  "
   ]
  },
  {
   "cell_type": "code",
   "execution_count": 17,
   "id": "ffb5021b",
   "metadata": {},
   "outputs": [
    {
     "data": {
      "text/plain": [
       "5050"
      ]
     },
     "execution_count": 17,
     "metadata": {},
     "output_type": "execute_result"
    }
   ],
   "source": [
    "sum(range(1,101))  # la función predefinida sum suma los valores de un rango"
   ]
  },
  {
   "cell_type": "code",
   "execution_count": 18,
   "id": "ff23efe1",
   "metadata": {
    "scrolled": false
   },
   "outputs": [
    {
     "name": "stdout",
     "output_type": "stream",
     "text": [
      "de qué número quieres el factorial? 5\n",
      "120\n"
     ]
    }
   ],
   "source": [
    "n = int(input(\"de qué número quieres el factorial? \"))\n",
    "\n",
    "# factorial de n = n! = 1 * 2 * 3 * 4 * 5 *... * (n-1) * n\n",
    "# 5! = 1 * 2 * 3 * 4 * 5 = 120\n",
    "\n",
    "producto = 1\n",
    "for i in range(1, n + 1, 1):\n",
    "    producto *= i\n",
    "    \n",
    "print(producto)"
   ]
  },
  {
   "cell_type": "code",
   "execution_count": 19,
   "id": "f838c0b9",
   "metadata": {},
   "outputs": [
    {
     "name": "stdout",
     "output_type": "stream",
     "text": [
      "10\n",
      "9\n",
      "8\n",
      "7\n",
      "6\n",
      "5\n",
      "4\n",
      "3\n",
      "2\n",
      "1\n",
      "0\n",
      "Se acabó la clase!\n"
     ]
    }
   ],
   "source": [
    "for i in range(10, -1, -1): #para hacer una cuenta atrás tenemos que poner -1 para ir para atrás\n",
    "    print(i)\n",
    "    \n",
    "print(\"Se acabó la clase!\")"
   ]
  },
  {
   "cell_type": "markdown",
   "id": "e29e20a8",
   "metadata": {},
   "source": [
    "## Repitiendo para una secuencia arbitraria de valores\n",
    "\n",
    "A veces queremos repetir un código para una secuencia de enteros que no son equidistantes (no forman una secuencia aritmética). En tal caso, no podemos utilizar `range`; debemos facilitar todos los valores que queremos visitar encerrados entre corchetes y separados por comas:\n",
    "\n",
    "```python\n",
    "for i in [x0, x1, x2, ..., xn]:\n",
    "    codigo_a_repetir\n",
    "```\n",
    "\n",
    "En tal caso, el código se repetirá $n+1$ veces, y la variable de control tomará los valores $x_0, x_1, x_2\\dots x_n$.\n",
    "\n",
    "Además, los valores $x_i$ no tienen que ser enteros; pueden ser flotantes, cadenas, booleanos, o cualquier otro tipo Python. De hecho, ni siquiera es necesario que todos los valores de la secuencia tengan el mismo tipo.\n",
    "\n",
    "**Nota:** La expresión `[x0, x1, x2, ..., xn]` es una lista; las estudiaremos en el siguiente capítulo."
   ]
  },
  {
   "cell_type": "code",
   "execution_count": 20,
   "id": "ab1f3c63",
   "metadata": {
    "scrolled": true
   },
   "outputs": [
    {
     "name": "stdout",
     "output_type": "stream",
     "text": [
      "2\n",
      "3\n",
      "5\n",
      "7\n",
      "11\n",
      "13\n",
      "17\n"
     ]
    }
   ],
   "source": [
    "for i in [2, 3, 5, 7, 11, 13, 17]: #para imprimir todos los números, incluido el último\n",
    "    print(i) "
   ]
  },
  {
   "cell_type": "code",
   "execution_count": null,
   "id": "27030e60",
   "metadata": {},
   "outputs": [],
   "source": [
    "for i in [7]:\n",
    "    print(i)"
   ]
  },
  {
   "cell_type": "code",
   "execution_count": null,
   "id": "267a72d4",
   "metadata": {},
   "outputs": [],
   "source": [
    "for i in []: #bucle vacío\n",
    "    print(i)\n",
    "    \n",
    "print(\"bucle vacío\")"
   ]
  },
  {
   "cell_type": "code",
   "execution_count": 21,
   "id": "db819730",
   "metadata": {},
   "outputs": [
    {
     "name": "stdout",
     "output_type": "stream",
     "text": [
      "2\n",
      "3\n",
      "5\n",
      "7\n",
      "11\n",
      "13\n",
      "17\n"
     ]
    }
   ],
   "source": [
    "primos = [2, 3, 5, 7, 11, 13, 17]\n",
    "\n",
    "for primo in primos:\n",
    "    print(primo)"
   ]
  },
  {
   "cell_type": "code",
   "execution_count": 23,
   "id": "ccdd6df5",
   "metadata": {},
   "outputs": [
    {
     "name": "stdout",
     "output_type": "stream",
     "text": [
      "7\n"
     ]
    }
   ],
   "source": [
    "for i in range(7,8):   #solo queremos que imprima el 7 así que ponemos el primer y último nº\n",
    "    print(i)"
   ]
  },
  {
   "cell_type": "code",
   "execution_count": 22,
   "id": "a8f0a639",
   "metadata": {},
   "outputs": [
    {
     "name": "stdout",
     "output_type": "stream",
     "text": [
      "bucle vacío\n"
     ]
    }
   ],
   "source": [
    "for i in range(7,7):   # bucle vacío, si ponemos range(0) también es un bucle vacío\n",
    "    print(i)\n",
    "    \n",
    "print(\"bucle vacío\")   "
   ]
  },
  {
   "cell_type": "code",
   "execution_count": 24,
   "id": "70276728",
   "metadata": {},
   "outputs": [
    {
     "name": "stdout",
     "output_type": "stream",
     "text": [
      "Ha intervenido Susana\n",
      "Ha intervenido Haridian\n",
      "Ha intervenido Indiana\n",
      "Ha intervenido Lara\n",
      "Ha intervenido Ana María\n",
      "Ha intervenido Raquel\n"
     ]
    }
   ],
   "source": [
    "for nombre in [\"Susana\", \"Haridian\", \"Indiana\", \"Lara\", \"Ana María\", \"Raquel\"]:\n",
    "    print(\"Ha intervenido\", nombre)"
   ]
  },
  {
   "cell_type": "code",
   "execution_count": 25,
   "id": "be868ad9",
   "metadata": {},
   "outputs": [
    {
     "name": "stdout",
     "output_type": "stream",
     "text": [
      "<class 'str'>\n",
      "Cristina\n",
      "<class 'float'>\n",
      "3.1416\n",
      "<class 'bool'>\n",
      "True\n",
      "<class 'int'>\n",
      "9\n",
      "<class 'str'>\n",
      "a\n"
     ]
    }
   ],
   "source": [
    "for dato in [\"Cristina\", 3.1416, True, 2 * 4 + 1, 'a']:\n",
    "    print(type(dato))\n",
    "    print(dato)"
   ]
  },
  {
   "cell_type": "markdown",
   "id": "c27061f7",
   "metadata": {},
   "source": [
    "## Repitiendo para los caracteres de una cadena\n",
    "\n",
    "A veces queremos repetir un código para cada carácter de una cadena de caracteres (`srt`). En tal caso, basta facilitar a Python la cadena cuyos caracteres queremos visitar:"
   ]
  },
  {
   "cell_type": "code",
   "execution_count": 26,
   "id": "4507b214",
   "metadata": {},
   "outputs": [
    {
     "name": "stdout",
     "output_type": "stream",
     "text": [
      "h\n",
      "o\n",
      "l\n",
      "a\n",
      " \n",
      "p\n",
      "y\n",
      "t\n",
      "h\n",
      "o\n",
      "n\n"
     ]
    }
   ],
   "source": [
    "for caracter in \"hola python\": # caracter = h, o, l, a, espacio, p, ....\n",
    "    print(caracter)"
   ]
  },
  {
   "cell_type": "code",
   "execution_count": 27,
   "id": "993e85e8",
   "metadata": {
    "scrolled": false
   },
   "outputs": [
    {
     "name": "stdout",
     "output_type": "stream",
     "text": [
      "p\n",
      "o\n",
      "r\n",
      " \n",
      "f\n",
      "i\n",
      "n\n",
      " \n",
      "e\n",
      "s\n",
      " \n",
      "v\n",
      "i\n",
      "e\n",
      "r\n",
      "n\n",
      "e\n",
      "s\n"
     ]
    }
   ],
   "source": [
    "mensaje = \"por fin es viernes\"\n",
    "\n",
    "for c in mensaje:\n",
    "    print(c)"
   ]
  },
  {
   "cell_type": "markdown",
   "id": "5efdb391",
   "metadata": {},
   "source": [
    "## (Casi) Toda la verdad sobre el bucle `for`\n",
    "\n",
    "Formas del bucle `for`:\n",
    "- `for i in range(ini, fin, dif)`\n",
    "- `for i in [x0, x1, x2,,,xn]`\n",
    "- `for i in \"cadena\"`\n",
    "- `for i in variable`\n",
    "\n",
    "La variable debe ser de un tipo **iterable**.\n",
    "\n",
    "La sintaxis general es:\n",
    "```python\n",
    "for variable_de_control in fuente_de_datos: # variable_de_control = cada uno de los datos de la fuente\n",
    "    cuerpo_del_bucle\n",
    "```"
   ]
  },
  {
   "cell_type": "code",
   "execution_count": 28,
   "id": "92f62c9d",
   "metadata": {},
   "outputs": [
    {
     "ename": "TypeError",
     "evalue": "'int' object is not iterable",
     "output_type": "error",
     "traceback": [
      "\u001b[1;31m---------------------------------------------------------------------------\u001b[0m",
      "\u001b[1;31mTypeError\u001b[0m                                 Traceback (most recent call last)",
      "Cell \u001b[1;32mIn[28], line 3\u001b[0m\n\u001b[0;32m      1\u001b[0m fuente \u001b[38;5;241m=\u001b[39m \u001b[38;5;241m5\u001b[39m\n\u001b[1;32m----> 3\u001b[0m \u001b[38;5;28;01mfor\u001b[39;00m i \u001b[38;5;129;01min\u001b[39;00m fuente:   \u001b[38;5;66;03m# esto falla: la fuente no es iterable\u001b[39;00m\n\u001b[0;32m      4\u001b[0m     \u001b[38;5;28mprint\u001b[39m(i)\n",
      "\u001b[1;31mTypeError\u001b[0m: 'int' object is not iterable"
     ]
    }
   ],
   "source": [
    "fuente = 5\n",
    "\n",
    "for i in fuente:   # esto falla: la fuente no es iterable\n",
    "    print(i)"
   ]
  },
  {
   "cell_type": "code",
   "execution_count": 29,
   "id": "06fcccbc",
   "metadata": {},
   "outputs": [
    {
     "name": "stdout",
     "output_type": "stream",
     "text": [
      "1\n",
      "2\n",
      "3\n",
      "4\n",
      "5\n"
     ]
    }
   ],
   "source": [
    "fuente = range(1,6)\n",
    "\n",
    "for i in fuente:   # esto funciona: la fuente es iterable\n",
    "    print(i)"
   ]
  },
  {
   "cell_type": "code",
   "execution_count": 30,
   "id": "6aa75ce4",
   "metadata": {},
   "outputs": [
    {
     "data": {
      "text/plain": [
       "range"
      ]
     },
     "execution_count": 30,
     "metadata": {},
     "output_type": "execute_result"
    }
   ],
   "source": [
    "type(range(1,11))  # range tiene su propio tipo"
   ]
  },
  {
   "cell_type": "code",
   "execution_count": 31,
   "id": "7c3c6a3d",
   "metadata": {},
   "outputs": [
    {
     "name": "stdout",
     "output_type": "stream",
     "text": [
      "1\n",
      "2\n",
      "3\n",
      "\n",
      "3\n",
      "2\n",
      "1\n"
     ]
    }
   ],
   "source": [
    "r = range(1,4)\n",
    "\n",
    "for i in r:\n",
    "    print(i)\n",
    "    \n",
    "print()\n",
    "    \n",
    "s = reversed(r)  # función que invierte un rango\n",
    "\n",
    "for i in s:\n",
    "    print(i)"
   ]
  },
  {
   "cell_type": "markdown",
   "id": "ec1bd016",
   "metadata": {},
   "source": [
    "## El método `format`\n",
    "\n",
    "Podemos imprimir en pantalla cualquier información con la función `print()`. "
   ]
  },
  {
   "cell_type": "code",
   "execution_count": 32,
   "id": "0f12f1a5",
   "metadata": {},
   "outputs": [
    {
     "name": "stdout",
     "output_type": "stream",
     "text": [
      "num. identificación: 67 nota final: 8.666666666666666\n",
      "num. identificación: 251 nota final: 7.714285714285714\n"
     ]
    }
   ],
   "source": [
    "print(\"num. identificación:\", 67 ,\"nota final:\", 52 / 6)\n",
    "print(\"num. identificación:\", 251 ,\"nota final:\", 54 / 7)"
   ]
  },
  {
   "cell_type": "markdown",
   "id": "37c9c723",
   "metadata": {},
   "source": [
    "Aunques esto suele ser suficiente, a veces queremos controlar el formato con el que se imprime la información. Por ejemplo, podemos suponer que todos los números de identificación tienen exactamente 3 dígotos, y no tiene sentido imprimir tantos decimales en una nota final.\n",
    "\n",
    "El método `format` permite especificar el formato (tamaño y forma) de los datos que queremos imprimir:\n",
    "\n",
    "```python\n",
    "   \"cadena_formato\".format(exp1, exp2, exp3, ...)\n",
    "```\n",
    "\n",
    "la cadena `\"cadena formato` contiene especificaciones de formato para cada valor `expi` que queramos imprimir. Estas especificaciones de formato se escriben entre llaves. "
   ]
  },
  {
   "cell_type": "code",
   "execution_count": 33,
   "id": "fc739b19",
   "metadata": {},
   "outputs": [
    {
     "name": "stdout",
     "output_type": "stream",
     "text": [
      "num. identificación:  67 nota final: 8.67\n",
      "num. identificación: 251 nota final: 7.71\n"
     ]
    }
   ],
   "source": [
    "print(\"num. identificación: {:3d} nota final: {:4.2f}\".format(67, 52 / 6)) \n",
    "print(\"num. identificación: {:3d} nota final: {:4.2f}\".format(251, 54 / 7))\n",
    "\n",
    "#{:4.2f} el 4 son los espacios y el 2 los decimales que queremos\n",
    "#{:3d} nº entero (d para entero, f para decimal)"
   ]
  },
  {
   "cell_type": "markdown",
   "id": "1c057a1b",
   "metadata": {},
   "source": [
    "## Solución del primer ejercicio de paper coding (464)"
   ]
  },
  {
   "cell_type": "code",
   "execution_count": 34,
   "id": "927fe50d",
   "metadata": {},
   "outputs": [
    {
     "name": "stdout",
     "output_type": "stream",
     "text": [
      "V\n",
      "J-Hope\n",
      "RM\n",
      "Jungkook\n",
      "Jin\n",
      "Jimin\n",
      "Suga\n"
     ]
    }
   ],
   "source": [
    "bts = [\"V\", \"J-Hope\", \"RM\", \"Jungkook\", \"Jin\", \"Jimin\", \"Suga\"]\n",
    "\n",
    "for nombre in bts:\n",
    "    print(nombre)"
   ]
  },
  {
   "cell_type": "markdown",
   "id": "380ad32a",
   "metadata": {},
   "source": [
    "## Solución del segundo  ejercicio de paper coding (465)"
   ]
  },
  {
   "cell_type": "code",
   "execution_count": 35,
   "id": "0b39f643",
   "metadata": {},
   "outputs": [
    {
     "name": "stdout",
     "output_type": "stream",
     "text": [
      "5050\n"
     ]
    }
   ],
   "source": [
    "suma = 0\n",
    "for i in range(1,100 + 1):\n",
    "    suma += i\n",
    "\n",
    "print(suma)"
   ]
  },
  {
   "cell_type": "markdown",
   "id": "c2fbbc29",
   "metadata": {},
   "source": [
    "## Solución del tercer ejercicio de paper coding (466)"
   ]
  },
  {
   "cell_type": "code",
   "execution_count": 36,
   "id": "2e64baf7",
   "metadata": {},
   "outputs": [
    {
     "name": "stdout",
     "output_type": "stream",
     "text": [
      "2550\n"
     ]
    }
   ],
   "source": [
    "suma = 0 \n",
    "for i in range(0, 100 + 1, 2): #para los pares empezamos en 0 y sumamos de 2 en 2\n",
    "    suma += i \n",
    "\n",
    "print(suma)"
   ]
  },
  {
   "cell_type": "markdown",
   "id": "840c7240",
   "metadata": {},
   "source": [
    "## Solución del cuarto ejercicio de paper coding (467)"
   ]
  },
  {
   "cell_type": "code",
   "execution_count": null,
   "id": "6b4b0716",
   "metadata": {},
   "outputs": [],
   "source": [
    "suma = 0\n",
    "for i in range(1, 100 + 1, 2): #para los impares empezamos en 1 y sumamos de 2 en 2\n",
    "    suma += i\n",
    "\n",
    "print(suma)"
   ]
  },
  {
   "cell_type": "markdown",
   "id": "221dc803",
   "metadata": {},
   "source": [
    "## Solución del ejercicio de pair programming (489)\n"
   ]
  },
  {
   "cell_type": "code",
   "execution_count": 2,
   "id": "1442e864",
   "metadata": {},
   "outputs": [
    {
     "name": "stdout",
     "output_type": "stream",
     "text": [
      "Inserte un número: 6\n",
      " 1  2  3  4  5  6 \n",
      "12 11 10  9  8  7 \n",
      "13 14 15 16 17 18 \n",
      "24 23 22 21 20 19 \n",
      "25 26 27 28 29 30 \n",
      "36 35 34 33 32 31 \n"
     ]
    }
   ],
   "source": [
    "n=int(input(\"Inserte un número: \"))\n",
    "\n",
    "potencia=n*n\n",
    "acum=1\n",
    "\n",
    "for j in range(1, n + 1):\n",
    "    maximo = j * n\n",
    "    \n",
    "    if j % 2 != 0: #si es impar\n",
    "        for i in range(acum, maximo + 1):\n",
    "            print('{:2d}'.format(i), end=\" \")\n",
    "            \n",
    "    else: #si es par\n",
    "        for i in range(maximo, acum - 1, - 1):\n",
    "            print('{:2d}'.format(i), end= \" \")  \n",
    "            \n",
    "    print()\n",
    "    acum = maximo + 1"
   ]
  },
  {
   "cell_type": "markdown",
   "id": "0b4a70e9",
   "metadata": {},
   "source": [
    "## Solución del mission problem (433)"
   ]
  },
  {
   "cell_type": "markdown",
   "id": "1f65a2f5",
   "metadata": {},
   "source": [
    "Para resolver este ejercicio hay que usar control anidado (bucles anidados)."
   ]
  },
  {
   "cell_type": "code",
   "execution_count": null,
   "id": "a5e02729",
   "metadata": {},
   "outputs": [],
   "source": [
    "cursos = [1,2,3,4]\n",
    "grupos = ['A', 'B', 'C']\n",
    "\n",
    "for curso in cursos:      # bucle anidado\n",
    "    for grupo in grupos:\n",
    "        print(curso, grupo, end=\"  \")\n",
    "    print()"
   ]
  },
  {
   "cell_type": "code",
   "execution_count": 38,
   "id": "d22ee118",
   "metadata": {},
   "outputs": [
    {
     "name": "stdout",
     "output_type": "stream",
     "text": [
      "Rye bread  Meatball       Lettuce  Mayonaisse\n",
      "Rye bread  Meatball       Lettuce  Honey Mustard\n",
      "Rye bread  Meatball       Lettuce  Chili\n",
      "Rye bread  Meatball       Tomato   Mayonaisse\n",
      "Rye bread  Meatball       Tomato   Honey Mustard\n",
      "Rye bread  Meatball       Tomato   Chili\n",
      "Rye bread  Meatball       Cucumber Mayonaisse\n",
      "Rye bread  Meatball       Cucumber Honey Mustard\n",
      "Rye bread  Meatball       Cucumber Chili\n",
      "Rye bread  Sausage        Lettuce  Mayonaisse\n",
      "Rye bread  Sausage        Lettuce  Honey Mustard\n",
      "Rye bread  Sausage        Lettuce  Chili\n",
      "Rye bread  Sausage        Tomato   Mayonaisse\n",
      "Rye bread  Sausage        Tomato   Honey Mustard\n",
      "Rye bread  Sausage        Tomato   Chili\n",
      "Rye bread  Sausage        Cucumber Mayonaisse\n",
      "Rye bread  Sausage        Cucumber Honey Mustard\n",
      "Rye bread  Sausage        Cucumber Chili\n",
      "Rye bread  Chicken breast Lettuce  Mayonaisse\n",
      "Rye bread  Chicken breast Lettuce  Honey Mustard\n",
      "Rye bread  Chicken breast Lettuce  Chili\n",
      "Rye bread  Chicken breast Tomato   Mayonaisse\n",
      "Rye bread  Chicken breast Tomato   Honey Mustard\n",
      "Rye bread  Chicken breast Tomato   Chili\n",
      "Rye bread  Chicken breast Cucumber Mayonaisse\n",
      "Rye bread  Chicken breast Cucumber Honey Mustard\n",
      "Rye bread  Chicken breast Cucumber Chili\n",
      "Wheat      Meatball       Lettuce  Mayonaisse\n",
      "Wheat      Meatball       Lettuce  Honey Mustard\n",
      "Wheat      Meatball       Lettuce  Chili\n",
      "Wheat      Meatball       Tomato   Mayonaisse\n",
      "Wheat      Meatball       Tomato   Honey Mustard\n",
      "Wheat      Meatball       Tomato   Chili\n",
      "Wheat      Meatball       Cucumber Mayonaisse\n",
      "Wheat      Meatball       Cucumber Honey Mustard\n",
      "Wheat      Meatball       Cucumber Chili\n",
      "Wheat      Sausage        Lettuce  Mayonaisse\n",
      "Wheat      Sausage        Lettuce  Honey Mustard\n",
      "Wheat      Sausage        Lettuce  Chili\n",
      "Wheat      Sausage        Tomato   Mayonaisse\n",
      "Wheat      Sausage        Tomato   Honey Mustard\n",
      "Wheat      Sausage        Tomato   Chili\n",
      "Wheat      Sausage        Cucumber Mayonaisse\n",
      "Wheat      Sausage        Cucumber Honey Mustard\n",
      "Wheat      Sausage        Cucumber Chili\n",
      "Wheat      Chicken breast Lettuce  Mayonaisse\n",
      "Wheat      Chicken breast Lettuce  Honey Mustard\n",
      "Wheat      Chicken breast Lettuce  Chili\n",
      "Wheat      Chicken breast Tomato   Mayonaisse\n",
      "Wheat      Chicken breast Tomato   Honey Mustard\n",
      "Wheat      Chicken breast Tomato   Chili\n",
      "Wheat      Chicken breast Cucumber Mayonaisse\n",
      "Wheat      Chicken breast Cucumber Honey Mustard\n",
      "Wheat      Chicken breast Cucumber Chili\n",
      "White      Meatball       Lettuce  Mayonaisse\n",
      "White      Meatball       Lettuce  Honey Mustard\n",
      "White      Meatball       Lettuce  Chili\n",
      "White      Meatball       Tomato   Mayonaisse\n",
      "White      Meatball       Tomato   Honey Mustard\n",
      "White      Meatball       Tomato   Chili\n",
      "White      Meatball       Cucumber Mayonaisse\n",
      "White      Meatball       Cucumber Honey Mustard\n",
      "White      Meatball       Cucumber Chili\n",
      "White      Sausage        Lettuce  Mayonaisse\n",
      "White      Sausage        Lettuce  Honey Mustard\n",
      "White      Sausage        Lettuce  Chili\n",
      "White      Sausage        Tomato   Mayonaisse\n",
      "White      Sausage        Tomato   Honey Mustard\n",
      "White      Sausage        Tomato   Chili\n",
      "White      Sausage        Cucumber Mayonaisse\n",
      "White      Sausage        Cucumber Honey Mustard\n",
      "White      Sausage        Cucumber Chili\n",
      "White      Chicken breast Lettuce  Mayonaisse\n",
      "White      Chicken breast Lettuce  Honey Mustard\n",
      "White      Chicken breast Lettuce  Chili\n",
      "White      Chicken breast Tomato   Mayonaisse\n",
      "White      Chicken breast Tomato   Honey Mustard\n",
      "White      Chicken breast Tomato   Chili\n",
      "White      Chicken breast Cucumber Mayonaisse\n",
      "White      Chicken breast Cucumber Honey Mustard\n",
      "White      Chicken breast Cucumber Chili\n"
     ]
    }
   ],
   "source": [
    "breads = [\"Rye bread\", \"Wheat\", \"White\"]\n",
    "meats = [\"Meatball\", \"Sausage\", \"Chicken breast\"]\n",
    "veggies = [\"Lettuce\", \"Tomato\", \"Cucumber\"]\n",
    "sauces = [\"Mayonaisse\", \"Honey Mustard\", \"Chili\"]\n",
    "\n",
    "for bread in breads:\n",
    "    for meat in meats:\n",
    "        for veggie in veggies:\n",
    "            for sauce in sauces:\n",
    "                sandwich = \"{:9}  {:14} {:8} {}\".format(bread, meat, veggie, sauce)\n",
    "                print(sandwich)"
   ]
  },
  {
   "cell_type": "markdown",
   "id": "57639a1d",
   "metadata": {},
   "source": [
    "## BUCLES ANIDADOS"
   ]
  },
  {
   "cell_type": "code",
   "execution_count": 39,
   "id": "85e558a8",
   "metadata": {},
   "outputs": [
    {
     "name": "stdout",
     "output_type": "stream",
     "text": [
      "1 A 1 B 1 C \n",
      "2 A 2 B 2 C \n",
      "3 A 3 B 3 C \n",
      "4 A 4 B 4 C \n"
     ]
    }
   ],
   "source": [
    "cursos = [1, 2, 3, 4]\n",
    "grupos = ['A', 'B', 'C']\n",
    "\n",
    "for curso in cursos:  #bucles anidados\n",
    "    for grupo in grupos:\n",
    "        print(curso, grupo, end = \" \")\n",
    "    print()"
   ]
  },
  {
   "cell_type": "code",
   "execution_count": null,
   "id": "a06167c2",
   "metadata": {},
   "outputs": [],
   "source": []
  }
 ],
 "metadata": {
  "kernelspec": {
   "display_name": "Python 3 (ipykernel)",
   "language": "python",
   "name": "python3"
  },
  "language_info": {
   "codemirror_mode": {
    "name": "ipython",
    "version": 3
   },
   "file_extension": ".py",
   "mimetype": "text/x-python",
   "name": "python",
   "nbconvert_exporter": "python",
   "pygments_lexer": "ipython3",
   "version": "3.10.9"
  }
 },
 "nbformat": 4,
 "nbformat_minor": 5
}

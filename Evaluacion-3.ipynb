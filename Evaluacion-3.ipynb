{
 "cells": [
  {
   "cell_type": "markdown",
   "id": "24834199",
   "metadata": {},
   "source": [
    "# Samsung Innovation Campus\n",
    "## Coding and programming\n",
    "## Tercera prueba de evaluación\n",
    "\n",
    "Para la realización de este ejercicio se tendrá **2 horas** de tiempo y se podrá sumar hasta **10 puntos**."
   ]
  },
  {
   "cell_type": "markdown",
   "id": "b14456a2",
   "metadata": {},
   "source": [
    "**(3 puntos)** Diseña la clase `Coche` que represente coches en venta de un concesionario, determinados por el nombre de la marca, el nombre del modelo, un número de referencia, y un precio base. Estos atributos serán privados. Cuando se calcula el precio de un coche, al precio base se le debe añadir el porcentaje de IVA correspondiente (inicialmente 10 %), un valor que es compartido por todos los objetos de la clase. La clase ofrecerá el siguiente constructor y métodos públicos:\n",
    "\t\n",
    "~~~ {.py}\n",
    "▶ def __init__(self,...)\n",
    "~~~\n",
    "> Construye un objeto `Coche`. Recibe como parámetros, en el siguiente\n",
    "> orden, el nombre de la marca, el nombre del modelo, el número de referencia y el precio base del coche.\n",
    "\n",
    "~~~ {.py}\n",
    "▶ def marca(self)\n",
    "▶ def modelo(self)\n",
    "▶ def referencia(self)\n",
    "▶ def precio_base(self)\n",
    "~~~\n",
    "\n",
    "> Devuelven los valores correspondientes almacenados en el objeto (usa decoradores).\n",
    "\n",
    "~~~ {.py}\n",
    "▶ def precio_final(self)\n",
    "~~~\n",
    "\n",
    "> Devuelve el precio final del coche, incluyendo el IVA, según la\n",
    "> siguiente ecuación.\n",
    ">> $\\mathit{PF}=\\mathit{PB}+\\mathit{PB}\\times\\mathit{IVA}\\div100$\n",
    "\n",
    "~~~ {.py}\n",
    "▶ def __str__(self)\n",
    "~~~\n",
    "\n",
    "> Devuelve la representación textual del objeto, según el formato del\n",
    "> siguiente ejemplo:\n",
    ">> ~~~\n",
    ">> (123456, Seat Ibiza, 19800€ IVA incluido)\n",
    ">> ~~~\n",
    "\n",
    "~~~ {.py}\n",
    "▶ def __eq__(self,other)\n",
    "~~~\n",
    "\n",
    "> Compara el coche actual (self) con el coche recibido como parámetro (other). Dos coches serán iguales si el número de referencia es el mismo. "
   ]
  },
  {
   "cell_type": "code",
   "execution_count": 80,
   "id": "fa907e8d",
   "metadata": {},
   "outputs": [],
   "source": [
    "# Escribe el código de la clase Coche\n",
    "class Coche:\n",
    "    IVA = 10\n",
    "    \n",
    "    def __init__(self, marca, modelo, n_referencia, precio_base):\n",
    "        self.__marca = marca\n",
    "        self.__modelo = modelo\n",
    "        self.__n_referencia = n_referencia\n",
    "        self.__precio_base = precio_base\n",
    "        \n",
    "    @property    \n",
    "    def marca(self):\n",
    "        return self.__marca\n",
    "    \n",
    "    @property    \n",
    "    def modelo(self):\n",
    "        return self.__modelo\n",
    "    \n",
    "    @property    \n",
    "    def n_referencia(self):\n",
    "        return self.__n_referencia\n",
    "    \n",
    "    @property   \n",
    "    def precio_base(self):\n",
    "        return self.__precio_base\n",
    "\n",
    "    def precio_final(self):\n",
    "        return self.__precio_base + self.__precio_base * Coche.IVA / 100\n",
    "    \n",
    "    def __str__(self):\n",
    "        return f\"({self.__n_referencia}; {self.__marca} {self.__modelo}; {self.__precio_base:.2f}; {Coche.IVA:.1f}%; {self.precio_final():.2f})\"\n",
    "\n",
    "    def __eq__(self, other):\n",
    "        salida = False\n",
    "        if isinstance(other, Coche):\n",
    "            salida = self.__n_referencia.lower() == other.n_referencia.lower()\n",
    "\n",
    "        return salida"
   ]
  },
  {
   "cell_type": "markdown",
   "id": "4a868c51",
   "metadata": {},
   "source": [
    "**(1.5 puntos)** La clase `CocheDeLujo` deriva de la clase `Coche`, por lo que contiene información sobre un determinado coche, pero además, permite especificar el equipamiento extra del coche (p.e. \"asientos de cuero\"). Será un atributo privado.  La clase ofrecerá el siguiente constructor y métodos públicos:\n",
    "\t\n",
    "~~~ {.py}\n",
    "▶ def __init__(self,...)\n",
    "~~~\n",
    "\n",
    "> Construye un objeto `CocheDeLujo`. Recibe como parámetros, en el siguiente\n",
    "> orden, el nombre de la marca, el nombre del modelo, el número de referencia, \n",
    "> el precio base del coche y el equipamiento extra.\n",
    "\n",
    "~~~ {.py}\n",
    "▶ def equipamiento_extra(self)\n",
    "~~~\n",
    "\n",
    "> Devuelve la información del equipamiento extra del coche.\n",
    "\n",
    "~~~ {.py}\n",
    "▶ def __str__(self)\n",
    "~~~\n",
    "\n",
    "> Devuelve la representación textual del objeto, según el formato del\n",
    "> siguiente ejemplo:\n",
    "\n",
    ">> ~~~\n",
    ">> ((675342, Lamborghini Huracan, 350000€ IVA incluido) asientos de cuero)\n",
    ">> ~~~\n",
    "\n"
   ]
  },
  {
   "cell_type": "code",
   "execution_count": 81,
   "id": "af5f815e",
   "metadata": {},
   "outputs": [],
   "source": [
    "# Escribe el código de la clase CocheDeLujo\n",
    "class CocheDeLujo(Coche):\n",
    "    def __init__(self, marca, modelo, n_referencia, precio_base, equipamiento_extra):\n",
    "        super().__init__(marca, modelo, n_referencia, precio_base)\n",
    "        self.__equipamiento_extra = equipamiento_extra\n",
    "        \n",
    "    def equipamiento_extra(self):\n",
    "        return self.__equipamiento_extra\n",
    "    \n",
    "    def __str__(self):\n",
    "        return f\"(({self.n_referencia}; {self.marca} {self.modelo}; {self.precio_base:.2f}; {Coche.IVA:.1f}%; {self.precio_final():.2f}) {self.__equipamiento_extra})\"\n"
   ]
  },
  {
   "cell_type": "markdown",
   "id": "b5381072",
   "metadata": {},
   "source": [
    "**(1.25 puntos)** Realiza las siguientes acciones con las clases anteriores.\n",
    "- Crea tres objetos de la clase `Coche`: \n",
    "\n",
    "('Seat', 'Ibiza', 234123, 20000)\n",
    "\n",
    "('Renault', 'Captur', 123444, 21500)\n",
    "\n",
    "('Ford', 'Focus', 234123, 22500)\n",
    "\n",
    "- Crea dos objetos de la clase `CocheDeLujo`:\n",
    "\n",
    "('Ferrari', 'Testarrosa', 100000, 150000, 'metalizado especial')\n",
    "\n",
    "('Lamborghini', 'Urus', 200000, 235000, 'asientos de cuero')\n",
    "\n",
    "- Muestra los objetos por pantalla.\n",
    "\n",
    "- Compara los tres objetos de la clase `Coche` para ver si son iguales dos a dos."
   ]
  },
  {
   "cell_type": "code",
   "execution_count": 82,
   "id": "f3376582",
   "metadata": {},
   "outputs": [
    {
     "name": "stdout",
     "output_type": "stream",
     "text": [
      "COCHES\n",
      "(234123; Seat Ibiza; 20000.00; 10.0%; 22000.00)\n",
      "(123444; Renault Captur; 21500.00; 10.0%; 23650.00)\n",
      "(234123; Ford Focus; 22500.00; 10.0%; 24750.00)\n",
      "\n",
      "COCHES DE LUJO\n",
      "((100000; Ferrari Testarrosa; 150000.00; 10.0%; 165000.00) metalizado especial)\n",
      "((200000; Lamborghini Urus; 235000.00; 10.0%; 258500.00) asientos de cuero)\n"
     ]
    }
   ],
   "source": [
    "# Escribe el código para generar objetos Coche y CocheDeLujo\n",
    "c1 = Coche('Seat', 'Ibiza', 234123, 20000)\n",
    "c2 = Coche('Renault', 'Captur', 123444, 21500)\n",
    "c3 = Coche('Ford', 'Focus', 234123, 22500)\n",
    "\n",
    "cl1 = CocheDeLujo('Ferrari', 'Testarrosa', 100000, 150000, 'metalizado especial')\n",
    "cl2 = CocheDeLujo('Lamborghini', 'Urus', 200000, 235000, 'asientos de cuero')\n",
    "\n",
    "print(\"COCHES\")\n",
    "print(c1)\n",
    "print(c2)\n",
    "print(c3)\n",
    "print()\n",
    "print(\"COCHES DE LUJO\")\n",
    "print(cl1)\n",
    "print(cl2)"
   ]
  },
  {
   "cell_type": "markdown",
   "id": "a79b3bc2",
   "metadata": {},
   "source": [
    "**(1 punto)** Obtén la representación textual de los coches anteriores y almacénalos en un fichero con nombre \"coches.txt\". "
   ]
  },
  {
   "cell_type": "code",
   "execution_count": 99,
   "id": "c33d8941",
   "metadata": {},
   "outputs": [
    {
     "name": "stdout",
     "output_type": "stream",
     "text": [
      "C:\\Users\\Lucía\\CURSO SAMSUNG\n"
     ]
    }
   ],
   "source": [
    "# Escribe el código para almacenar los coches en formato texto en un fichero\n",
    "import os\n",
    "os.getcwd()\n",
    "os.chdir(\"/Users/Lucía/CURSO SAMSUNG\")\n",
    "print(os.getcwd())"
   ]
  },
  {
   "cell_type": "markdown",
   "id": "19afb21a",
   "metadata": {},
   "source": [
    "**(2.5 puntos)** Defina la clase `Concesionario`,que represente un concesionario de coches, de tal forma que pueda contener múltiples coches de diversas clases en una lista, todas ellas derivadas de la clase Coche definida en ejercicios anteriores. Este atributo será de ámbito privado.\n",
    "\n",
    "\n",
    "~~~ {.py}\n",
    "▶ def __init__(self)\n",
    "~~~\n",
    "\n",
    "> Construye un objeto `Concesionario` vacío (sin coches).\n",
    "\n",
    "~~~ {.py}\n",
    "▶ def obtener_coches(self)\n",
    "~~~\n",
    "\n",
    "> Devuelve la lista de coches del concesionario (usar decorador).\n",
    "\n",
    "\n",
    "~~~ {.py}\n",
    "▶ def add_coche(...)\n",
    "~~~\n",
    "\n",
    "> Crea un nuevo objeto `Coche` con el nombre de la marca, modelo, número de referencia y \n",
    "> precio base recibidos como parámetros. Si el coche está en la lista (si el número de referencia es el mismo) se muestra un mensaje por pantalla, en caso contrario se añade. \n",
    "\n",
    "~~~ {.py}\n",
    "▶ def add_coche_lujo(...)\n",
    "~~~\n",
    "\n",
    "> Crea un nuevo objeto `CocheDeLujo` con el nombre de la marca, modelo, número de referencia, \n",
    "> precio base y equipamiento extra recibidos como parámetros. Si el coche está en la lista (si el número de referencia es el mismo) se muestra un mensaje por pantalla, en caso contrario se añade. \n",
    "\n",
    "~~~ {.py}\n",
    "▶ def eliminar_coche(...)\n",
    "~~~\n",
    "\n",
    "> Dado el número de referencia como parámetro, si el coche está en la lista se elimina, en caso contrario se muestra un mensaje por pantalla. \n",
    "\n",
    "~~~ {.py}\n",
    "▶ def __str__(self)\n",
    "~~~\n",
    "\n",
    "> Devuelve la representación textual del objeto, según el formato del\n",
    "> siguiente ejemplo (sin considerar los saltos de línea):\n",
    ">> ~~~\n",
    ">> [(234123, Seat Ibiza, 22000€ IVA incluido)\n",
    ">>  (123444, Renault Captur, 23650€ IVA incluido)\n",
    ">>  (234124, Ford Focus, 24750€ IVA incluido)\n",
    ">>  ((200000, Lamborghini Urus, 258500€ IVA incluido) asientos de cuero) \n",
    ">>  ((100000, Ferrari Testarrosa, 16500€ IVA incluido) metalizado especial)] \n",
    ">> ~~~\n"
   ]
  },
  {
   "cell_type": "code",
   "execution_count": 121,
   "id": "38311cda",
   "metadata": {},
   "outputs": [],
   "source": [
    "# Escribe el código de la clase Concesionario\n",
    "class Concesionario:\n",
    "    def __init__(self):\n",
    "        self.__coches = []\n",
    "        \n",
    "    #@property\n",
    "    def obtener_coches(self):  \n",
    "        referencia = Coche.n_referencia\n",
    "        \n",
    "        if referencia != -1:\n",
    "            self.__coches[referencia] = c\n",
    "            \n",
    "        else:\n",
    "            self.__coches.append(c)\n",
    "    \n",
    "    def add_coche(self, marca, modelo, n_referencia, precio_base):\n",
    "        c = Coche(marca, modelo, n_referencia, precio_base)\n",
    "        self.obtener_coches(c)\n",
    "    \n",
    "    def add_coche_lujo(self, marca, modelo, n_referencia, precio_base, equipamiento_extra):\n",
    "        c = CocheDeLujo(marca, modelo, n_referencia, precio_base, equipamiento_extra)\n",
    "        self.obtener_coches(c)\n",
    "        \n",
    "    def eliminar_coche(self, n_referencia):\n",
    "        coche = Coche(\" \", \" \", n_referencia, 0)\n",
    "        try:\n",
    "            c = self.__coches.index(coche)\n",
    "        except ValueError:\n",
    "            indice = -1\n",
    "        return indice\n",
    "    \n",
    "        del self.__coches[indice]\n",
    "    \n",
    "    def __str__(self):\n",
    "        c = \"[\"\n",
    "        for co in self.__coches:\n",
    "            c += str(co) + \",\\n\"\n",
    "            \n",
    "        c = c[:-2] + \"]\"\n",
    "        return c"
   ]
  },
  {
   "cell_type": "code",
   "execution_count": 122,
   "id": "5115a2ca",
   "metadata": {},
   "outputs": [
    {
     "ename": "TypeError",
     "evalue": "list indices must be integers or slices, not property",
     "output_type": "error",
     "traceback": [
      "\u001b[1;31m---------------------------------------------------------------------------\u001b[0m",
      "\u001b[1;31mTypeError\u001b[0m                                 Traceback (most recent call last)",
      "Cell \u001b[1;32mIn[122], line 3\u001b[0m\n\u001b[0;32m      1\u001b[0m co \u001b[38;5;241m=\u001b[39m Concesionario()\n\u001b[1;32m----> 3\u001b[0m \u001b[43mco\u001b[49m\u001b[38;5;241;43m.\u001b[39;49m\u001b[43madd_coche\u001b[49m\u001b[43m(\u001b[49m\u001b[38;5;124;43m'\u001b[39;49m\u001b[38;5;124;43mSeat\u001b[39;49m\u001b[38;5;124;43m'\u001b[39;49m\u001b[43m,\u001b[49m\u001b[43m \u001b[49m\u001b[38;5;124;43m'\u001b[39;49m\u001b[38;5;124;43mIbiza\u001b[39;49m\u001b[38;5;124;43m'\u001b[39;49m\u001b[43m,\u001b[49m\u001b[43m \u001b[49m\u001b[38;5;241;43m234123\u001b[39;49m\u001b[43m,\u001b[49m\u001b[43m \u001b[49m\u001b[38;5;241;43m22000\u001b[39;49m\u001b[43m)\u001b[49m\n\u001b[0;32m      4\u001b[0m co\u001b[38;5;241m.\u001b[39madd_coche(\u001b[38;5;124m'\u001b[39m\u001b[38;5;124mRenault\u001b[39m\u001b[38;5;124m'\u001b[39m \u001b[38;5;124m'\u001b[39m\u001b[38;5;124mCaptur\u001b[39m\u001b[38;5;124m'\u001b[39m, \u001b[38;5;241m123444\u001b[39m, \u001b[38;5;241m23650\u001b[39m)\n\u001b[0;32m      5\u001b[0m co\u001b[38;5;241m.\u001b[39madd_coche(\u001b[38;5;124m'\u001b[39m\u001b[38;5;124mFord\u001b[39m\u001b[38;5;124m'\u001b[39m \u001b[38;5;124m'\u001b[39m\u001b[38;5;124mFocus\u001b[39m\u001b[38;5;124m'\u001b[39m, \u001b[38;5;241m234124\u001b[39m, \u001b[38;5;241m24750\u001b[39m )\n",
      "Cell \u001b[1;32mIn[121], line 18\u001b[0m, in \u001b[0;36mConcesionario.add_coche\u001b[1;34m(self, marca, modelo, n_referencia, precio_base)\u001b[0m\n\u001b[0;32m     16\u001b[0m \u001b[38;5;28;01mdef\u001b[39;00m \u001b[38;5;21madd_coche\u001b[39m(\u001b[38;5;28mself\u001b[39m, marca, modelo, n_referencia, precio_base):\n\u001b[0;32m     17\u001b[0m     c \u001b[38;5;241m=\u001b[39m Coche(marca, modelo, n_referencia, precio_base)\n\u001b[1;32m---> 18\u001b[0m     \u001b[38;5;28;43mself\u001b[39;49m\u001b[38;5;241;43m.\u001b[39;49m\u001b[43mobtener_coches\u001b[49m(c)\n",
      "Cell \u001b[1;32mIn[121], line 11\u001b[0m, in \u001b[0;36mConcesionario.obtener_coches\u001b[1;34m(self)\u001b[0m\n\u001b[0;32m      8\u001b[0m referencia \u001b[38;5;241m=\u001b[39m Coche\u001b[38;5;241m.\u001b[39mn_referencia\n\u001b[0;32m     10\u001b[0m \u001b[38;5;28;01mif\u001b[39;00m referencia \u001b[38;5;241m!=\u001b[39m \u001b[38;5;241m-\u001b[39m\u001b[38;5;241m1\u001b[39m:\n\u001b[1;32m---> 11\u001b[0m     \u001b[38;5;28mself\u001b[39m\u001b[38;5;241m.\u001b[39m__coches[referencia] \u001b[38;5;241m=\u001b[39m c\n\u001b[0;32m     13\u001b[0m \u001b[38;5;28;01melse\u001b[39;00m:\n\u001b[0;32m     14\u001b[0m     \u001b[38;5;28mself\u001b[39m\u001b[38;5;241m.\u001b[39m__coches\u001b[38;5;241m.\u001b[39mappend(c)\n",
      "\u001b[1;31mTypeError\u001b[0m: list indices must be integers or slices, not property"
     ]
    }
   ],
   "source": [
    "co = Concesionario()\n",
    "\n",
    "co.add_coche('Seat', 'Ibiza', 234123, 22000)\n",
    "co.add_coche('Renault' 'Captur', 123444, 23650)\n",
    "co.add_coche('Ford' 'Focus', 234124, 24750 )\n",
    "co.add_coche_lujo('Lamborghini' 'Uru',200000,  258500, 'asientos de cuero') \n",
    "co.add_coche_lujo('Ferrari' 'Testarrosa',100000,  16500, 'metalizado especial')\n",
    "\n",
    "print(co)"
   ]
  },
  {
   "cell_type": "markdown",
   "id": "09fc8603",
   "metadata": {},
   "source": [
    "**(0.75 puntos)** Obtén la lista de coches del concesionario y almacénalo en un fichero binario usando la librería *pickle*. Cárgalo de nuevo en otra variable y muéstralo por pantalla."
   ]
  },
  {
   "cell_type": "code",
   "execution_count": 53,
   "id": "0733702f",
   "metadata": {},
   "outputs": [
    {
     "name": "stdout",
     "output_type": "stream",
     "text": [
      "]\n"
     ]
    }
   ],
   "source": [
    "# Escribe el código para obtener la lista y guardar en formato binario\n",
    "import pickle\n",
    "\n",
    "c = Concesionario()\n",
    "print(c)\n",
    "\n",
    "pickle.dump(c,open('my_pickle.pkl','wb'))\n",
    "\n"
   ]
  },
  {
   "cell_type": "code",
   "execution_count": null,
   "id": "8bffe527",
   "metadata": {},
   "outputs": [],
   "source": []
  }
 ],
 "metadata": {
  "kernelspec": {
   "display_name": "Python 3 (ipykernel)",
   "language": "python",
   "name": "python3"
  },
  "language_info": {
   "codemirror_mode": {
    "name": "ipython",
    "version": 3
   },
   "file_extension": ".py",
   "mimetype": "text/x-python",
   "name": "python",
   "nbconvert_exporter": "python",
   "pygments_lexer": "ipython3",
   "version": "3.10.9"
  }
 },
 "nbformat": 4,
 "nbformat_minor": 5
}

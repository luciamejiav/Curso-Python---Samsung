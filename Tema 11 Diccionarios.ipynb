{
 "cells": [
  {
   "cell_type": "markdown",
   "id": "1fbc9529",
   "metadata": {},
   "source": [
    "# Unidad 11 - Diccionarios\n",
    "\n",
    "## Necesidad de los diccionarios\n",
    "\n",
    "Supongamos que queremos representar en Python el menú de una cafetería:\n",
    "\n",
    "| Bebida         | Precio |\n",
    "|----------------|--------|\n",
    "| Americano      | 3000   |\n",
    "| Iced Americano | 3500   |\n",
    "| Cappuccino     | 4000   |\n",
    "| Cafe Latte     | 4500   |\n",
    "| Espresso       | 3600   |\n",
    "\n",
    "\n",
    "Como vimos en la unidad anterior, debemos evitar el uso de variables disgregadas para representar cada valor (`cafe_1`, `precio_1`, ...). Es preferible utilizar una estructura de datos o colección que represente todo el menú de forma global. Una posibilidad es utilizar dos listas:"
   ]
  },
  {
   "cell_type": "code",
   "execution_count": 1,
   "id": "94832296",
   "metadata": {},
   "outputs": [],
   "source": [
    "cafes =   [\"Americano\", \"Iced Americano\", \"Capuccino\", \"Cafe Latte\", \"Espresso\"]\n",
    "precios = [ 3000,        3500,             4000,        4500,         3600]"
   ]
  },
  {
   "cell_type": "markdown",
   "id": "331881cb",
   "metadata": {},
   "source": [
    "Esta solución presenta varios problemas:\n",
    "- hay que mantener ambas listas _\"sincronizadas\"_: por ejemplo, si añadimos un café en la tercera posición de `cafes`, debemos añadir su precio exactamente en la tercera posición de `precios`\n",
    "- hay que recorrer la lista `cafes` para saber el precio de un café: debemos localizar la posición del café y consultar dicha posición en la lista `precios`; esto tiene un coste lineal $O(n)$\n",
    "\n",
    "Necesitamos una estructura de datos o colección que:\n",
    "- nos libere de la necesidad de mantener la _\"sincronización\"_\n",
    "- nos permita consultar de forma cómoda y eficiente el precio de un café\n",
    "\n",
    "Tal estructura se llama **diccionario**, a veces también recibe los nombres de **aplicación**, **asociación** o **memoria asociativa**.\n",
    "\n",
    "**Nota:** En algunos lenguajes (por ejemplo, Java) esta estructura se llama **map**."
   ]
  },
  {
   "cell_type": "markdown",
   "id": "2533e3ee",
   "metadata": {},
   "source": [
    "## Definición de diccionario\n",
    "\n",
    "Un **diccionario** es un conjunto de pares. Cada par tiene dos componentes: al primero lo llamamos **clave** y al segundo **valor**. Los pares suelen representarse como $k:v$, donde $k$ es la clave y $v$ es el valor.\n",
    "\n",
    "No todo conjunto de pares $k:v$ es un diccionario válido: es necesario que **las claves no estén repetidas**. Por ejemplo, el siguiente conjunto de pares es un diccionario:\n",
    "\n",
    "$$\n",
    "\\{ 1:10,\\ 2:20,\\ 3:30 \\} \n",
    "$$\n",
    "\n",
    "pero el siguiente conjunto de pares no es un dicionario, pues repite la clave $1$:\n",
    "\n",
    "$$\n",
    "\\{ 1:10,\\ 2:20,\\ 1:40,\\ 3:30 \\} \n",
    "$$\n",
    "\n",
    "Observa que los valores sí pueden estar repetidos:\n",
    "\n",
    "$$\n",
    "\\{ 1:10,\\ 2:20,\\ 3:30,\\ 4:10,\\ 5:20,\\ 6:30 \\} \n",
    "$$\n",
    "\n",
    "Si un diccionario contiene el par $k:v$, se dice que la clave $k$ tiene **asociado** el valor $v$. Por ejemplo, en el diccionario:\n",
    "\n",
    "$$\n",
    "\\{ 1:10,\\ 2:20,\\ 3:30 \\} \n",
    "$$\n",
    "\n",
    "la clave $2$ tiene asociado el valor $20$. Como no puede haber claves repetidas, una clave puede tener asociado **como mucho un valor**. Esta característica es importante: dada una clave, podemos determinar el único valor que le corresponde.\n",
    "\n",
    "Podemos representar el menú de la cafetería por el siguiente diccionario:\n",
    "\n",
    "$$\n",
    "\\{ \\mathrm{Americano}:30000,\\ \\mathrm{Iced\\ Americano}:3500,\\ \n",
    "   \\mathrm{Cappuccino}:4000,\\ \\mathrm{Caffe\\ Latte}:4500,\\\n",
    "   \\mathrm{Espresso}:3600 \\} \n",
    "$$\n",
    "\n",
    "de manera que cada tipo de café (clave) tenga asociado su precio (valor)."
   ]
  },
  {
   "cell_type": "markdown",
   "id": "53fd6c40",
   "metadata": {},
   "source": [
    "## El tipo diccionario\n",
    "\n",
    "El tipo diccionario es una colección o estructura de datos Python que permite asociar claves y valores, y acceder a los valores a través de las claves. Para determinar el valor que corresponde a una clave, es necesario que las claves no se repitan.\n",
    "\n",
    "Un literal de diccionario tiene la siguiente sintaxis:\n",
    "\n",
    "```python\n",
    "      {k_0:v_0, k_1:v_1, k_2:v_2  ..., k_n:v_n}\n",
    "```\n",
    "\n",
    "Es decir, aparecen los pares `clave:valor` que contiene el diccionario, separados por comas y encerrados entre llaves:"
   ]
  },
  {
   "cell_type": "code",
   "execution_count": 2,
   "id": "dded78fb",
   "metadata": {},
   "outputs": [
    {
     "data": {
      "text/plain": [
       "{'juan': 12, 'sonia': 16, 'luis': 14, 'elena': 12}"
      ]
     },
     "execution_count": 2,
     "metadata": {},
     "output_type": "execute_result"
    }
   ],
   "source": [
    "edades = { \"juan\" : 12, \"sonia\" : 16, \"luis\" : 14, \"elena\" : 12 }\n",
    "edades"
   ]
  },
  {
   "cell_type": "markdown",
   "id": "9bf5a0ee",
   "metadata": {},
   "source": [
    "Podemos crear un diccionario vacío:"
   ]
  },
  {
   "cell_type": "code",
   "execution_count": 3,
   "id": "f73bf2e3",
   "metadata": {},
   "outputs": [
    {
     "data": {
      "text/plain": [
       "{}"
      ]
     },
     "execution_count": 3,
     "metadata": {},
     "output_type": "execute_result"
    }
   ],
   "source": [
    "diccionario_vacio = {}\n",
    "diccionario_vacio"
   ]
  },
  {
   "cell_type": "markdown",
   "id": "27f98edd",
   "metadata": {},
   "source": [
    "El tipo de las claves está limitado: las claves deben ser de tipos inmutables (`int` ,`float`, `str`,...). El tipo de los valores no está limitado:"
   ]
  },
  {
   "cell_type": "code",
   "execution_count": 4,
   "id": "8c3a8e03",
   "metadata": {
    "scrolled": true
   },
   "outputs": [
    {
     "data": {
      "text/plain": [
       "{3.1416: 'pi',\n",
       " 5: 'cinco',\n",
       " 'uno': 'one',\n",
       " True: 'cierto',\n",
       " 'primos': [2, 3, 5, 7]}"
      ]
     },
     "execution_count": 4,
     "metadata": {},
     "output_type": "execute_result"
    }
   ],
   "source": [
    "valido = { 3.1416 : \"pi\", 5 : \"cinco\", \"uno\" : \"one\", True : \"cierto\", \"primos\" : [2,3,5,7] }\n",
    "valido"
   ]
  },
  {
   "cell_type": "markdown",
   "id": "39e1358d",
   "metadata": {},
   "source": [
    "Observa que podemos usar listas como valores, pero no como claves (las listas son mutables):"
   ]
  },
  {
   "cell_type": "code",
   "execution_count": 5,
   "id": "47edd7c1",
   "metadata": {
    "scrolled": true
   },
   "outputs": [
    {
     "ename": "TypeError",
     "evalue": "unhashable type: 'list'",
     "output_type": "error",
     "traceback": [
      "\u001b[1;31m---------------------------------------------------------------------------\u001b[0m",
      "\u001b[1;31mTypeError\u001b[0m                                 Traceback (most recent call last)",
      "Cell \u001b[1;32mIn[5], line 1\u001b[0m\n\u001b[1;32m----> 1\u001b[0m no_valido \u001b[38;5;241m=\u001b[39m { \u001b[38;5;241m1\u001b[39m : \u001b[38;5;124m\"\u001b[39m\u001b[38;5;124mone\u001b[39m\u001b[38;5;124m\"\u001b[39m, [\u001b[38;5;241m2\u001b[39m,\u001b[38;5;241m3\u001b[39m,\u001b[38;5;241m5\u001b[39m,\u001b[38;5;241m7\u001b[39m] : \u001b[38;5;124m\"\u001b[39m\u001b[38;5;124mprimos\u001b[39m\u001b[38;5;124m\"\u001b[39m }\n",
      "\u001b[1;31mTypeError\u001b[0m: unhashable type: 'list'"
     ]
    }
   ],
   "source": [
    "no_valido = { 1 : \"one\", [2,3,5,7] : \"primos\" }"
   ]
  },
  {
   "cell_type": "markdown",
   "id": "813b1bf0",
   "metadata": {},
   "source": [
    "El tipo de los diccionarios se llama `dict`, y no refleja ni los tipos de las claves ni los tipos de los valores:"
   ]
  },
  {
   "cell_type": "code",
   "execution_count": 6,
   "id": "f070b601",
   "metadata": {},
   "outputs": [
    {
     "name": "stdout",
     "output_type": "stream",
     "text": [
      "<class 'dict'>\n",
      "<class 'dict'>\n"
     ]
    }
   ],
   "source": [
    "print(type(edades))\n",
    "print(type(valido))"
   ]
  },
  {
   "cell_type": "markdown",
   "id": "b03cb195",
   "metadata": {},
   "source": [
    "### Indexación de diccionarios\n",
    "\n",
    "Una característica esencial de los diccionarios es que, dada una clave, podemos determinar el único valor que tiene asociado. Para ello, utilizamos la indexación por clave (similar a la indexación por posición en listas y otras secuencias):\n",
    "\n",
    "```python\n",
    "   diccionario[clave]\n",
    "```"
   ]
  },
  {
   "cell_type": "code",
   "execution_count": 7,
   "id": "f268e7dd",
   "metadata": {},
   "outputs": [
    {
     "name": "stdout",
     "output_type": "stream",
     "text": [
      "{'juan': 12, 'sonia': 16, 'luis': 14, 'elena': 12}\n"
     ]
    },
    {
     "data": {
      "text/plain": [
       "12"
      ]
     },
     "execution_count": 7,
     "metadata": {},
     "output_type": "execute_result"
    }
   ],
   "source": [
    "print(edades)\n",
    "edades[\"elena\"]"
   ]
  },
  {
   "cell_type": "code",
   "execution_count": 8,
   "id": "265195b5",
   "metadata": {},
   "outputs": [
    {
     "name": "stdout",
     "output_type": "stream",
     "text": [
      "{3.1416: 'pi', 5: 'cinco', 'uno': 'one', True: 'cierto', 'primos': [2, 3, 5, 7]}\n"
     ]
    },
    {
     "data": {
      "text/plain": [
       "[2, 3, 5, 7]"
      ]
     },
     "execution_count": 8,
     "metadata": {},
     "output_type": "execute_result"
    }
   ],
   "source": [
    "print(valido)\n",
    "valido[\"PRIMOS\".lower()]"
   ]
  },
  {
   "cell_type": "markdown",
   "id": "23872c06",
   "metadata": {},
   "source": [
    "Si usamos una clave que no está presente en el `diccionario`; obtendremos un error de indexación `KeyError`:"
   ]
  },
  {
   "cell_type": "code",
   "execution_count": 9,
   "id": "593109b9",
   "metadata": {},
   "outputs": [
    {
     "ename": "KeyError",
     "evalue": "'nuria'",
     "output_type": "error",
     "traceback": [
      "\u001b[1;31m---------------------------------------------------------------------------\u001b[0m",
      "\u001b[1;31mKeyError\u001b[0m                                  Traceback (most recent call last)",
      "Cell \u001b[1;32mIn[9], line 1\u001b[0m\n\u001b[1;32m----> 1\u001b[0m \u001b[43medades\u001b[49m\u001b[43m[\u001b[49m\u001b[38;5;124;43m\"\u001b[39;49m\u001b[38;5;124;43mnuria\u001b[39;49m\u001b[38;5;124;43m\"\u001b[39;49m\u001b[43m]\u001b[49m\n",
      "\u001b[1;31mKeyError\u001b[0m: 'nuria'"
     ]
    }
   ],
   "source": [
    "edades[\"nuria\"]"
   ]
  },
  {
   "cell_type": "markdown",
   "id": "65be70d9",
   "metadata": {},
   "source": [
    "## Los diccionarios son mutables\n",
    "\n",
    "Al igual que las listas, los diccionarios son mutables. Podemos añadir nuevos pares `k:v`, o bien modificar el valor asociado a una clave `k`. La sintaxis es similar a la que empleamos con las listas:\n",
    "\n",
    "```python\n",
    "   diccionario[clave] = valor\n",
    "```\n",
    "\n",
    "La anterior sentencia tiene uno de los siguientes efectos:\n",
    "- si la `clave` no está presente en el `diccionario`, se añade el par `clave:valor`\n",
    "- si la `clave` está presente en el `diccionario`, se modifica el `valor` asociado"
   ]
  },
  {
   "cell_type": "code",
   "execution_count": 10,
   "id": "4853bc51",
   "metadata": {},
   "outputs": [
    {
     "name": "stdout",
     "output_type": "stream",
     "text": [
      "{'juan': 12, 'sonia': 16, 'luis': 14, 'elena': 12}\n"
     ]
    },
    {
     "data": {
      "text/plain": [
       "{'juan': 12, 'sonia': 11, 'luis': 14, 'elena': 12}"
      ]
     },
     "execution_count": 10,
     "metadata": {},
     "output_type": "execute_result"
    }
   ],
   "source": [
    "print(edades)\n",
    "edades[\"sonia\"] = 11\n",
    "edades"
   ]
  },
  {
   "cell_type": "code",
   "execution_count": 11,
   "id": "5ed77497",
   "metadata": {},
   "outputs": [
    {
     "name": "stdout",
     "output_type": "stream",
     "text": [
      "{'juan': 12, 'sonia': 11, 'luis': 14, 'elena': 12}\n"
     ]
    },
    {
     "data": {
      "text/plain": [
       "{'juan': 13, 'sonia': 11, 'luis': 14, 'elena': 12}"
      ]
     },
     "execution_count": 11,
     "metadata": {},
     "output_type": "execute_result"
    }
   ],
   "source": [
    "print(edades)\n",
    "edades[\"juan\"] = edades[\"juan\"] + 1\n",
    "edades"
   ]
  },
  {
   "cell_type": "code",
   "execution_count": 41,
   "id": "3735f955",
   "metadata": {},
   "outputs": [
    {
     "name": "stdout",
     "output_type": "stream",
     "text": [
      "{'juan': 13, 'sonia': 11, 'luis': 14, 'elena': 12}\n"
     ]
    },
    {
     "data": {
      "text/plain": [
       "{'juan': 13,\n",
       " 'sonia': 11,\n",
       " 'luis': 14,\n",
       " 'elena': 12,\n",
       " 'manuel': 17,\n",
       " 'patricia': 19}"
      ]
     },
     "execution_count": 41,
     "metadata": {},
     "output_type": "execute_result"
    }
   ],
   "source": [
    "print(edades)\n",
    "edades[\"manuel\"] = 17\n",
    "edades[\"patricia\"] = 19\n",
    "edades"
   ]
  },
  {
   "cell_type": "markdown",
   "id": "32b3662a",
   "metadata": {},
   "source": [
    "## Eliminación de claves en diccionarios\n",
    "\n",
    "Para eliminar un par `clave:valor` del diccionario, debemos utilizar la sentencia `del`:\n",
    "\n",
    "```python\n",
    "   del diccionario[clave]\n",
    "```\n",
    "\n",
    "Si la `clave` está en el `diccionario`, se elimina el par `clave:valor`, de lo contrario obtenemos un `KeyError`:"
   ]
  },
  {
   "cell_type": "code",
   "execution_count": 12,
   "id": "3e3d3ae4",
   "metadata": {},
   "outputs": [
    {
     "name": "stdout",
     "output_type": "stream",
     "text": [
      "{'juan': 13, 'sonia': 11, 'luis': 14, 'elena': 12}\n"
     ]
    },
    {
     "ename": "KeyError",
     "evalue": "'manuel'",
     "output_type": "error",
     "traceback": [
      "\u001b[1;31m---------------------------------------------------------------------------\u001b[0m",
      "\u001b[1;31mKeyError\u001b[0m                                  Traceback (most recent call last)",
      "Cell \u001b[1;32mIn[12], line 2\u001b[0m\n\u001b[0;32m      1\u001b[0m \u001b[38;5;28mprint\u001b[39m(edades)\n\u001b[1;32m----> 2\u001b[0m \u001b[38;5;28;01mdel\u001b[39;00m edades[\u001b[38;5;124m\"\u001b[39m\u001b[38;5;124mmanuel\u001b[39m\u001b[38;5;124m\"\u001b[39m]\n\u001b[0;32m      3\u001b[0m edades\n",
      "\u001b[1;31mKeyError\u001b[0m: 'manuel'"
     ]
    }
   ],
   "source": [
    "print(edades)\n",
    "del edades[\"manuel\"]\n",
    "edades"
   ]
  },
  {
   "cell_type": "code",
   "execution_count": 13,
   "id": "774ba941",
   "metadata": {
    "scrolled": false
   },
   "outputs": [
    {
     "name": "stdout",
     "output_type": "stream",
     "text": [
      "{'juan': 13, 'sonia': 11, 'luis': 14, 'elena': 12}\n"
     ]
    },
    {
     "ename": "KeyError",
     "evalue": "'maria'",
     "output_type": "error",
     "traceback": [
      "\u001b[1;31m---------------------------------------------------------------------------\u001b[0m",
      "\u001b[1;31mKeyError\u001b[0m                                  Traceback (most recent call last)",
      "Cell \u001b[1;32mIn[13], line 2\u001b[0m\n\u001b[0;32m      1\u001b[0m \u001b[38;5;28mprint\u001b[39m(edades)\n\u001b[1;32m----> 2\u001b[0m \u001b[38;5;28;01mdel\u001b[39;00m edades[\u001b[38;5;124m\"\u001b[39m\u001b[38;5;124mmaria\u001b[39m\u001b[38;5;124m\"\u001b[39m]\n",
      "\u001b[1;31mKeyError\u001b[0m: 'maria'"
     ]
    }
   ],
   "source": [
    "print(edades)\n",
    "del edades[\"maria\"]"
   ]
  },
  {
   "cell_type": "markdown",
   "id": "58dd36d3",
   "metadata": {},
   "source": [
    "**Nota:** La sentencia `del` (de _delete_) puede utilizarse también para eliminar elementos de listas (por posición) o, incluso, para borrar variable completas."
   ]
  },
  {
   "cell_type": "code",
   "execution_count": 14,
   "id": "03846509",
   "metadata": {},
   "outputs": [
    {
     "name": "stdout",
     "output_type": "stream",
     "text": [
      "[0, 1, 2, 3, 4, 5]\n"
     ]
    },
    {
     "data": {
      "text/plain": [
       "[0, 1, 2, 4, 5]"
      ]
     },
     "execution_count": 14,
     "metadata": {},
     "output_type": "execute_result"
    }
   ],
   "source": [
    "lista = list(range(6))\n",
    "print(lista)\n",
    "del lista[3] #elimina el 3\n",
    "lista"
   ]
  },
  {
   "cell_type": "code",
   "execution_count": 15,
   "id": "fb3b6edc",
   "metadata": {},
   "outputs": [
    {
     "data": {
      "text/plain": [
       "'nueva'"
      ]
     },
     "execution_count": 15,
     "metadata": {},
     "output_type": "execute_result"
    }
   ],
   "source": [
    "nueva_variable = \"nueva\"\n",
    "nueva_variable"
   ]
  },
  {
   "cell_type": "code",
   "execution_count": 16,
   "id": "d8ea5489",
   "metadata": {},
   "outputs": [
    {
     "ename": "NameError",
     "evalue": "name 'nueva_variable' is not defined",
     "output_type": "error",
     "traceback": [
      "\u001b[1;31m---------------------------------------------------------------------------\u001b[0m",
      "\u001b[1;31mNameError\u001b[0m                                 Traceback (most recent call last)",
      "Cell \u001b[1;32mIn[16], line 2\u001b[0m\n\u001b[0;32m      1\u001b[0m \u001b[38;5;28;01mdel\u001b[39;00m nueva_variable\n\u001b[1;32m----> 2\u001b[0m \u001b[43mnueva_variable\u001b[49m\n",
      "\u001b[1;31mNameError\u001b[0m: name 'nueva_variable' is not defined"
     ]
    }
   ],
   "source": [
    "del nueva_variable\n",
    "nueva_variable"
   ]
  },
  {
   "cell_type": "markdown",
   "id": "b742e906",
   "metadata": {},
   "source": [
    "## Operadores y funciones sobre diccionarios\n",
    "\n",
    "Los diccionarios soportan lo siguientes operadores:\n",
    "\n",
    "| Operador     | Significado   |\n",
    "|--------------|---------------|\n",
    "|    `d[k]`    | indexación    |\n",
    "|  `k in s`    | pertenencia   |\n",
    "| `k not in s` | no pertenencia|\n",
    "|  `d1 == d2`  | igualdad      |\n",
    "|  `d1 != d2`  | desigualdad   |\n",
    "\n",
    "Además, los diccionarios soportan la función `len()`."
   ]
  },
  {
   "cell_type": "code",
   "execution_count": 17,
   "id": "1f4ca8b1",
   "metadata": {},
   "outputs": [
    {
     "name": "stdout",
     "output_type": "stream",
     "text": [
      "{'juan': 13, 'sonia': 11, 'luis': 14, 'elena': 12}\n",
      "True\n",
      "False\n",
      "True\n"
     ]
    }
   ],
   "source": [
    "print(edades)\n",
    "print(\"sonia\" in edades)\n",
    "print(\"marina\" in edades)\n",
    "print(\"cristina\" not in edades)"
   ]
  },
  {
   "cell_type": "code",
   "execution_count": 18,
   "id": "d5f933e1",
   "metadata": {},
   "outputs": [
    {
     "data": {
      "text/plain": [
       "False"
      ]
     },
     "execution_count": 18,
     "metadata": {},
     "output_type": "execute_result"
    }
   ],
   "source": [
    "edades != edades"
   ]
  },
  {
   "cell_type": "markdown",
   "id": "6925c2c2",
   "metadata": {},
   "source": [
    "Al comparar los diccionarios, el orden en que aparecen los pares no es relevante (son un _conjunto_ de pares):"
   ]
  },
  {
   "cell_type": "code",
   "execution_count": 19,
   "id": "b05352a1",
   "metadata": {},
   "outputs": [
    {
     "data": {
      "text/plain": [
       "True"
      ]
     },
     "execution_count": 19,
     "metadata": {},
     "output_type": "execute_result"
    }
   ],
   "source": [
    "{\"mes\" : \"junio\", \"dia\": 29} == {\"dia\": 29, \"mes\" : \"junio\"}"
   ]
  },
  {
   "cell_type": "code",
   "execution_count": 21,
   "id": "26830fcf",
   "metadata": {},
   "outputs": [
    {
     "data": {
      "text/plain": [
       "4"
      ]
     },
     "execution_count": 21,
     "metadata": {},
     "output_type": "execute_result"
    }
   ],
   "source": [
    "len(edades)"
   ]
  },
  {
   "cell_type": "markdown",
   "id": "bc86d665",
   "metadata": {},
   "source": [
    "## Métodos sobre diccionarios\n",
    "\n",
    "Los diccionarios soportan, entre otros, los siguientes métodos:\n",
    "\n",
    "| Método      | Significado                                               |\n",
    "|-------------|---------------------------------------|\n",
    "| `d.clear()` | borra todos los pares del diccionario |\n",
    "| `d.pop(k)`  | elimina la clave `k` `i` de `d`       |\n"
   ]
  },
  {
   "cell_type": "code",
   "execution_count": 22,
   "id": "82095b56",
   "metadata": {},
   "outputs": [
    {
     "name": "stdout",
     "output_type": "stream",
     "text": [
      "{'one': 'uno', 'two': 'dos', 'three': 'tres', 'four': 'cuatro', 'five': 'cinco'}\n",
      "tres\n",
      "{'one': 'uno', 'two': 'dos', 'four': 'cuatro', 'five': 'cinco'}\n"
     ]
    }
   ],
   "source": [
    "english_spanish = {\"one\": \"uno\", \"two\": \"dos\", \"three\": \"tres\", \n",
    "                   \"four\": \"cuatro\", \"five\": \"cinco\"}\n",
    "\n",
    "print(english_spanish)\n",
    "print(english_spanish.pop(\"three\"))\n",
    "print(english_spanish)"
   ]
  },
  {
   "cell_type": "code",
   "execution_count": 23,
   "id": "de6e200f",
   "metadata": {},
   "outputs": [
    {
     "name": "stdout",
     "output_type": "stream",
     "text": [
      "{'one': 'uno', 'two': 'dos', 'four': 'cuatro', 'five': 'cinco'}\n",
      "{}\n"
     ]
    }
   ],
   "source": [
    "print(english_spanish)\n",
    "english_spanish.clear()\n",
    "print(english_spanish)"
   ]
  },
  {
   "cell_type": "markdown",
   "id": "8325f0e4",
   "metadata": {},
   "source": [
    "## Iteración básica sobre diccionarios\n",
    "\n",
    "Podemos usar un diccionario como fuente de datos en un bucle `for`. En tal caso, la variable de control tomará sucesivamente los valores de las claves del diccionario:"
   ]
  },
  {
   "cell_type": "code",
   "execution_count": 24,
   "id": "d16a0101",
   "metadata": {},
   "outputs": [
    {
     "name": "stdout",
     "output_type": "stream",
     "text": [
      "{'juan': 13, 'sonia': 11, 'luis': 14, 'elena': 12}\n",
      "\n",
      "juan  tiene 13 años\n",
      "sonia tiene 11 años\n",
      "luis  tiene 14 años\n",
      "elena tiene 12 años\n"
     ]
    }
   ],
   "source": [
    "print(edades)\n",
    "print()\n",
    "\n",
    "for nombre in edades:\n",
    "    print(\"{:5} tiene {:2d} años\".format(nombre, edades[nombre]))"
   ]
  },
  {
   "cell_type": "markdown",
   "id": "5fa99aba",
   "metadata": {},
   "source": [
    "## Formato JSON para intercambio de datos\n",
    "\n",
    "JSON (JavaScript Object Notation) es una notación que permite representar textualmente un valor estructurado. La representación del valor es universal, independiente del lenguaje de programación, sistema operativo o arquitectura. Esto permite transmitir información entre diferentes sistemas conectados a la Web.\n",
    "\n",
    "El siguiente es un valor estructurado representado en formato JSON:\n",
    "\n",
    "```\n",
    "{\n",
    "\"Name\" : \"David Doe\",\n",
    "\"Age\" : 25,\n",
    "\"Hobby\": [\"basketball\", \"python programming\"],\n",
    "\"Family\" : {\"father\" : \"John Doe\",\n",
    "            \"mother\" : \"Mary Doe\"\n",
    "           },\n",
    "\"Married\": true \n",
    "}\n",
    "```"
   ]
  },
  {
   "cell_type": "markdown",
   "id": "e28a4c8c",
   "metadata": {},
   "source": [
    "## JSON en Python\n",
    "\n",
    "Para poder trabajar con datos en formato JSON debemos importar el módulo `json`:"
   ]
  },
  {
   "cell_type": "code",
   "execution_count": 25,
   "id": "3e422e94",
   "metadata": {},
   "outputs": [],
   "source": [
    "import json"
   ]
  },
  {
   "cell_type": "markdown",
   "id": "c2687be0",
   "metadata": {},
   "source": [
    "El método `loads(json_str)` devuelve un diccionario Python creado a partir de una cadena `json_str` que contiene\n",
    "un dato estructurado en formato JSON:"
   ]
  },
  {
   "cell_type": "code",
   "execution_count": 26,
   "id": "8fc7bc04",
   "metadata": {},
   "outputs": [
    {
     "name": "stdout",
     "output_type": "stream",
     "text": [
      "<class 'dict'>\n",
      "{'Name': 'David Doe', 'Age': 25, 'Hobby': ['basketball', 'python programming'], 'Family': {'father': 'John Doe', 'mother': 'Mary Doe'}, 'Married': True}\n"
     ]
    }
   ],
   "source": [
    "cadena_json = '{\"Name\": \"David Doe\", \"Age\": 25, \"Hobby\": [\"basketball\", \"python programming\"],\\\n",
    "\"Family\": {\"father\": \"John Doe\", \"mother\": \"Mary Doe\"}, \"Married\": true }'\n",
    "\n",
    "diccionario_python = json.loads(cadena_json)\n",
    "\n",
    "print(type(diccionario_python))\n",
    "print(diccionario_python)"
   ]
  },
  {
   "cell_type": "code",
   "execution_count": 27,
   "id": "62022442",
   "metadata": {},
   "outputs": [
    {
     "name": "stdout",
     "output_type": "stream",
     "text": [
      "{'Name': 'David Doe', 'Age': 50, 'Hobby': ['basketball', 'python programming'], 'Family': {'father': 'John Doe', 'mother': 'Mary Doe'}, 'Married': False}\n",
      "python programming\n",
      "Mary Doe\n",
      "M\n"
     ]
    }
   ],
   "source": [
    "diccionario_python[\"Age\"] = 50\n",
    "diccionario_python[\"Married\"] = False\n",
    "print(diccionario_python)\n",
    "print(diccionario_python[\"Hobby\"][1])\n",
    "print(diccionario_python[\"Family\"][\"mother\"])\n",
    "print(diccionario_python[\"Family\"][\"mother\"][0])"
   ]
  },
  {
   "cell_type": "markdown",
   "id": "f85417a0",
   "metadata": {},
   "source": [
    "El método `json.dump(python_dic, filename, indent='\\t')` almacena un diccionario Python en el fichero `filename`, utilizando tabuladores (`\\t`) para sangrar el documento JSON. El fichero `filename` tiene que haber sido abierto (`open`) en modo escritura (`w`) previamente (lo estudiaremos en la Unidad 13)."
   ]
  },
  {
   "cell_type": "code",
   "execution_count": null,
   "id": "5f13b3f9",
   "metadata": {},
   "outputs": [],
   "source": [
    "with open(\"datos.json\", 'w') as file:  # abre el fichero \"datos.json\" en modo escritura ('w')\n",
    "    json.dump(diccionario_python, file, indent='    ')"
   ]
  },
  {
   "cell_type": "markdown",
   "id": "37b161e4",
   "metadata": {},
   "source": [
    "La sentencia anterior debe haber creado el fichero `datos.json` en el directorio actual. Puedes abrir el fichero desde Jupyter para ver su contenido."
   ]
  },
  {
   "cell_type": "markdown",
   "id": "518d647a",
   "metadata": {},
   "source": [
    "## El método `format`\n",
    "\n",
    "Ya hemos visto que el método `format` permite asociar un formato a cada valor que queremos mostrar por pantalla:"
   ]
  },
  {
   "cell_type": "code",
   "execution_count": 28,
   "id": "51664afe",
   "metadata": {},
   "outputs": [
    {
     "name": "stdout",
     "output_type": "stream",
     "text": [
      "3.1416\n"
     ]
    }
   ],
   "source": [
    "pi = 3.141592653589793\n",
    "print(\"{:6.4f}\".format(pi)) #F ES FLOAT Y 4 SON LOS DECIMALES"
   ]
  },
  {
   "cell_type": "markdown",
   "id": "f6f65c42",
   "metadata": {},
   "source": [
    "Hasta ahora hemos emparejado cada especificación de formato `{}` con el correspondiente dato facilitado en los argumentos de `format`:"
   ]
  },
  {
   "cell_type": "code",
   "execution_count": 29,
   "id": "83e22cdc",
   "metadata": {},
   "outputs": [
    {
     "name": "stdout",
     "output_type": "stream",
     "text": [
      "I like python and java\n"
     ]
    }
   ],
   "source": [
    "print(\"I like {} and {}\".format(\"python\", \"java\")) #para meter palabras entre medias"
   ]
  },
  {
   "cell_type": "markdown",
   "id": "baf3ce48",
   "metadata": {},
   "source": [
    "Es posible indicar en cada especificación de formato a qué argumento se refiere; basta indicar la posición del argumento (se numeran desde cero):"
   ]
  },
  {
   "cell_type": "code",
   "execution_count": 30,
   "id": "6baa452c",
   "metadata": {},
   "outputs": [
    {
     "name": "stdout",
     "output_type": "stream",
     "text": [
      "I like python and java\n",
      "I like java and python\n"
     ]
    }
   ],
   "source": [
    "print(\"I like {0} and {1}\".format(\"python\", \"java\"))\n",
    "print(\"I like {1} and {0}\".format(\"python\", \"java\"))"
   ]
  },
  {
   "cell_type": "markdown",
   "id": "9804b801",
   "metadata": {},
   "source": [
    "Este índice de argumento se puede combinar con la especificación de formato propiamente dicha:"
   ]
  },
  {
   "cell_type": "code",
   "execution_count": 32,
   "id": "19213fe8",
   "metadata": {},
   "outputs": [
    {
     "name": "stdout",
     "output_type": "stream",
     "text": [
      "pi con dos decimales es 3.14, y con 6 decimales es 3.141593\n"
     ]
    }
   ],
   "source": [
    "print(\"pi con dos decimales es {0:4.2f}, y con 6 decimales es {0:8.6f}\".format(pi))"
   ]
  },
  {
   "cell_type": "markdown",
   "id": "ceac6987",
   "metadata": {},
   "source": [
    "## Solución del primer ejercicio de paper coding (128)"
   ]
  },
  {
   "cell_type": "code",
   "execution_count": 33,
   "id": "e9befb80",
   "metadata": {},
   "outputs": [
    {
     "data": {
      "text/plain": [
       "'Seoul'"
      ]
     },
     "execution_count": 33,
     "metadata": {},
     "output_type": "execute_result"
    }
   ],
   "source": [
    "capital_dic = { \"Korea\" : \"Seoul\", \n",
    "                \"China\" : \"Beijing\", \n",
    "                \"USA\" : \"Washington DC\" }\n",
    "\n",
    "capital_dic[\"Korea\"]"
   ]
  },
  {
   "cell_type": "markdown",
   "id": "4f20ffad",
   "metadata": {},
   "source": [
    "## Solución del segundo ejercicio de paper coding (129)"
   ]
  },
  {
   "cell_type": "code",
   "execution_count": 34,
   "id": "bf437808",
   "metadata": {
    "scrolled": true
   },
   "outputs": [
    {
     "name": "stdout",
     "output_type": "stream",
     "text": [
      "The price of apple is 5000 KRW\n",
      "The price of banana is 4000 KRW\n",
      "The price of grape is 5300 KRW\n",
      "The price of melon is 6500 KRW\n"
     ]
    }
   ],
   "source": [
    "fruits_dic = {\n",
    "    'apple': 5000,\n",
    "    'banana': 4000,\n",
    "    'grape': 5300,\n",
    "    'melon': 6500,\n",
    "}\n",
    "\n",
    "for i, j in fruits_dic.items():  #es como hacer dos for\n",
    "    print(f\"The price of {i} is {j} KRW\") #la f de delante es un formato para no tener que ir poniendo , para i y j"
   ]
  },
  {
   "cell_type": "code",
   "execution_count": 35,
   "id": "fd327ec5",
   "metadata": {},
   "outputs": [
    {
     "name": "stdout",
     "output_type": "stream",
     "text": [
      "key: apple   \tkey: banana  \tkey: grape   \tkey: melon   \t\n",
      "value: 5000\tvalue: 4000\tvalue: 5300\tvalue: 6500\t"
     ]
    }
   ],
   "source": [
    "#otra opción    \n",
    "fruits_dic = {\"apple\" : 5000 , \"banana\" : 4000 , \"grape\" : 5300 , \"melon\" : 6500}\n",
    "\n",
    "for fruta in fruits_dic:\n",
    "    print(\"key: {:8}\".format(fruta), end = \"\\t\")\n",
    "print()\n",
    "\n",
    "for fruta in fruits_dic:\n",
    "     print(\"value: {:4}\".format(fruits_dic[fruta]), end = \"\\t\")"
   ]
  },
  {
   "cell_type": "markdown",
   "id": "ebb2d6ba",
   "metadata": {},
   "source": [
    "## Solución del ejercicio de pair programming (147)"
   ]
  },
  {
   "cell_type": "code",
   "execution_count": 36,
   "id": "4d4a9acc",
   "metadata": {},
   "outputs": [
    {
     "name": "stdout",
     "output_type": "stream",
     "text": [
      "dict_keys(['apple', 'melon', 'banana', 'orange'])\n",
      "apple está en fruits_dic\n",
      "mango no está en fruits_dic\n"
     ]
    }
   ],
   "source": [
    "fruits_dic = {\"apple\" : 6000 , \"melon\" : 3000 , \"banana\" : 5000 , \"orange\" : 4000 }\n",
    "list_keys = list(fruits_dic)\n",
    "print(\"dict_keys(\", list_keys, \")\", sep = \"\")\n",
    "\n",
    "lista_busqueda = [\"apple\", \"mango\"]\n",
    "\n",
    "for busqueda in lista_busqueda:\n",
    "    if busqueda in fruits_dic:\n",
    "        print(busqueda, \"está en fruits_dic\")\n",
    "    else:\n",
    "         print(busqueda, \"no está en fruits_dic\")"
   ]
  },
  {
   "cell_type": "markdown",
   "id": "dd78fbd1",
   "metadata": {},
   "source": [
    "## Ejercicio extra\n",
    "\n",
    "Dada una cadena, calcula una tabla de frecuencias absolutas de sus caracteres; es decir, una tabla que indique cuántas veces aparece cada carácter en la cadena.\n",
    "\n",
    "**Sugerencia:** Utiliza un diccionario para representar la tabla de frecuencias. Las claves del diccionario serán los caracteres y los valores un entero positivo con el número de apariciones (por ejemplo, `\"a\":5` significa que la `a` aparece 5 veces en la cadena)."
   ]
  },
  {
   "cell_type": "code",
   "execution_count": 37,
   "id": "6fba89e8",
   "metadata": {},
   "outputs": [
    {
     "name": "stdout",
     "output_type": "stream",
     "text": [
      "{'a': 5, 'b': 4, 'c': 1, ' ': 1, 'd': 1, 'z': 1}\n"
     ]
    }
   ],
   "source": [
    "# cadena = \"hola que tal como estas\"\n",
    "cadena = \"aaabbbc aabdz\"\n",
    "\n",
    "# Hay que hacer un diccionario para guardar las letras y la frecuencia con {}\n",
    "# Creamos un diccionario vacio en el que van a ir las letras: el numero de veces\n",
    "# que aparece cada letra\n",
    "\n",
    "frecuencia = {}\n",
    "\n",
    "# tabla de frecuencias absolutas\n",
    "# creamos un bucle para ir recorriendo la cadena\n",
    "# Vamos guardando con el for los datos en el diccionario\n",
    "\n",
    "for i in cadena:\n",
    "    if i in frecuencia:\n",
    "        # si el valor i (cada una de las letras de cadena) \n",
    "        # ya esta guardado en la cadena añade un valor\n",
    "        frecuencia[i] = frecuencia[i] + 1\n",
    "    else:\n",
    "        #si no esta guardado el valor se queda a uno\n",
    "        frecuencia[i] = 1\n",
    "\n",
    "print(frecuencia)"
   ]
  },
  {
   "cell_type": "code",
   "execution_count": 39,
   "id": "d613594b",
   "metadata": {},
   "outputs": [
    {
     "name": "stdout",
     "output_type": "stream",
     "text": [
      "Ponga una cadena: 2,4,6,8\n",
      "{'2': 1, ',': 3, '4': 1, '6': 1, '8': 1}\n"
     ]
    }
   ],
   "source": [
    "cadena = input(\"Ponga una cadena: \")\n",
    "\n",
    "tabla_frecuencias_abs = {}\n",
    "\n",
    "for caracter in cadena:\n",
    "    if not caracter in tabla_frecuencias_abs:\n",
    "        tabla_frecuencias_abs[caracter] = 1\n",
    "    else:\n",
    "        tabla_frecuencias_abs[caracter] += 1\n",
    "    \n",
    "print(tabla_frecuencias_abs)"
   ]
  },
  {
   "cell_type": "markdown",
   "id": "6ffe524f",
   "metadata": {},
   "source": [
    "## Solución del mission problem (95)"
   ]
  },
  {
   "cell_type": "code",
   "execution_count": 40,
   "id": "339dee74",
   "metadata": {},
   "outputs": [
    {
     "name": "stdout",
     "output_type": "stream",
     "text": [
      "Welcome to David's cafeteria\n",
      "\n",
      "Cafe      \tPrice\n",
      "Americano \t3000\n",
      "Iced Americano\t3500\n",
      "Capuccino \t4000\n",
      "Cafe Latte\t4500\n",
      "Espresso  \t3600\n",
      "please, enter your choice: 6\n",
      "Sorry, we do not serve 6\n",
      "\n",
      "Cafe      \tPrice\n",
      "Americano \t3000\n",
      "Iced Americano\t3500\n",
      "Capuccino \t4000\n",
      "Cafe Latte\t4500\n",
      "Espresso  \t3600\n"
     ]
    },
    {
     "ename": "KeyboardInterrupt",
     "evalue": "Interrupted by user",
     "output_type": "error",
     "traceback": [
      "\u001b[1;31m---------------------------------------------------------------------------\u001b[0m",
      "\u001b[1;31mKeyboardInterrupt\u001b[0m                         Traceback (most recent call last)",
      "Cell \u001b[1;32mIn[40], line 15\u001b[0m\n\u001b[0;32m     12\u001b[0m \u001b[38;5;28;01mfor\u001b[39;00m cafe \u001b[38;5;129;01min\u001b[39;00m menu:\n\u001b[0;32m     13\u001b[0m     \u001b[38;5;28mprint\u001b[39m(\u001b[38;5;124m\"\u001b[39m\u001b[38;5;132;01m{:10}\u001b[39;00m\u001b[38;5;130;01m\\t\u001b[39;00m\u001b[38;5;132;01m{}\u001b[39;00m\u001b[38;5;124m\"\u001b[39m\u001b[38;5;241m.\u001b[39mformat(cafe, menu[cafe]))\n\u001b[1;32m---> 15\u001b[0m choice \u001b[38;5;241m=\u001b[39m \u001b[38;5;28;43minput\u001b[39;49m\u001b[43m(\u001b[49m\u001b[38;5;124;43m\"\u001b[39;49m\u001b[38;5;124;43mplease, enter your choice: \u001b[39;49m\u001b[38;5;124;43m\"\u001b[39;49m\u001b[43m)\u001b[49m\n\u001b[0;32m     17\u001b[0m \u001b[38;5;28;01mif\u001b[39;00m choice \u001b[38;5;129;01mnot\u001b[39;00m \u001b[38;5;129;01min\u001b[39;00m menu:\n\u001b[0;32m     18\u001b[0m     \u001b[38;5;28mprint\u001b[39m(\u001b[38;5;124m\"\u001b[39m\u001b[38;5;124mSorry, we do not serve\u001b[39m\u001b[38;5;124m\"\u001b[39m, choice)\n",
      "File \u001b[1;32mC:\\anaconda3\\lib\\site-packages\\ipykernel\\kernelbase.py:1175\u001b[0m, in \u001b[0;36mKernel.raw_input\u001b[1;34m(self, prompt)\u001b[0m\n\u001b[0;32m   1171\u001b[0m \u001b[38;5;28;01mif\u001b[39;00m \u001b[38;5;129;01mnot\u001b[39;00m \u001b[38;5;28mself\u001b[39m\u001b[38;5;241m.\u001b[39m_allow_stdin:\n\u001b[0;32m   1172\u001b[0m     \u001b[38;5;28;01mraise\u001b[39;00m StdinNotImplementedError(\n\u001b[0;32m   1173\u001b[0m         \u001b[38;5;124m\"\u001b[39m\u001b[38;5;124mraw_input was called, but this frontend does not support input requests.\u001b[39m\u001b[38;5;124m\"\u001b[39m\n\u001b[0;32m   1174\u001b[0m     )\n\u001b[1;32m-> 1175\u001b[0m \u001b[38;5;28;01mreturn\u001b[39;00m \u001b[38;5;28;43mself\u001b[39;49m\u001b[38;5;241;43m.\u001b[39;49m\u001b[43m_input_request\u001b[49m\u001b[43m(\u001b[49m\n\u001b[0;32m   1176\u001b[0m \u001b[43m    \u001b[49m\u001b[38;5;28;43mstr\u001b[39;49m\u001b[43m(\u001b[49m\u001b[43mprompt\u001b[49m\u001b[43m)\u001b[49m\u001b[43m,\u001b[49m\n\u001b[0;32m   1177\u001b[0m \u001b[43m    \u001b[49m\u001b[38;5;28;43mself\u001b[39;49m\u001b[38;5;241;43m.\u001b[39;49m\u001b[43m_parent_ident\u001b[49m\u001b[43m[\u001b[49m\u001b[38;5;124;43m\"\u001b[39;49m\u001b[38;5;124;43mshell\u001b[39;49m\u001b[38;5;124;43m\"\u001b[39;49m\u001b[43m]\u001b[49m\u001b[43m,\u001b[49m\n\u001b[0;32m   1178\u001b[0m \u001b[43m    \u001b[49m\u001b[38;5;28;43mself\u001b[39;49m\u001b[38;5;241;43m.\u001b[39;49m\u001b[43mget_parent\u001b[49m\u001b[43m(\u001b[49m\u001b[38;5;124;43m\"\u001b[39;49m\u001b[38;5;124;43mshell\u001b[39;49m\u001b[38;5;124;43m\"\u001b[39;49m\u001b[43m)\u001b[49m\u001b[43m,\u001b[49m\n\u001b[0;32m   1179\u001b[0m \u001b[43m    \u001b[49m\u001b[43mpassword\u001b[49m\u001b[38;5;241;43m=\u001b[39;49m\u001b[38;5;28;43;01mFalse\u001b[39;49;00m\u001b[43m,\u001b[49m\n\u001b[0;32m   1180\u001b[0m \u001b[43m\u001b[49m\u001b[43m)\u001b[49m\n",
      "File \u001b[1;32mC:\\anaconda3\\lib\\site-packages\\ipykernel\\kernelbase.py:1217\u001b[0m, in \u001b[0;36mKernel._input_request\u001b[1;34m(self, prompt, ident, parent, password)\u001b[0m\n\u001b[0;32m   1214\u001b[0m             \u001b[38;5;28;01mbreak\u001b[39;00m\n\u001b[0;32m   1215\u001b[0m \u001b[38;5;28;01mexcept\u001b[39;00m \u001b[38;5;167;01mKeyboardInterrupt\u001b[39;00m:\n\u001b[0;32m   1216\u001b[0m     \u001b[38;5;66;03m# re-raise KeyboardInterrupt, to truncate traceback\u001b[39;00m\n\u001b[1;32m-> 1217\u001b[0m     \u001b[38;5;28;01mraise\u001b[39;00m \u001b[38;5;167;01mKeyboardInterrupt\u001b[39;00m(\u001b[38;5;124m\"\u001b[39m\u001b[38;5;124mInterrupted by user\u001b[39m\u001b[38;5;124m\"\u001b[39m) \u001b[38;5;28;01mfrom\u001b[39;00m \u001b[38;5;28mNone\u001b[39m\n\u001b[0;32m   1218\u001b[0m \u001b[38;5;28;01mexcept\u001b[39;00m \u001b[38;5;167;01mException\u001b[39;00m:\n\u001b[0;32m   1219\u001b[0m     \u001b[38;5;28mself\u001b[39m\u001b[38;5;241m.\u001b[39mlog\u001b[38;5;241m.\u001b[39mwarning(\u001b[38;5;124m\"\u001b[39m\u001b[38;5;124mInvalid Message:\u001b[39m\u001b[38;5;124m\"\u001b[39m, exc_info\u001b[38;5;241m=\u001b[39m\u001b[38;5;28;01mTrue\u001b[39;00m)\n",
      "\u001b[1;31mKeyboardInterrupt\u001b[0m: Interrupted by user"
     ]
    }
   ],
   "source": [
    "menu = {\"Americano\" : 3000, \n",
    "        \"Iced Americano\" : 3500, \n",
    "        \"Capuccino\" : 4000, \n",
    "        \"Cafe Latte\" : 4500, \n",
    "        \"Espresso\" : 3600}\n",
    "\n",
    "print(\"Welcome to David's cafeteria\")\n",
    "choice = \"\"\n",
    "while choice not in menu:\n",
    "\n",
    "    print(\"\\n{:10}\\t{}\".format(\"Cafe\", \"Price\"))\n",
    "    for cafe in menu:\n",
    "        print(\"{:10}\\t{}\".format(cafe, menu[cafe]))\n",
    "    \n",
    "    choice = input(\"please, enter your choice: \")\n",
    "    \n",
    "    if choice not in menu:\n",
    "        print(\"Sorry, we do not serve\", choice)\n",
    "\n",
    "# choice in menu\n",
    "        \n",
    "print(\"You selected\", choice, \"Good choice!\")\n",
    "print(\"Pease insert\", menu[choice], \"wons and enjoy\")"
   ]
  },
  {
   "cell_type": "code",
   "execution_count": null,
   "id": "287ff13d",
   "metadata": {},
   "outputs": [],
   "source": []
  }
 ],
 "metadata": {
  "kernelspec": {
   "display_name": "Python 3 (ipykernel)",
   "language": "python",
   "name": "python3"
  },
  "language_info": {
   "codemirror_mode": {
    "name": "ipython",
    "version": 3
   },
   "file_extension": ".py",
   "mimetype": "text/x-python",
   "name": "python",
   "nbconvert_exporter": "python",
   "pygments_lexer": "ipython3",
   "version": "3.10.9"
  }
 },
 "nbformat": 4,
 "nbformat_minor": 5
}

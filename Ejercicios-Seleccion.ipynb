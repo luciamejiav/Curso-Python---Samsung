{
 "cells": [
  {
   "cell_type": "markdown",
   "id": "ed902d4f",
   "metadata": {},
   "source": [
    "# Ejercicios básicos de Python - Expresiones y control condicional\n",
    "\n",
    "\n",
    "## Cálculo del índice de masa corporal\n",
    "\n",
    "El índice de masa corporal (IMC) se puede calcular como:\n",
    "\n",
    "$$\n",
    "\\mathrm{IMC} = \\frac{m}{h^2}\n",
    "$$\n",
    "\n",
    "donde $m$ es la masa en kilos y $h$ es la estatura en metros. Este índice permite clasificar a las personas en bajo peso, peso normal, sobrepeso u obesidad según la siguiente tabla:\n",
    "\n",
    "| IMC($kg/m^2$) |    Categoría   |\n",
    "| ------------- | -------------- |\n",
    "| Bajo peso     |   $\\lt$ 18,5   |\n",
    "| Normal        |  18,5 - 24.99  |\n",
    "| Sobrepeso     |    25 - 29.99  |\n",
    "| Obeso         |    30 $\\leq$   |\n",
    "\n",
    "Escribe un programa Python que dadas una masa $m$ y una estatura $h$ escriba un mensaje indicando a qué categoría corresponde esa persona. Por ejemplo, para $m= 52$ y $h=1.63$ debe escribir:\n",
    "\n",
    "```\n",
    "imc= 19.57168128269788\n",
    "categoría= normal\n",
    "```"
   ]
  },
  {
   "cell_type": "code",
   "execution_count": null,
   "id": "38942cbe",
   "metadata": {},
   "outputs": [],
   "source": []
  },
  {
   "cell_type": "markdown",
   "id": "c74a45b0",
   "metadata": {},
   "source": [
    "## Días del mes\n",
    "\n",
    "Escribe un programa python que lea el número que corresponda a un mes (entre 1 y 12) y que escriba el número de días que corresponde a ese mes. Si el mes es febrero, puedes asumir que el año no es bisiesto."
   ]
  },
  {
   "cell_type": "code",
   "execution_count": null,
   "id": "94637769",
   "metadata": {},
   "outputs": [],
   "source": []
  },
  {
   "cell_type": "markdown",
   "id": "9c76b7ce",
   "metadata": {},
   "source": [
    "## Raíces de una ecuación de segundo grado\n",
    "\n",
    "Dada una ecuación de segundo grado:\n",
    "\n",
    "$$\n",
    "    ax^2 + bx + c = 0\n",
    "$$\n",
    "\n",
    "se pueden calcular sus raíces por radicales:\n",
    "\n",
    "$$\n",
    "x_{1, 2} = \\frac{-b \\pm \\sqrt{b^2 - 4ac}}{2a}\n",
    "$$\n",
    "\n",
    "Escribe un programa Python para calcular las raíces de una ecuación de segundo grado.\n",
    "Para calcular la raíz cuadrada puedes usar la función `sqrt` del módulo `math`. Las raíces se deben almacenar en una tupla. Si las raíces son complejas, se debe mostrar un mensaje de error.\n",
    "\n",
    "Por ejemplo, las raíces de $x^2 -5x + 6 = 0$ son $x_1 = 3$ y $x_2 = 2$"
   ]
  },
  {
   "cell_type": "code",
   "execution_count": 7,
   "id": "f7521e3d",
   "metadata": {},
   "outputs": [
    {
     "name": "stdout",
     "output_type": "stream",
     "text": [
      "Dada la ecuación ax2 + bx + c = 0, asigne los valores para a, b y c\n",
      "Introduzca el valor de a: 1\n",
      "Introduzca el valor de b: -5\n",
      "Introduzca el valor de c 6\n",
      " La solución para x1 es:  3.0\n",
      " La solución para x2 es:  2.0\n"
     ]
    }
   ],
   "source": [
    "import math\n",
    "\n",
    "print(\"Dada la ecuación ax2 + bx + c = 0, asigne los valores para a, b y c\")\n",
    "\n",
    "a = int(input(\"Introduzca el valor de a: \"))\n",
    "b = int(input(\"Introduzca el valor de b: \"))\n",
    "c = int(input(\"Introduzca el valor de c \"))\n",
    "\n",
    "valor_discriminante = b ** 2 - 4 * (a * c)\n",
    "\n",
    "if valor_discriminante >= 0:\n",
    "    x1 = (-b + math.sqrt(valor_discriminante)) / (2 * a)\n",
    "    x2 = (-b - math.sqrt(valor_discriminante)) / (2 * a)\n",
    "    print(\" La solución para x1 es: \", x1)\n",
    "    print(\" La solución para x2 es: \", x2)\n",
    "\n",
    "else:\n",
    "    print(\"Con los valores introducidos no se puede solucionar la ecuación\")"
   ]
  },
  {
   "cell_type": "markdown",
   "id": "2b9518a6",
   "metadata": {},
   "source": [
    "# Estaciones del año\n",
    "\n",
    "Un año se divide en cuatro estaciones según la siguiente tabla:\n",
    "\n",
    "| Estación  | Primer día    |\n",
    "|-----------|---------------|\n",
    "| Primavera | 21 marzo      |\n",
    "| Verano    | 21 junio      |\n",
    "| Otoño     | 23 septiembre |\n",
    "| Invierno  | 22 diciembre  |\n",
    "\n",
    "Escribe un programa que lea un día y un nombre de mes y responda a qué estación pertenece."
   ]
  },
  {
   "cell_type": "code",
   "execution_count": null,
   "id": "82048106",
   "metadata": {},
   "outputs": [],
   "source": [
    "mes = input(\"Introduce un mes: \")\n",
    "mes = mes.lower()\n",
    "dia = int(input(\"Introduce un día: \"))\n",
    "\n",
    "estacion = \"\"\n",
    "\n",
    "if (mes == \"diciembre\" and dia >= 22) or mes == \"enero\" or mes == \"febrero\" or (mes == \"marzo\" and dia < 21):\n",
    "    estacion = \"Invierno\"\n",
    "\n",
    "elif (mes == \"marzo\" and dia >= 21) or mes == \"abril\" or mes == \"mayo\" or (mes == \"junio\" and dia < 21):\n",
    "    estacion = \"Primavera\"\n",
    "\n",
    "elif (mes == \"junio\" and dia >= 21) or mes == \"julio\" or mes == \"agosto\" or (mes == \"septiembre\" and dia < 23):\n",
    "    estacion = \"Verano\" \n",
    "\n",
    "else:\n",
    "    estacion = \"Otoño\"\n",
    "\n",
    "print(\"En el día\", dia, \"del mes de\", mes, \"estamos en\", estacion)"
   ]
  },
  {
   "cell_type": "markdown",
   "id": "69d3899d",
   "metadata": {},
   "source": [
    "## Comprobación de direcciones de correo\n",
    "\n",
    "Una dirección de correo `nombre@dominio` es correcta si:\n",
    "- contiene exactamente una arroba\n",
    "- el nombre no puede estar vacío\n",
    "- el nombre no puede empezar ni acabar en guión\n",
    "- el dominio contiene dos subdominios (separados por un punto) cuya longitud es al menos de dos caracteres\n",
    "- ni en el nombre ni en el dominio pueden aparecer dos puntos consecutivos\n",
    "\n",
    "El siguiente código python comprueba si una dirección es correcta usando para ello una secuencia de pasos.\n",
    "```python\n",
    "correo = \"guido@python.org\" # str\n",
    "\n",
    "nombre_y_dominio = correo.split('@')\n",
    "\n",
    "nombre_valido = (len(nombre_y_dominio) == 2 and # cortocircuito\n",
    "                 len(nombre_y_dominio[0]) > 0 and\n",
    "                 not nombre_y_dominio[0].startswith('-') and\n",
    "                 not nombre_y_dominio[0].endswith('-'))\n",
    "\n",
    "dominio_valido = (len(nombre_y_dominio) == 2 and # cortocircuito\n",
    "                  nombre_y_dominio[1].count('.') == 1 and\n",
    "                  len (nombre_y_dominio[1].split('.')[0]) >= 2 and\n",
    "                  len (nombre_y_dominio[1].split('.')[1]) >= 2)\n",
    "\n",
    "no_hay_dos_puntos_consecutivos = correo.count('..') == 0\n",
    "\n",
    "nombre_valido and dominio_valido and no_hay_dos_puntos_consecutivos\n",
    "```\n",
    "\n",
    "Reescribe el código y simpifícalo usando estructuras de control condicional."
   ]
  },
  {
   "cell_type": "code",
   "execution_count": null,
   "id": "307931c4",
   "metadata": {},
   "outputs": [],
   "source": []
  },
  {
   "cell_type": "markdown",
   "id": "29879a86",
   "metadata": {},
   "source": [
    "## Edad canina\n",
    "\n",
    "Se suele decir que un año humano equivale a 7 años caninos. Sin embargo, esta regla de conversión no tiene en cuenta que los perros alcanzan la edad adulta en aproximadamente dos años. En consecuencia, algunas personas creen que es mejor contar cada uno de los dos primeros años humanos como 10,5 años caninos, y luego contar cada año humano adicional como 4 años caninos.\n",
    "\n",
    "Escribe un programa que lea una edad humana y la traduzca a canina usando ambas reglas de conversión de años humanos a años caninos."
   ]
  },
  {
   "cell_type": "code",
   "execution_count": null,
   "id": "bd19ee05",
   "metadata": {},
   "outputs": [],
   "source": []
  },
  {
   "cell_type": "markdown",
   "id": "9fafdc59",
   "metadata": {},
   "source": [
    "## Máximo de tres números\n",
    "\n",
    "Escribe un programa Python que lea tres números por teclado y que imprima el máximo de los números introducidos.\n"
   ]
  },
  {
   "cell_type": "code",
   "execution_count": 9,
   "id": "a3a895d7",
   "metadata": {},
   "outputs": [
    {
     "name": "stdout",
     "output_type": "stream",
     "text": [
      "Dime el primer número:5\n",
      "Dime el segundo número:1\n",
      "Dime el tercer número:6\n",
      "6.0\n"
     ]
    }
   ],
   "source": [
    "n1 = float(input(\"Dime el primer número:\"))\n",
    "n2 = float(input(\"Dime el segundo número:\"))\n",
    "n3 = float(input(\"Dime el tercer número:\"))\n",
    "\n",
    "if n1 > n2:\n",
    "    if n1 > n3:\n",
    "        print(n1)\n",
    "    else:\n",
    "        print(n3)\n",
    "elif n2 > n3:\n",
    "    print(n2)\n",
    "else:\n",
    "    print(n3)\n",
    "     \n",
    "#print(max(n1, n2, n3)) la opción más fácil es esta"
   ]
  },
  {
   "cell_type": "markdown",
   "id": "b42775c0",
   "metadata": {},
   "source": [
    "## Ordenar cuatro números\n",
    "\n",
    "Escribe un programa Python que lea cuatro números por teclado y que los imprima ordenados de menos a mayor. No puedes almacenar los números en una lista y mostrar la lista ordenada.\n"
   ]
  },
  {
   "cell_type": "code",
   "execution_count": null,
   "id": "8cfec6bb",
   "metadata": {},
   "outputs": [],
   "source": []
  }
 ],
 "metadata": {
  "kernelspec": {
   "display_name": "Python 3 (ipykernel)",
   "language": "python",
   "name": "python3"
  },
  "language_info": {
   "codemirror_mode": {
    "name": "ipython",
    "version": 3
   },
   "file_extension": ".py",
   "mimetype": "text/x-python",
   "name": "python",
   "nbconvert_exporter": "python",
   "pygments_lexer": "ipython3",
   "version": "3.10.9"
  }
 },
 "nbformat": 4,
 "nbformat_minor": 5
}

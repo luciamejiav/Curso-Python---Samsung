{
 "cells": [
  {
   "cell_type": "markdown",
   "id": "acfb8132",
   "metadata": {},
   "source": [
    "# Ejercicios básicos de Python - Iteración definida (bucle `for`)\n",
    "\n",
    "\n",
    "## Factorial de un número\n",
    "\n",
    "El factorial de un número $n \\gt 0$ es igual al producto de todos los números desde el 1 hasta $n$, inclusive. Por ejemplo, el facorial de $4$ es $1 \\times 2 \\times 3 \\times 4$. Por definición, el factorial de $0$ vale 1.\n",
    "Escribe un programa que calcule el factorial de un número."
   ]
  },
  {
   "cell_type": "code",
   "execution_count": null,
   "id": "20da0f43",
   "metadata": {},
   "outputs": [],
   "source": []
  },
  {
   "cell_type": "markdown",
   "id": "c74a45b0",
   "metadata": {},
   "source": [
    "## Divisores de un número\n",
    "\n",
    "Escribe un programa que escriba todos los divisores de un número positivo. Por ejemplo, los divisores de $20$ son $1$, $2$, $4$, $5$, $10$ y $20$."
   ]
  },
  {
   "cell_type": "code",
   "execution_count": 6,
   "id": "bb97b6b4",
   "metadata": {},
   "outputs": [
    {
     "name": "stdout",
     "output_type": "stream",
     "text": [
      "Introduce un número:20\n",
      "1 2 4 5 10 20 "
     ]
    }
   ],
   "source": [
    "n_positivo = int(input(\"Introduce un número:\"))\n",
    "\n",
    "for i in range(1, n_positivo + 1):\n",
    "    if n_positivo % i == 0:\n",
    "        print(i, end = \" \")\n",
    "    "
   ]
  },
  {
   "cell_type": "markdown",
   "id": "9c76b7ce",
   "metadata": {},
   "source": [
    "## Número primo\n",
    "\n",
    "Un número $n \\gt 1$ es primo si solo tiene dos divisores: él mismo y la unidad. Escribe un programa que dado un número indique si es primo o no."
   ]
  },
  {
   "cell_type": "code",
   "execution_count": 15,
   "id": "9cc6d74c",
   "metadata": {},
   "outputs": [
    {
     "name": "stdout",
     "output_type": "stream",
     "text": [
      "Introduce un número:25\n",
      "El número 25 no es primo\n"
     ]
    }
   ],
   "source": [
    "n = int(input(\"Introduce un número:\"))\n",
    "\n",
    "contador = 0\n",
    "\n",
    "for i in range(1, n + 1):\n",
    "    if(n % i == 0):\n",
    "        contador += 1\n",
    "        \n",
    "if contador == 2:\n",
    "    print(\"El número\", n, \"es primo\")\n",
    "else:\n",
    "    print(\"El número\", n, \"no es primo\")"
   ]
  },
  {
   "cell_type": "markdown",
   "id": "874139ea",
   "metadata": {},
   "source": [
    "## Números perfectos\n",
    "\n",
    "Un número es perfecto si coincide con la suma de sus divisores propios; es decir, si coincide con la suma de los divisores que son menores que él. Por ejemplo, $28$ es un número perfecto porque $28 = 1 + 2 + 4 + 7 + 14$. Escribe un programa que imprima los números perfectos entre 1 y 10000."
   ]
  },
  {
   "cell_type": "code",
   "execution_count": null,
   "id": "b48f2057",
   "metadata": {},
   "outputs": [],
   "source": []
  },
  {
   "cell_type": "markdown",
   "id": "4402878a",
   "metadata": {},
   "source": [
    "## Cinco por línea\n",
    "\n",
    "Escribe un procedimiento que escriba por pantalla todos los enteros entre 1000 y 2000, de modo que aparezcan 5 enteros en cada línea, salvo en la última, en la que pueden aparecer menos si no hay suficientes números."
   ]
  },
  {
   "cell_type": "code",
   "execution_count": null,
   "id": "cc85506d",
   "metadata": {},
   "outputs": [],
   "source": []
  },
  {
   "cell_type": "markdown",
   "id": "b63ac144",
   "metadata": {},
   "source": [
    "## Suma de las cifras de un número\n",
    "\n",
    "Escribe un programa que sume las cifras de un número. Por ejemplo, para $5127$ debe devolver $15$, ya que $5 + 1 + 2  +7 = 15$."
   ]
  },
  {
   "cell_type": "code",
   "execution_count": null,
   "id": "c4c46d62",
   "metadata": {},
   "outputs": [],
   "source": []
  },
  {
   "cell_type": "markdown",
   "id": "50d031d8",
   "metadata": {},
   "source": [
    "## Media aritmética de una lista\n",
    "\n",
    "Escribe un programa que calcule la media aritmética de una lista de números. Por ejemplo, para la lista `[13, 8, 9, 45, 1, 0, 0, 6, 12]` se debe obtener `10.44`."
   ]
  },
  {
   "cell_type": "code",
   "execution_count": 4,
   "id": "58cc53bb",
   "metadata": {},
   "outputs": [
    {
     "name": "stdout",
     "output_type": "stream",
     "text": [
      "La media es: 10.44\n"
     ]
    }
   ],
   "source": [
    "lista = [13, 8, 9, 45, 1, 0, 0, 6, 12]\n",
    "suma = 0\n",
    "contador = 0\n",
    "\n",
    "for i in lista:\n",
    "    suma += i\n",
    "    contador += 1\n",
    "    \n",
    "resultado = suma / contador\n",
    "    \n",
    "print(\"La media es:{:6.2f}\".format(resultado))"
   ]
  },
  {
   "cell_type": "markdown",
   "id": "88569d06",
   "metadata": {},
   "source": [
    "## Máximo de una lista\n",
    "\n",
    "Escribe un programa que calcule el máximo de una lista de números. Por ejemplo, para la lista `[13, 8, 9, 45, 1, 0, 0, 6, 12]` se debe obtener `45`.\n",
    "\n"
   ]
  },
  {
   "cell_type": "code",
   "execution_count": 17,
   "id": "e0865ee4",
   "metadata": {},
   "outputs": [
    {
     "name": "stdout",
     "output_type": "stream",
     "text": [
      "El número máximo es 45\n"
     ]
    }
   ],
   "source": [
    "lista = [13, 8, 9, 45, 1, 0, 0, 6, 12]\n",
    "comparador = 0\n",
    "maximo = 0\n",
    "\n",
    "for i in lista:\n",
    "    comparador = i\n",
    "    if comparador >= maximo:\n",
    "        maximo == comparador\n",
    "\n",
    "print(\"El número máximo es\", maximo)\n",
    "\n",
    "#Profe\n",
    "#for i in lista:\n",
    "#    comparador = i\n",
    "#    if maximo < i:\n",
    "#        maximo == i"
   ]
  },
  {
   "cell_type": "markdown",
   "id": "894353dc",
   "metadata": {},
   "source": [
    "## Nota de una gimnasta\n",
    "\n",
    "La nota de una gimnasta en los juegos olímpicos se obtiene a partir de las calificaciones (entre 0.0 y 10.0) emitidas por seis jueces del siguiente modo: se descartan la nota más alta y la más baja y se calcula el promedio de las otras cuatro. Escribe un programa que dada una lista con las seis calificaciones devuelva la nota final según el método descrito."
   ]
  },
  {
   "cell_type": "code",
   "execution_count": null,
   "id": "bae051c6",
   "metadata": {},
   "outputs": [],
   "source": []
  },
  {
   "cell_type": "markdown",
   "id": "91bb66d5",
   "metadata": {},
   "source": [
    "## Baraja española\n",
    "\n",
    "Las cartas de la baraja española se organizan en cuatro palos: oros, copas, espadas y bastos. Para cada palo hay naipes, con los valores del 1 al 7, más sota, caballo y rey. Escribe un programa que imprima en pantalla los 40 naipes que forman una baraja española."
   ]
  },
  {
   "cell_type": "code",
   "execution_count": 14,
   "id": "f4446fe4",
   "metadata": {},
   "outputs": [
    {
     "name": "stdout",
     "output_type": "stream",
     "text": [
      "1 de Oros\n",
      "2 de Oros\n",
      "3 de Oros\n",
      "4 de Oros\n",
      "5 de Oros\n",
      "6 de Oros\n",
      "7 de Oros\n",
      "Sota de Oros\n",
      "Caballo de Oros\n",
      "Rey de Oros\n",
      "\n",
      "1 de Copas\n",
      "2 de Copas\n",
      "3 de Copas\n",
      "4 de Copas\n",
      "5 de Copas\n",
      "6 de Copas\n",
      "7 de Copas\n",
      "Sota de Copas\n",
      "Caballo de Copas\n",
      "Rey de Copas\n",
      "\n",
      "1 de Espadas\n",
      "2 de Espadas\n",
      "3 de Espadas\n",
      "4 de Espadas\n",
      "5 de Espadas\n",
      "6 de Espadas\n",
      "7 de Espadas\n",
      "Sota de Espadas\n",
      "Caballo de Espadas\n",
      "Rey de Espadas\n",
      "\n",
      "1 de Bastos\n",
      "2 de Bastos\n",
      "3 de Bastos\n",
      "4 de Bastos\n",
      "5 de Bastos\n",
      "6 de Bastos\n",
      "7 de Bastos\n",
      "Sota de Bastos\n",
      "Caballo de Bastos\n",
      "Rey de Bastos\n",
      "\n"
     ]
    }
   ],
   "source": [
    "palos = [\"Oros\", \"Copas\", \"Espadas\", \"Bastos\"]\n",
    "naipes = [1, 2, 3, 4, 5, 6, 7, \"Sota\", \"Caballo\", \"Rey\"]\n",
    "\n",
    "for palo in palos:\n",
    "    for naipe in naipes:\n",
    "        print(naipe, \"de\", palo,)\n",
    "    print()"
   ]
  },
  {
   "cell_type": "code",
   "execution_count": null,
   "id": "689c8e3e",
   "metadata": {},
   "outputs": [],
   "source": []
  }
 ],
 "metadata": {
  "kernelspec": {
   "display_name": "Python 3 (ipykernel)",
   "language": "python",
   "name": "python3"
  },
  "language_info": {
   "codemirror_mode": {
    "name": "ipython",
    "version": 3
   },
   "file_extension": ".py",
   "mimetype": "text/x-python",
   "name": "python",
   "nbconvert_exporter": "python",
   "pygments_lexer": "ipython3",
   "version": "3.10.9"
  }
 },
 "nbformat": 4,
 "nbformat_minor": 5
}

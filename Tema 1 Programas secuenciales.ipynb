{
 "cells": [
  {
   "cell_type": "code",
   "execution_count": 12,
   "id": "d42071e5",
   "metadata": {},
   "outputs": [
    {
     "name": "stdout",
     "output_type": "stream",
     "text": [
      "254\n",
      "hola qué tal, como estás\n",
      "Hola qué tal como estás\n",
      "resultado: 34\n",
      "hola qué tal\n",
      " ¿Cómo estás?\n",
      "39\n",
      "hola python\n",
      "18\n",
      "hola hola hola \n",
      " hola hola hola hola hola\n",
      "hola anaconda\n",
      "hola-anaconda\n",
      "estamos acabandola clase\n"
     ]
    }
   ],
   "source": [
    "# esto es una celda de código (Python)\n",
    "# Para ejecutarla, presionar Ctr-Intro\n",
    "\n",
    "print(254) # escribe un nº\n",
    "print(\"hola qué tal, como estás\") # escribe un mensaje (cadena, string)\n",
    "print(\"Hola\", \"qué tal como estás\") # varias cosas\n",
    "print(\"resultado:\", 34)  # la coma se reemplaza por espacios\n",
    "print(\"hola qué tal\\n ¿Cómo estás?\") #caracter de escape \\n\n",
    "\n",
    "#imprimir sumas\n",
    "print (23 + 16) # + para números\n",
    "print (\"hola \" + \"python\") # mas para cadenas\n",
    "\n",
    "# imprimir productos\n",
    "print( 3 * 6)\n",
    "print (\"hola \" * 3)\n",
    "print(5 * \" hola\")\n",
    "print(\"hola\", \"anaconda\") # por defecto la coma es un espacio\n",
    "print(\"hola\", \"anaconda\", sep=\"-\") # pero puedo cambiarlo por otra cosa como un guión\n",
    "\n",
    "print(\"estamos acabando\", end=\"\") # para que escriba el print siguiente de seguido a este no ponemos nada entre las comillas\n",
    "print(\"la clase\")"
   ]
  },
  {
   "cell_type": "code",
   "execution_count": null,
   "id": "3831b850",
   "metadata": {},
   "outputs": [],
   "source": []
  }
 ],
 "metadata": {
  "kernelspec": {
   "display_name": "Python 3 (ipykernel)",
   "language": "python",
   "name": "python3"
  },
  "language_info": {
   "codemirror_mode": {
    "name": "ipython",
    "version": 3
   },
   "file_extension": ".py",
   "mimetype": "text/x-python",
   "name": "python",
   "nbconvert_exporter": "python",
   "pygments_lexer": "ipython3",
   "version": "3.10.9"
  }
 },
 "nbformat": 4,
 "nbformat_minor": 5
}

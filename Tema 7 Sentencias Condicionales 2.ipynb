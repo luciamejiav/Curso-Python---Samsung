{
 "cells": [
  {
   "cell_type": "markdown",
   "id": "ccd1ba98",
   "metadata": {},
   "source": [
    "# Unidad 7 - Sentencias Condicionales - II"
   ]
  },
  {
   "cell_type": "markdown",
   "id": "e58d90ec",
   "metadata": {},
   "source": [
    "## El problema de la sentencia `if`\n",
    "\n",
    "La sentencia `if` no es suficiente para resolver de forma adecuada algunos problemas; por ejemplo, saludar de una u otra forma según la hora del día:"
   ]
  },
  {
   "cell_type": "code",
   "execution_count": null,
   "id": "ea13c04c",
   "metadata": {},
   "outputs": [],
   "source": [
    "hour = 10\n",
    "\n",
    "if hour < 12:\n",
    "    print(\"good morning\")\n",
    "    \n",
    "if hour >= 12:\n",
    "    print(\"good evening\")"
   ]
  },
  {
   "cell_type": "markdown",
   "id": "4f9ee0c7",
   "metadata": {},
   "source": [
    "Estamos comprobando **explícitamente** una condición (`hour < 12`) y su contraria o negación (`hour >=12`)."
   ]
  },
  {
   "cell_type": "markdown",
   "id": "f6d16b4e",
   "metadata": {},
   "source": [
    "## La sentencia `if else`\n",
    "\n",
    "La sentencia `if else` permite prescindir de la comprobación explícita de la condición negada; es decir, permite elegir entre dos opciones. A esto se le llama **selección alternativa**."
   ]
  },
  {
   "cell_type": "code",
   "execution_count": null,
   "id": "00f83ed7",
   "metadata": {},
   "outputs": [],
   "source": [
    "hour = 10\n",
    "\n",
    "if hour < 12:\n",
    "    print(\"good morning\")\n",
    "else:\n",
    "    print(\"good evening\")\n",
    "    \n",
    "print(hour)"
   ]
  },
  {
   "cell_type": "markdown",
   "id": "6dcb6a49",
   "metadata": {},
   "source": [
    "**Ejemplo:** indicar en un mensaje si un entero es par o impar."
   ]
  },
  {
   "cell_type": "code",
   "execution_count": null,
   "id": "820ac972",
   "metadata": {},
   "outputs": [],
   "source": [
    "n = int(input(\"dame un número: \"))\n",
    "\n",
    "if n % 2 == 0:\n",
    "    print(n, \"es par\")\n",
    "else:\n",
    "    print(n, \"es impar\")"
   ]
  },
  {
   "cell_type": "markdown",
   "id": "7080adcd",
   "metadata": {},
   "source": [
    "## Sentencias anidadas\n",
    "\n",
    "Hemos visto que dentro de una sentencia de control pueden aparecer otras sentencias que forman un bloque; es decir, una secuencia de sentencias que se ejecutan secuencialmente:"
   ]
  },
  {
   "cell_type": "code",
   "execution_count": null,
   "id": "a66ca161",
   "metadata": {},
   "outputs": [],
   "source": [
    "age = 21\n",
    "num_adults = 0\n",
    "\n",
    "if age >= 18:\n",
    "    print(\"you're an adult\")      # bloque: control secuencial (Unidad 1)\n",
    "    num_adults = num_adults + 1\n",
    "    is_adult = True\n",
    "    \n",
    "print(num_adults)"
   ]
  },
  {
   "cell_type": "markdown",
   "id": "d2df659a",
   "metadata": {},
   "source": [
    "Es posible que dentro de una sentencia de control aparezca a su vez otra sentencia de control. A esto se le llama **control anidado**.\n",
    "\n",
    "**Ejemplo:** indicar en un mensaje si un entero es:\n",
    "- negativo,\n",
    "- cero,\n",
    "- positivo."
   ]
  },
  {
   "cell_type": "code",
   "execution_count": null,
   "id": "a884e3cc",
   "metadata": {},
   "outputs": [],
   "source": [
    "n = int(input(\"dema un número: \"))\n",
    "\n",
    "if n < 0:\n",
    "    print(n, \"es negativo\")\n",
    "else:\n",
    "    # n >= 0\n",
    "    if n == 0:\n",
    "        print(n, \"es cero\")\n",
    "    else:\n",
    "        # n != 0 and n >= 0   ---> n > 0\n",
    "        print(n, \"es positivo\")\n"
   ]
  },
  {
   "cell_type": "code",
   "execution_count": null,
   "id": "031f3c5e",
   "metadata": {},
   "outputs": [],
   "source": [
    "n = int(input(\"dema un número: \"))\n",
    "\n",
    "if n >= 0:   # n >=0 es una \"guarda\"\n",
    "    # n >= 0\n",
    "    if n > 0:\n",
    "        print(n, \"es positivo\")\n",
    "    else:\n",
    "        # n >= 0 and n <= 0 ---> n == 0\n",
    "        print(n, \"es cero\")\n",
    "else:\n",
    "    # n < 0\n",
    "    print(n, \"es negativo\")"
   ]
  },
  {
   "cell_type": "markdown",
   "id": "6b8716fb",
   "metadata": {},
   "source": [
    "## La sentencia `if elif else`\n",
    "\n",
    "El control anidado es más complicado, aunque a veces es inevitable.\n",
    "\n",
    "Hay situaciones como la anterior que son muy comunes: lo que queremos es elegir una opción entre tres posibles (negativo, cero o positivo). A esto se le llama **selección múltiple**.\n",
    "\n",
    "Para tales ocasiones podemos evitar el control anidado y utilizar la sentencia de selección múltiple `if elif else`:"
   ]
  },
  {
   "cell_type": "code",
   "execution_count": null,
   "id": "6be8dab4",
   "metadata": {},
   "outputs": [],
   "source": [
    "n = int(input(\"dame un número: \"))\n",
    "\n",
    "if n <  0:\n",
    "    print(n, \"es negativo\")\n",
    "elif n == 0:\n",
    "    print(n, \"es cero\")\n",
    "else:\n",
    "    # n >= 0 and n != 0  ---> n > 0\n",
    "    print(n, \"es positivo\")"
   ]
  },
  {
   "cell_type": "markdown",
   "id": "93e44d8a",
   "metadata": {},
   "source": [
    "**Ejemplo:** Traducir de nota numérica a calificación alfabética."
   ]
  },
  {
   "cell_type": "code",
   "execution_count": null,
   "id": "0660ac01",
   "metadata": {},
   "outputs": [],
   "source": [
    "# suspenso -> menos de 5,\n",
    "# aprobado -> entre 5 y menos de 7\n",
    "# notable -> entre 7 y menos de 9 \n",
    "# sobresaliente -> entre 9 y 10\n",
    "\n",
    "nota = float(input(\"dame la nota: \"))\n",
    "\n",
    "if nota < 0 or nota > 10:\n",
    "    print(\"nota incorrecta\")  # control de errores\n",
    "elif nota < 5:\n",
    "    print(\"suspenso\")\n",
    "elif nota < 7: #seria igual que poner  n >= 5 and n < 7 porque como antes ya hemos comprobado que es mayor que 5 no hace falta ponerlo ahora\n",
    "    print(\"aprobado\")\n",
    "elif nota < 9: #n >= 7 and n < 9\n",
    "    print(\"notable\")\n",
    "else: #si es mayor que 9\n",
    "    print(\"sobresaliente\")"
   ]
  },
  {
   "cell_type": "code",
   "execution_count": null,
   "id": "048aef76",
   "metadata": {},
   "outputs": [],
   "source": [
    "nota = float(input(\"dame la nota: \"))\n",
    "calificacion = \"esto nunca debe salir\"\n",
    "\n",
    "if nota < 0 or nota > 10:\n",
    "    calificacion = \"nota incorrecta\"  # control de errores\n",
    "else:\n",
    "    # nota >= 0 and nota <= 10\n",
    "    if nota < 5:\n",
    "        calificacion = \"suspenso\"\n",
    "    elif nota < 7:\n",
    "        calificacion = \"aprobado\"\n",
    "    elif nota < 9:\n",
    "        calificacion = \"notable\"\n",
    "    else:\n",
    "        calificacion = \"sobresaliente\"\n",
    "        \n",
    "print(calificacion)"
   ]
  },
  {
   "cell_type": "code",
   "execution_count": null,
   "id": "ca8fc16f",
   "metadata": {
    "scrolled": true
   },
   "outputs": [],
   "source": [
    "nota = float(input(\"dame la nota: \"))\n",
    "\n",
    "calificacion = \"nota incorrecta\"\n",
    "\n",
    "if nota >= 0 and nota <= 10:\n",
    "    if nota < 5:\n",
    "        calificacion = \"suspenso\"\n",
    "    elif nota < 7:\n",
    "        calificacion = \"aprobado\"\n",
    "    elif nota < 9:\n",
    "        calificacion = \"notable\"\n",
    "    else:\n",
    "        calificacion = \"sobresaliente\"\n",
    "        \n",
    "print(calificacion)"
   ]
  },
  {
   "cell_type": "markdown",
   "id": "5f650018",
   "metadata": {},
   "source": [
    "## Sentencias condicionales y expresiones booleanas\n",
    "\n",
    "Las sentencias condicionales, como todas las sentencias de control, dirigen el flujo del programa según el valor de las expresiones booleanas que actúan de guardas. Por ello, es muy importante entender bien las expresiones booleanas.\n",
    "\n",
    "La siguiente expresión booleana es una solución al problema de los años bisiestos:"
   ]
  },
  {
   "cell_type": "code",
   "execution_count": null,
   "id": "6e9d5ea5",
   "metadata": {},
   "outputs": [],
   "source": [
    "year = 100\n",
    "(year % 4 == 0 and year % 100 != 0) or year % 400 == 0"
   ]
  },
  {
   "cell_type": "markdown",
   "id": "20513e75",
   "metadata": {},
   "source": [
    "Aquí tenemos otra solución al mismo problema:"
   ]
  },
  {
   "cell_type": "code",
   "execution_count": null,
   "id": "3b554ce5",
   "metadata": {},
   "outputs": [],
   "source": [
    "year % 4 == 0 and (year % 100 != 0 or year % 400 == 0) #SOLUCIÓN BUENA"
   ]
  },
  {
   "cell_type": "markdown",
   "id": "6da62d6e",
   "metadata": {},
   "source": [
    "Aunque las soluciones se parecen mucho, son ligeramente diferentes. Las siguientes expresiones booleanas siguen el esquema de las soluciones anteriores y devuelven valores diferentes para los mismos valores de `a`, `b` y `c`:"
   ]
  },
  {
   "cell_type": "code",
   "execution_count": null,
   "id": "c0b0049a",
   "metadata": {},
   "outputs": [],
   "source": [
    "a = False\n",
    "b = False\n",
    "c = True\n",
    "\n",
    "print( (a and b)  or c )   # primera solución\n",
    "print( a and (b   or c))   # segunda solución"
   ]
  },
  {
   "cell_type": "markdown",
   "id": "6b4fde7f",
   "metadata": {},
   "source": [
    "En el caso de los años bisiestos la diferencia no importa (anque la segunda solución es mejor), porque las condiciones `a` (`year % 4 == 0`) y `c` (`year % 400 == 0`) no son independientes: si se cumple `c`, se cumple `a`. "
   ]
  },
  {
   "cell_type": "markdown",
   "id": "0d75eff1",
   "metadata": {},
   "source": [
    "**Ejemplo** La frutería de David."
   ]
  },
  {
   "cell_type": "code",
   "execution_count": null,
   "id": "b096ddb5",
   "metadata": {},
   "outputs": [],
   "source": [
    "print('#' * 50)\n",
    "print(\"This is David's fruit shop\")\n",
    "print(\"1: Apple\\tprice: 5000 won\")\n",
    "print(\"2: Grape\\tprice: 6000 won\")\n",
    "print(\"3: Melon\\tprice: 8000 won\")\n",
    "print(\"4: Orange\\tprice: 2000 won\")\n",
    "print('#' * 50)\n",
    "\n",
    "order = int(input(\"Enter item number (between 1~4) >>\"))\n",
    "count = int(input(\"Enter number of items (between 1~10) >>\"))\n",
    "\n",
    "if order == 1:\n",
    "    fruit = \"Apple\"\n",
    "    price = 5000\n",
    "elif order == 2:\n",
    "    fruit = \"Grape\"\n",
    "    price = 6000\n",
    "elif order == 3:\n",
    "    fruit = \"Mellon\"\n",
    "    price = 8000\n",
    "else:\n",
    "    fruit = \"Orange\"\n",
    "    price = 2000\n",
    "\n",
    "print(\"Fruit selected:\", fruit)\n",
    "print(\"Price:\", price)\n",
    "print(\"Quantity:\", count)\n",
    "total_price = price * count\n",
    "print(\"Total price is\", total_price, \"won\")\n",
    "\n",
    "money = int(input(\"Insert money please (ex: 15000) >>\"))\n",
    "if money < total_price:\n",
    "    print(\"Not enough money\")\n",
    "else:\n",
    "    change = money - total_price\n",
    "    print(money, \"won received. Your change is\", change, \"won\")\n"
   ]
  },
  {
   "cell_type": "markdown",
   "id": "36bf5729",
   "metadata": {},
   "source": [
    "**Ejemplo:** Login con usuario y contraseña."
   ]
  },
  {
   "cell_type": "code",
   "execution_count": null,
   "id": "731a694e",
   "metadata": {},
   "outputs": [],
   "source": [
    "user_name = input(\"nombre de usuario: \")\n",
    "password = input(\"contraseña: \")\n",
    "\n",
    "# 3 caminos: éxito, user_name incorrecto, password incorrecta\n",
    "\n",
    "if user_name == \"Giorgina\" and password == \"123\":\n",
    "    print(\"Welcome\", user_name)\n",
    "#  (user_name != \"Giorgina\" or password != \"123\")\n",
    "elif user_name != \"Giorgina\":\n",
    "    print(\"nombre incorrecto\")\n",
    "else:\n",
    "    # user_name == \"Giorgina\"\n",
    "    print(\"contraseña incorrecta\")"
   ]
  },
  {
   "cell_type": "markdown",
   "id": "1f3bfcd9",
   "metadata": {},
   "source": [
    "## Números aleatorios en Python\n",
    "\n",
    "Python no sabe nada acerca de números aleatorios, como tampoco sabe de Aprendizaje Automático (_Machine Learning_).\n",
    "Sin embargo, Python puede _aprender_ cosas nuevas: basta **importar** un módulo o biblioteca para que Python adquiera nuevas habilidades. Para importar un módulo usamos la sentencia `import`:\n",
    "\n",
    "> `import` _nombre_del_modulo_"
   ]
  },
  {
   "cell_type": "code",
   "execution_count": 1,
   "id": "ae8674b7",
   "metadata": {},
   "outputs": [],
   "source": [
    "import random"
   ]
  },
  {
   "cell_type": "markdown",
   "id": "5db443d9",
   "metadata": {},
   "source": [
    "El módulo `random` le _enseña_ a Python cómo generar números aleatorios.\n",
    "\n",
    "No es necesario saber cómo está hecho un módulo por dentro ni cómo funciona; basta saber usarlo, es decir, saber qué funciones le _enseña_ a Python. Para el módulo `random` nos interesan dos funciones:\n",
    "\n",
    "| Función          | Significado                    |\n",
    "|------------------|--------------------------------|\n",
    "| `randint(l,u)`   | devuelve un aleatorio en [l,u] |\n",
    "| `randrange(l,u)` | devuelve un aleatorio en [l,u) |\n",
    "\n",
    "\n",
    "En general, para saber qué nos ofrece un módulo podemos consultar su documentación o usar la función `help()`."
   ]
  },
  {
   "cell_type": "code",
   "execution_count": 2,
   "id": "f964c3bb",
   "metadata": {
    "scrolled": true
   },
   "outputs": [
    {
     "name": "stdout",
     "output_type": "stream",
     "text": [
      "Help on method randint in module random:\n",
      "\n",
      "randint(a, b) method of random.Random instance\n",
      "    Return random integer in range [a, b], including both end points.\n",
      "\n"
     ]
    }
   ],
   "source": [
    "help(random.randint)"
   ]
  },
  {
   "cell_type": "code",
   "execution_count": null,
   "id": "41e4ca47",
   "metadata": {},
   "outputs": [],
   "source": [
    "random.randint(1,6) # nº aleatorio de 1 a 6"
   ]
  },
  {
   "cell_type": "code",
   "execution_count": null,
   "id": "309828fa",
   "metadata": {},
   "outputs": [],
   "source": [
    "random.randrange(1,6) # nº aleatorio de 1 a 5"
   ]
  },
  {
   "cell_type": "markdown",
   "id": "58dc9a6c",
   "metadata": {},
   "source": [
    "**Ejemplo**: lanzar una moneda y anunciar el resultado."
   ]
  },
  {
   "cell_type": "code",
   "execution_count": null,
   "id": "d4845b69",
   "metadata": {},
   "outputs": [],
   "source": [
    "moneda = random.randint(1,2)\n",
    "\n",
    "if moneda == 1:\n",
    "    print(\"cara\")\n",
    "else:\n",
    "    print(\"cruz\")"
   ]
  },
  {
   "cell_type": "markdown",
   "id": "8aa2a617",
   "metadata": {},
   "source": [
    "## Solución del primer ejercicio de paper coding (404)"
   ]
  },
  {
   "cell_type": "code",
   "execution_count": null,
   "id": "5a52455d",
   "metadata": {},
   "outputs": [],
   "source": [
    "letra = input(\"Introduce una letra: \")\n",
    "\n",
    "if letra in \"aeiouAEIOU\":\n",
    "    print(\"Es una vocal\")\n",
    "elif letra in \"0123456789\":\n",
    "    print(\"¡He dicho una letra! No un número\")\n",
    "else:\n",
    "    print(\"Es una consonante\")"
   ]
  },
  {
   "cell_type": "markdown",
   "id": "cd2d8a6e",
   "metadata": {},
   "source": [
    "## Solución del segundo ejercicio de paper coding (405)"
   ]
  },
  {
   "cell_type": "code",
   "execution_count": null,
   "id": "3b45b143",
   "metadata": {},
   "outputs": [],
   "source": [
    "a, b = input(\"Dime dos número separados por un espacio: \").split()\n",
    "a, b = int(a), int(b)\n",
    "if a % b == 0:\n",
    "    print(a, \"es múltiplo de\", b)\n",
    "else:\n",
    "    print(a, \"no es multiplo de\", b)"
   ]
  },
  {
   "cell_type": "markdown",
   "id": "62a40f67",
   "metadata": {},
   "source": [
    "## Solución del primer ejercicio de pair programming (421)"
   ]
  },
  {
   "cell_type": "code",
   "execution_count": null,
   "id": "13d855a4",
   "metadata": {},
   "outputs": [],
   "source": [
    "print(\"1) Addition\")\n",
    "print(\"2) Substraction\")\n",
    "print(\"3) Multiplication\")\n",
    "print(\"4) Division\")\n",
    "\n",
    "a = int(input(\"Introduce un número entero positivo: \"))\n",
    "b = int(input(\"Introduce otro número entero positivo: \"))\n",
    "operacion = int(input(\"Introduce el número de la operación que te gustaría realizar: \"))\n",
    "\n",
    "operador = \"sin definir\"\n",
    "\n",
    "if a < 0 or b < 0:\n",
    "    print(\"Has introducido un número negativo\")\n",
    "elif operacion < 1 or operacion > 4:\n",
    "    print(\"Operación no disponible\")\n",
    "else:\n",
    "    if operacion == 1:\n",
    "        operador = \"+\"\n",
    "        solucion = a + b\n",
    "    elif operacion == 2:\n",
    "        operador = \"-\"\n",
    "        solucion = a - b\n",
    "    elif operacion == 3:\n",
    "        operador = \"*\"\n",
    "        solucion = a * b\n",
    "    else:\n",
    "        operador = \"/\"\n",
    "        if b == 0:\n",
    "            solucion = \"Error: división por cero\"\n",
    "        else:\n",
    "            solucion = a / b # //\n",
    "        \n",
    "# print(\"La solución es: \", solucion)\n",
    "if operador != \"sin definir\":\n",
    "    print(a, operador, b, \"=\", solucion)"
   ]
  },
  {
   "cell_type": "markdown",
   "id": "ee789da2",
   "metadata": {},
   "source": [
    "## Solución del segundo ejercicio de pair programming (422)"
   ]
  },
  {
   "cell_type": "code",
   "execution_count": null,
   "id": "c5d03731",
   "metadata": {},
   "outputs": [],
   "source": [
    "x = float(input(\"Escriba un número para la coordenada x: \"))\n",
    "y = float(input(\"Escriba un número para la coordenada y: \"))\n",
    "\n",
    "if x > 0 and y > 0:\n",
    "    print(\"Pertenece al cuadrante 1.\")\n",
    "elif x < 0 and y > 0:\n",
    "    print(\"Pertenece al cuadrante 2.\")\n",
    "elif x < 0 and y < 0:\n",
    "    print(\"Pertenece al cuadrante 3.\")\n",
    "elif x > 0 and y < 0:\n",
    "    print(\"Pertenece al cuadrante 4.\")\n",
    "elif x == 0 and y == 0:\n",
    "    print(\"Posición 0,0 de ambos ejes.\")\n",
    "elif x == 0:\n",
    "    print(\"Posición 0 sobre el eje y.\")\n",
    "elif y == 0:\n",
    "    print(\"Posición 0 sobre el eje x.\")"
   ]
  },
  {
   "cell_type": "markdown",
   "id": "d9609144",
   "metadata": {},
   "source": [
    "## Solución del tercer ejercicio de pair programming (423)"
   ]
  },
  {
   "cell_type": "code",
   "execution_count": null,
   "id": "e9fc5bdf",
   "metadata": {},
   "outputs": [],
   "source": [
    "print(\"Bienvenido a Yummy Restaurant!\")\n",
    "print(\"Aquí tiene el menu:\")\n",
    "print(\"- Hamburguesa (enter a)\")\n",
    "print(\"- Pollo frito con patatas (enter b)\")\n",
    "print(\"- Pizza de jamón y queso (enter c)\")\n",
    "\n",
    "eleccion = input(\"Elija la letra de su menú (enter a, b, c): \")\n",
    "\n",
    "if eleccion == 'a':\n",
    "    menu = 'Hamburguesa'\n",
    "elif eleccion == 'b':\n",
    "    menu = 'Pollo frito con patatas'\n",
    "elif eleccion == 'c':\n",
    "    menu = 'Pizza de jamón y queso'\n",
    "else:\n",
    "    print(\"Ingrese la letra de su menú de nuevo\")\n",
    "    eleccion = input(\"Elija la letra de su menú (enter a, b, c): \")\n",
    "    if eleccion == 'a':\n",
    "        menu = 'Hamburguesa'\n",
    "    elif eleccion == 'b':\n",
    "        menu = 'Pollo frito con patatas'\n",
    "    elif eleccion == 'c':\n",
    "        menu = 'Pizza de jamón y queso'\n",
    "    else:\n",
    "        menu = \"pues te quedas sin comer\" \n",
    "\n",
    "print(menu)"
   ]
  },
  {
   "cell_type": "code",
   "execution_count": null,
   "id": "d797306c",
   "metadata": {},
   "outputs": [],
   "source": [
    "print(\"Bienvenido a Yummy Restaurant!\")\n",
    "print(\"Aquí tiene el menu:\")\n",
    "print(\"- Hamburguesa (enter a)\")\n",
    "print(\"- Pollo frito con patatas (enter b)\")\n",
    "print(\"- Pizza de jamón y queso (enter c)\")\n",
    "\n",
    "eleccion = input(\"Elija la letra de su menú (enter a, b, c): \")\n",
    "if eleccion not in \"abc\":\n",
    "    print(\"opción incorrecta\")\n",
    "    eleccion = input(\"Elija la letra de su menú (enter a, b, c): \")\n",
    "    \n",
    "if eleccion == 'a':\n",
    "    menu = 'Hamburguesa'\n",
    "elif eleccion == 'b':\n",
    "    menu = 'Pollo frito con patatas'\n",
    "elif eleccion == 'c':\n",
    "    menu = 'Pizza de jamón y queso'\n",
    "else:\n",
    "    menu = \"pues te quedas sin comer\" \n",
    "\n",
    "print(menu)"
   ]
  },
  {
   "cell_type": "markdown",
   "id": "a3320f6f",
   "metadata": {},
   "source": [
    "## Solución del mission problem (367)"
   ]
  },
  {
   "cell_type": "code",
   "execution_count": null,
   "id": "dd365f57",
   "metadata": {},
   "outputs": [],
   "source": [
    "import random\n",
    "\n",
    "penalty = random.randint(1,3)\n",
    "\n",
    "if penalty == 1:\n",
    "    direccion_penalty = \"derecha\"\n",
    "elif penalty == 2:\n",
    "    direccion_penalty = \"centro\"\n",
    "else:\n",
    "    direccion_penalty = \"izquierda\"\n",
    "\n",
    "seleccion_portero = int(input(\"Introduce 1 para tirarte a la dcha, 2 para permanecer en el centro o 3 para tirarte a la izq\"))\n",
    "\n",
    "if seleccion_portero == 1:\n",
    "    movimiento_portero = \"derecha\"\n",
    "elif seleccion_portero == 2:\n",
    "    movimiento_portero = \"centro\"\n",
    "elif seleccion_portero == 3:\n",
    "    movimiento_portero = \"izquierda\"\n",
    "else:\n",
    "    print(\"La opción seleccionada no es válida\")\n",
    "\n",
    "if direccion_penalty == movimiento_portero:\n",
    "    print (\"Bien!!! has parado el penalty\")\n",
    "else:\n",
    "    print(\"Oh!!!! te han metido un gol\")\n",
    "    print(\"Tu elección ha sido\", movimiento_portero)  "
   ]
  }
 ],
 "metadata": {
  "kernelspec": {
   "display_name": "Python 3 (ipykernel)",
   "language": "python",
   "name": "python3"
  },
  "language_info": {
   "codemirror_mode": {
    "name": "ipython",
    "version": 3
   },
   "file_extension": ".py",
   "mimetype": "text/x-python",
   "name": "python",
   "nbconvert_exporter": "python",
   "pygments_lexer": "ipython3",
   "version": "3.10.9"
  }
 },
 "nbformat": 4,
 "nbformat_minor": 5
}

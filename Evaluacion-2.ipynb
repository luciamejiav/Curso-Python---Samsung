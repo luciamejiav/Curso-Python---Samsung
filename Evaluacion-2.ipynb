{
 "cells": [
  {
   "cell_type": "markdown",
   "id": "24834199",
   "metadata": {},
   "source": [
    "# Curso de IA Samsung - Programación en Python\n",
    "## Segunda prueba de evaluación\n",
    "\n",
    "- La prueba consta de 8 ejercicios\n",
    "- La puntuación máxima es 10 puntos\n",
    "- Solo puedes utilizar las sentencias, expresiones, funciones y métodos cubiertos en el curso\n",
    "- No puedes utilizar `break`, `continue` o `return` dentro de un bucle\n",
    "- Debes entregar un _notebook_ (`.ipynb`), no un _script_ Python (`.py`)\n",
    "- Debes permanecer conectada a la sala principal durante toda la prueba de evaluación"
   ]
  },
  {
   "cell_type": "markdown",
   "id": "7ccff267",
   "metadata": {},
   "source": [
    "## Diccionarios (5 puntos)\n",
    "\n",
    "Dado el siguiente diccionario con las notas de varios estudiantes:"
   ]
  },
  {
   "cell_type": "code",
   "execution_count": 97,
   "id": "8c4343f5",
   "metadata": {},
   "outputs": [],
   "source": [
    "notas = {  \"ana\"    : { \"inglés\" : 7,\n",
    "                        \"francés\" : 6,\n",
    "                        \"lengua\" : 8.5,\n",
    "                        \"literatura\" : 5,\n",
    "                        \"matemáticas\" : 9,\n",
    "                        \"física\" : 6.5,\n",
    "                        \"química\" : 5\n",
    "                      },\n",
    "         \n",
    "           \"miguel\" : { \"inglés\" : 4,\n",
    "                        \"francés\" : 6,\n",
    "                        \"lengua\" : 6,\n",
    "                        \"literatura\" : 5,\n",
    "                        \"matemáticas\" : 3,\n",
    "                        \"física\" : 5,\n",
    "                        \"química\" : 5\n",
    "                      },\n",
    "         \n",
    "            \"maria\" : { \"inglés\" : 10,\n",
    "                        \"francés\" : 7,\n",
    "                        \"lengua\" : 4,\n",
    "                        \"literatura\" : 5,\n",
    "                        \"matemáticas\" : 4,\n",
    "                        \"física\" : 4,\n",
    "                        \"química\" : 6.5\n",
    "                      },\n",
    "         \n",
    "            \"inés\"  : { \"inglés\" : 8.5,\n",
    "                        \"francés\" : 4,\n",
    "                        \"lengua\" : 5,\n",
    "                        \"literatura\" : 7,\n",
    "                        \"matemáticas\" : 9,\n",
    "                        \"física\" : 4,\n",
    "                        \"química\" : 8\n",
    "                      },\n",
    "        \n",
    "        }"
   ]
  },
  {
   "cell_type": "markdown",
   "id": "ca766651",
   "metadata": {},
   "source": [
    "1. Añade a `notas` una estudiante llamada `rosa` con las siguientes calificaciones:\n",
    "\n",
    "| Asignatura  | Calificación |\n",
    "|-------------|--------------|\n",
    "| Inglés      |      8       |\n",
    "| Francés     |      8       |\n",
    "| Lengua      |     6.5      |\n",
    "| Literatura  |     7.5      |\n",
    "| Matemáticas |      4       |\n",
    "| Física      |      4       |\n",
    "| Química     |      6       |"
   ]
  },
  {
   "cell_type": "code",
   "execution_count": 98,
   "id": "6db0ec3a",
   "metadata": {},
   "outputs": [
    {
     "data": {
      "text/plain": [
       "{'ana': {'inglés': 7,\n",
       "  'francés': 6,\n",
       "  'lengua': 8.5,\n",
       "  'literatura': 5,\n",
       "  'matemáticas': 9,\n",
       "  'física': 6.5,\n",
       "  'química': 5},\n",
       " 'miguel': {'inglés': 4,\n",
       "  'francés': 6,\n",
       "  'lengua': 6,\n",
       "  'literatura': 5,\n",
       "  'matemáticas': 3,\n",
       "  'física': 5,\n",
       "  'química': 5},\n",
       " 'maria': {'inglés': 10,\n",
       "  'francés': 7,\n",
       "  'lengua': 4,\n",
       "  'literatura': 5,\n",
       "  'matemáticas': 4,\n",
       "  'física': 4,\n",
       "  'química': 6.5},\n",
       " 'inés': {'inglés': 8.5,\n",
       "  'francés': 4,\n",
       "  'lengua': 5,\n",
       "  'literatura': 7,\n",
       "  'matemáticas': 9,\n",
       "  'física': 4,\n",
       "  'química': 8},\n",
       " 'rosa': {'inglés': 8,\n",
       "  'francés': 8,\n",
       "  'lengua': 6.5,\n",
       "  'literatura': 7.5,\n",
       "  'matemáticas': 4,\n",
       "  'física': 4,\n",
       "  'química': 6}}"
      ]
     },
     "execution_count": 98,
     "metadata": {},
     "output_type": "execute_result"
    }
   ],
   "source": [
    "\n",
    "notas['rosa'] = {'inglés':8, 'francés':8, 'lengua':6.5, 'literatura':7.5, 'matemáticas':4, 'física':4, 'química':6}\n",
    "\n",
    "notas\n"
   ]
  },
  {
   "cell_type": "markdown",
   "id": "a08b9991",
   "metadata": {},
   "source": [
    "2. Modifica la calificación de `rosa` para subir la nota de `Física` a un `5`:"
   ]
  },
  {
   "cell_type": "code",
   "execution_count": 99,
   "id": "d6f65cdd",
   "metadata": {},
   "outputs": [
    {
     "data": {
      "text/plain": [
       "{'ana': {'inglés': 7,\n",
       "  'francés': 6,\n",
       "  'lengua': 8.5,\n",
       "  'literatura': 5,\n",
       "  'matemáticas': 9,\n",
       "  'física': 6.5,\n",
       "  'química': 5},\n",
       " 'miguel': {'inglés': 4,\n",
       "  'francés': 6,\n",
       "  'lengua': 6,\n",
       "  'literatura': 5,\n",
       "  'matemáticas': 3,\n",
       "  'física': 5,\n",
       "  'química': 5},\n",
       " 'maria': {'inglés': 10,\n",
       "  'francés': 7,\n",
       "  'lengua': 4,\n",
       "  'literatura': 5,\n",
       "  'matemáticas': 4,\n",
       "  'física': 4,\n",
       "  'química': 6.5},\n",
       " 'inés': {'inglés': 8.5,\n",
       "  'francés': 4,\n",
       "  'lengua': 5,\n",
       "  'literatura': 7,\n",
       "  'matemáticas': 9,\n",
       "  'física': 4,\n",
       "  'química': 8},\n",
       " 'rosa': {'inglés': 8,\n",
       "  'francés': 8,\n",
       "  'lengua': 6.5,\n",
       "  'literatura': 7.5,\n",
       "  'matemáticas': 4,\n",
       "  'física': 5,\n",
       "  'química': 6}}"
      ]
     },
     "execution_count": 99,
     "metadata": {},
     "output_type": "execute_result"
    }
   ],
   "source": [
    "notas['rosa']['física'] = 5\n",
    "notas"
   ]
  },
  {
   "cell_type": "markdown",
   "id": "c9826677",
   "metadata": {},
   "source": [
    "3. Solicita el nombre de una asignatura por teclado y muestra las calificaciones que han obtenido los estudiantes en dicha asignatura. Puedes suponer que todos los estudiantes han cursado las mismas asignaturas. Si la asignatura introducida no es correcta, se debe mostrar un mensaje de error:"
   ]
  },
  {
   "cell_type": "code",
   "execution_count": 115,
   "id": "af662f38",
   "metadata": {},
   "outputs": [
    {
     "ename": "SyntaxError",
     "evalue": "invalid syntax. Perhaps you forgot a comma? (2096411558.py, line 3)",
     "output_type": "error",
     "traceback": [
      "\u001b[1;36m  Cell \u001b[1;32mIn[115], line 3\u001b[1;36m\u001b[0m\n\u001b[1;33m    print(notas[])\u001b[0m\n\u001b[1;37m          ^\u001b[0m\n\u001b[1;31mSyntaxError\u001b[0m\u001b[1;31m:\u001b[0m invalid syntax. Perhaps you forgot a comma?\n"
     ]
    }
   ],
   "source": []
  },
  {
   "cell_type": "markdown",
   "id": "6ac3146c",
   "metadata": {},
   "source": [
    "4. Muestra aquellos estudiantes que han supendido al menos una asignatura:"
   ]
  },
  {
   "cell_type": "code",
   "execution_count": null,
   "id": "c93c593f",
   "metadata": {},
   "outputs": [],
   "source": []
  },
  {
   "cell_type": "markdown",
   "id": "6d7f3bee",
   "metadata": {},
   "source": [
    "5. Saca una copia profunda del diccionario `notas` y almacena dicha copia en un fichero `notas.json`:"
   ]
  },
  {
   "cell_type": "code",
   "execution_count": 100,
   "id": "0d598ed8",
   "metadata": {},
   "outputs": [],
   "source": [
    "import json\n",
    "\n",
    "copia = notas\n",
    "\n",
    "with open(\"notas.json\", 'w') as file:  \n",
    "    json.dump(copia, file)"
   ]
  },
  {
   "cell_type": "markdown",
   "id": "012eea44",
   "metadata": {},
   "source": [
    "## Media, máximo y mínimo (2 puntos)\n",
    "\n",
    "6. Define una función `max_min_med(lst)` que calcule el máximo, el mínimo y la media aritmética de una lista de números `lst`. La respuesta se debe almacenar en una tupla con tres elementos. La función debe recorrer una sola vez `lst`. Si `lst` está vacía, se debe elevar un error `ValueError`. Por ejemplo, para la lista `[13, 8, 9, 45, 1, 0, 0, 6, 12]` se debe obtener la tupla `(45, 0, 10.44)`.\n"
   ]
  },
  {
   "cell_type": "code",
   "execution_count": 110,
   "id": "2a08e380",
   "metadata": {},
   "outputs": [
    {
     "name": "stdout",
     "output_type": "stream",
     "text": [
      "(45, 0, '10.44')\n"
     ]
    }
   ],
   "source": [
    "def max_min_med(lst):\n",
    "    if len(lst) == 0:\n",
    "        print(\"La lista no puede estar vacía\")\n",
    "        \n",
    "    maximo = max(lst)\n",
    "    minimo = min(lst)\n",
    "    suma = 0\n",
    "    \n",
    "    for n in lst:\n",
    "        if n > maximo:\n",
    "            maximo = n\n",
    "        if n < minimo:\n",
    "            minimo = n\n",
    "        suma += n\n",
    "        \n",
    "    media= suma / len(lst)\n",
    "    resultado = (maximo, minimo, \"{:4.2f}\".format(media))\n",
    "    return resultado\n",
    "\n",
    "lista = 13, 8, 9, 45, 1, 0, 0, 6, 12\n",
    "resultado = max_min_med(lista)\n",
    "print(resultado )"
   ]
  },
  {
   "cell_type": "markdown",
   "id": "6d6089cd",
   "metadata": {},
   "source": [
    "## Valores en rango (2 puntos)\n",
    "\n",
    "7. Define una función `en_rango(args, minimo, maximo)` que reciba un número indeterminado de argumentos y devuelva una lista con los argumentos tales que pertenezcan al rango `[minimo, maximo)`; es decir, que son mayores o iguales que `minimo` y menores que `maximo`. Por defecto el valor de `minimo` es `0` y el de `maximo` es `100`. Por ejemplo,\n",
    "`en_rango(5, 10, 8, 108, 200, -5, 7)` devuelve `[5, 10, 8, 7]`; mientras que `en_rango(5, 10, 78, 108, 200, -5, 71, minimo = -10, maximo = 10)` devuelve `[5, -5]`."
   ]
  },
  {
   "cell_type": "code",
   "execution_count": 113,
   "id": "c9532534",
   "metadata": {},
   "outputs": [
    {
     "name": "stdout",
     "output_type": "stream",
     "text": [
      "[5, 10, 8, 7]\n",
      "[5, -5]\n"
     ]
    }
   ],
   "source": [
    "def en_rango(*args, minimo = 0, maximo = 100):\n",
    "    lst = []\n",
    "    \n",
    "    for n in args:\n",
    "        if minimo <= n < maximo:\n",
    "            lst.append(n)\n",
    "            \n",
    "    return lst\n",
    "\n",
    "lista1 = en_rango(5, 10, 8, 108, 200, -5, 7)\n",
    "print(lista1)\n",
    "\n",
    "lista2 = en_rango(5, 10, 78, 108, 200, -5, 71, minimo = -10, maximo = 10)\n",
    "print(lista2)\n",
    "    "
   ]
  },
  {
   "cell_type": "markdown",
   "id": "604dc1aa",
   "metadata": {},
   "source": [
    "## Listas ordenadas (1 punto)\n",
    "\n",
    "8. Define una función `esta_ordenada(lst)` que devuelva `True` si una lista está ordenada ascendentemente y `False` en caso contrario. La función debe utilizar un bucle `while`. No puedes ordenar la lista previamente (`sort`, `sorted`, etc.). Por ejemplo, para las listas `[2,3,5,7,11,13]` y `[1,2,2,3,3,3]` la función debe devolver `True`, para las listas `[1,2,4,3,5]` y `[1,2,2,3,3,3,1]` debe devolver `False`."
   ]
  },
  {
   "cell_type": "code",
   "execution_count": 114,
   "id": "883fa7e7",
   "metadata": {},
   "outputs": [
    {
     "name": "stdout",
     "output_type": "stream",
     "text": [
      "True\n"
     ]
    }
   ],
   "source": [
    "def esta_ordenada(lst):\n",
    "    i = 0\n",
    "    n = len(lst)\n",
    "    \n",
    "    while i < (n - 1):\n",
    "        if lst[i] > lst[i + 1]:\n",
    "            return False\n",
    "        i += 1\n",
    "        \n",
    "    return True\n",
    "\n",
    "l1 = [2,3,5,7,11,13]\n",
    "r1 = esta_ordenada(l1)\n",
    "print (r1)\n",
    "    \n",
    "    "
   ]
  },
  {
   "cell_type": "code",
   "execution_count": null,
   "id": "60bb741f",
   "metadata": {},
   "outputs": [],
   "source": []
  }
 ],
 "metadata": {
  "kernelspec": {
   "display_name": "Python 3 (ipykernel)",
   "language": "python",
   "name": "python3"
  },
  "language_info": {
   "codemirror_mode": {
    "name": "ipython",
    "version": 3
   },
   "file_extension": ".py",
   "mimetype": "text/x-python",
   "name": "python",
   "nbconvert_exporter": "python",
   "pygments_lexer": "ipython3",
   "version": "3.10.9"
  }
 },
 "nbformat": 4,
 "nbformat_minor": 5
}
